{
 "cells": [
  {
   "cell_type": "code",
   "execution_count": 7,
   "id": "f6569e57-a378-4d6e-9381-bcb7391308a4",
   "metadata": {},
   "outputs": [
    {
     "data": {
      "text/html": [
       "<style type=\"text/css\">\n",
       "    h1{\n",
       "        color:red;\n",
       "    } \n",
       "    h2{\n",
       "        color:orange;\n",
       "    }\n",
       "    h3{\n",
       "        color:tomato;\n",
       "    } \n",
       "    h4{\n",
       "        color:purple;\n",
       "    }\n",
       "    h5{\n",
       "        color:green;\n",
       "    }\n",
       "    table{\n",
       "        border-collapse:collapse; \n",
       "    }\n",
       "    th{\n",
       "        color:blueviolet;\n",
       "        background-color:orange;\n",
       "    }\n",
       "    td:hover{\n",
       "        background-color:blueviolet;\n",
       "        scale:1.2;\n",
       "        transiction:1s all liner;\n",
       "        color:white;\n",
       "        \n",
       "    }\n",
       "</style>\n"
      ],
      "text/plain": [
       "<IPython.core.display.HTML object>"
      ]
     },
     "metadata": {},
     "output_type": "display_data"
    }
   ],
   "source": [
    "%%HTML\n",
    "<style type=\"text/css\">\n",
    "    h1{\n",
    "        color:red;\n",
    "    } \n",
    "    h2{\n",
    "        color:orange;\n",
    "    }\n",
    "    h3{\n",
    "        color:tomato;\n",
    "    } \n",
    "    h4{\n",
    "        color:purple;\n",
    "    }\n",
    "    h5{\n",
    "        color:green;\n",
    "    }\n",
    "    table{\n",
    "        border-collapse:collapse; \n",
    "    }\n",
    "    th{\n",
    "        color:blueviolet;\n",
    "        background-color:orange;\n",
    "    }\n",
    "    td:hover{\n",
    "        background-color:blueviolet;\n",
    "        scale:1.2;\n",
    "        transiction:1s all liner;\n",
    "        color:white;\n",
    "        \n",
    "    }\n",
    "</style>"
   ]
  },
  {
   "cell_type": "markdown",
   "id": "70f84a63-84c8-41b2-851d-ec933055fc82",
   "metadata": {},
   "source": [
    "# pytorch张量"
   ]
  },
  {
   "cell_type": "markdown",
   "id": "87084eb7-4a1e-4b99-9ea6-45a98ac4facf",
   "metadata": {},
   "source": [
    "## pytorch张量与数据类型"
   ]
  },
  {
   "cell_type": "markdown",
   "id": "3f22a0a9-d7b1-478a-944b-b0c31e928c66",
   "metadata": {},
   "source": [
    "Tensor(张量)  \n",
    "- 构造一个随机初始化的矩阵:torch.rand\n",
    "- 全0矩阵:torch.zeros\n",
    "- 全1矩阵:torch.ones\n",
    "- 直接从数据构造张量:torch.tensor"
   ]
  },
  {
   "cell_type": "markdown",
   "id": "de773855-5e7d-4543-8887-5f16bd7e3f7c",
   "metadata": {},
   "source": [
    "### 创建张量"
   ]
  },
  {
   "cell_type": "code",
   "execution_count": 1,
   "id": "261e48ee-dfec-4eba-ac5e-0e7e159066cf",
   "metadata": {},
   "outputs": [],
   "source": [
    "import torch"
   ]
  },
  {
   "cell_type": "markdown",
   "id": "d17720df-5272-4a1d-8cc0-39250dd02525",
   "metadata": {},
   "source": [
    "#### 创建指定符合正态分布的张量"
   ]
  },
  {
   "cell_type": "code",
   "execution_count": 2,
   "id": "43e52820-2019-4a67-bef7-131583ffb8e6",
   "metadata": {},
   "outputs": [],
   "source": [
    "X = torch.rand(2,3) #创建两行三列的矩阵，正态分布的随机数 "
   ]
  },
  {
   "cell_type": "code",
   "execution_count": 3,
   "id": "849b870c-6e02-41db-bc4f-6078aebde017",
   "metadata": {},
   "outputs": [
    {
     "data": {
      "text/plain": [
       "tensor([[0.9080, 0.5990, 0.9454],\n",
       "        [0.8307, 0.9805, 0.5999]])"
      ]
     },
     "execution_count": 3,
     "metadata": {},
     "output_type": "execute_result"
    }
   ],
   "source": [
    "X"
   ]
  },
  {
   "cell_type": "markdown",
   "id": "aa44ff56-c8d6-4fc1-9347-f73120997c0d",
   "metadata": {},
   "source": [
    "#### 创建指定维数0张量 "
   ]
  },
  {
   "cell_type": "code",
   "execution_count": 4,
   "id": "b143ffde-22a4-4d46-9f10-4435de636119",
   "metadata": {},
   "outputs": [
    {
     "data": {
      "text/plain": [
       "tensor([[0., 0., 0., 0.],\n",
       "        [0., 0., 0., 0.],\n",
       "        [0., 0., 0., 0.]])"
      ]
     },
     "execution_count": 4,
     "metadata": {},
     "output_type": "execute_result"
    }
   ],
   "source": [
    "X1 = torch.zeros(3,4) #生成3行4列的数组  \n",
    "X1 "
   ]
  },
  {
   "cell_type": "markdown",
   "id": "81f7f337-cbf5-4ffa-83dd-ada9e77317c2",
   "metadata": {},
   "source": [
    "#### 创建指定维数的1张量"
   ]
  },
  {
   "cell_type": "code",
   "execution_count": 5,
   "id": "a1dcd3f9-4ff6-4e4f-b125-8d0dc2274c3f",
   "metadata": {},
   "outputs": [
    {
     "data": {
      "text/plain": [
       "tensor([[1., 1., 1., 1.],\n",
       "        [1., 1., 1., 1.],\n",
       "        [1., 1., 1., 1.],\n",
       "        [1., 1., 1., 1.]])"
      ]
     },
     "execution_count": 5,
     "metadata": {},
     "output_type": "execute_result"
    }
   ],
   "source": [
    "X2 = torch.ones(4,4)\n",
    "X2"
   ]
  },
  {
   "cell_type": "markdown",
   "id": "197b7063-c3c5-479b-8bd8-5502ef402528",
   "metadata": {},
   "source": [
    ".size可以轻松的返回指定的维度的大小,但是用shape的话就需要切片了"
   ]
  },
  {
   "cell_type": "code",
   "execution_count": 6,
   "id": "a23e0a29-63a7-44ed-bdbd-99e9e1f49c6b",
   "metadata": {},
   "outputs": [
    {
     "data": {
      "text/plain": [
       "torch.Size([4, 4])"
      ]
     },
     "execution_count": 6,
     "metadata": {},
     "output_type": "execute_result"
    }
   ],
   "source": [
    "X2.size() "
   ]
  },
  {
   "cell_type": "code",
   "execution_count": 8,
   "id": "287faaee-b497-4213-8f6a-fdfbc97961fb",
   "metadata": {},
   "outputs": [
    {
     "data": {
      "text/plain": [
       "torch.Size([4, 4])"
      ]
     },
     "execution_count": 8,
     "metadata": {},
     "output_type": "execute_result"
    }
   ],
   "source": [
    "X2.shape"
   ]
  },
  {
   "cell_type": "code",
   "execution_count": 9,
   "id": "bdc19cb7-a8f3-4726-8fac-9f951ce7d278",
   "metadata": {},
   "outputs": [
    {
     "data": {
      "text/plain": [
       "4"
      ]
     },
     "execution_count": 9,
     "metadata": {},
     "output_type": "execute_result"
    }
   ],
   "source": [
    "X2.size(0)"
   ]
  },
  {
   "cell_type": "code",
   "execution_count": 11,
   "id": "60b8cc38-2740-4129-9f60-85799e1e6c80",
   "metadata": {},
   "outputs": [
    {
     "data": {
      "text/plain": [
       "4"
      ]
     },
     "execution_count": 11,
     "metadata": {},
     "output_type": "execute_result"
    }
   ],
   "source": [
    "X2.shape[0] "
   ]
  },
  {
   "cell_type": "markdown",
   "id": "7937ae91-5633-4e0a-b37a-50a2957d5c10",
   "metadata": {},
   "source": [
    "### tensor的基本数据类型"
   ]
  },
  {
   "cell_type": "markdown",
   "id": "45bb035b-af2b-4e02-a0a8-e4e2ffb4c8a6",
   "metadata": {},
   "source": [
    "- 32位浮点型 torch.float32\n",
    "- 64位浮点型 torch.float64\n",
    "- 32位整型 torch.int32\n",
    "- 16位整形 torch.int16\n",
    "- 64位整形 torch.int64 "
   ]
  },
  {
   "cell_type": "markdown",
   "id": "1f34f99f-c880-46ba-ac70-73463f70634e",
   "metadata": {},
   "source": [
    "### 数据类型的转换 "
   ]
  },
  {
   "cell_type": "markdown",
   "id": "11cba36e-7f7b-4a93-a083-32511e5862fe",
   "metadata": {},
   "source": [
    "#### 从列表创建一个tensor"
   ]
  },
  {
   "cell_type": "markdown",
   "id": "2d91289e-5ff7-4465-a997-9ae2dfb4f4bb",
   "metadata": {},
   "source": [
    "##### 创建的时候可以指定dtype"
   ]
  },
  {
   "cell_type": "code",
   "execution_count": 12,
   "id": "bf24a75f-e26d-447f-83fd-6832fe75f484",
   "metadata": {},
   "outputs": [
    {
     "data": {
      "text/plain": [
       "tensor([6., 2.])"
      ]
     },
     "execution_count": 12,
     "metadata": {},
     "output_type": "execute_result"
    }
   ],
   "source": [
    "x0 = torch.tensor([6,2],dtype=torch.float32)\n",
    "x0"
   ]
  },
  {
   "cell_type": "code",
   "execution_count": 13,
   "id": "e1d084d8-3cfd-4648-898a-813365209634",
   "metadata": {},
   "outputs": [
    {
     "data": {
      "text/plain": [
       "'torch.FloatTensor'"
      ]
     },
     "execution_count": 13,
     "metadata": {},
     "output_type": "execute_result"
    }
   ],
   "source": [
    "x0.type() "
   ]
  },
  {
   "cell_type": "markdown",
   "id": "b72e58ba-dd29-410c-ac1c-5739763a5243",
   "metadata": {},
   "source": [
    "##### 数据类型的转化"
   ]
  },
  {
   "cell_type": "code",
   "execution_count": null,
   "id": "0f66fd8b-c7ee-4dba-838e-b819a481fa52",
   "metadata": {},
   "outputs": [],
   "source": [
    "x0.type(torch.int64)"
   ]
  },
  {
   "cell_type": "markdown",
   "id": "67b7c4c8-86d4-4e0d-87dc-560e72feddd6",
   "metadata": {},
   "source": [
    "也可以在创建的时候就指定"
   ]
  },
  {
   "cell_type": "code",
   "execution_count": 14,
   "id": "e87f18e6-07c5-418b-80b8-3ebefc648aeb",
   "metadata": {},
   "outputs": [
    {
     "data": {
      "text/plain": [
       "tensor([[1, 1, 1],\n",
       "        [1, 1, 1],\n",
       "        [1, 1, 1]], dtype=torch.int32)"
      ]
     },
     "execution_count": 14,
     "metadata": {},
     "output_type": "execute_result"
    }
   ],
   "source": [
    "x1 = torch.ones((3,3),dtype = torch.int32)\n",
    "x1"
   ]
  },
  {
   "cell_type": "markdown",
   "id": "3ae2eb50-518f-445e-83a6-f2371f269c88",
   "metadata": {},
   "source": [
    "#### tensor与ndarry类型的转换"
   ]
  },
  {
   "cell_type": "code",
   "execution_count": 2,
   "id": "2aa8ac85-5c6e-4ce8-8950-c1b2a1815e4c",
   "metadata": {},
   "outputs": [],
   "source": [
    "import numpy as np "
   ]
  },
  {
   "cell_type": "code",
   "execution_count": 3,
   "id": "2e8d520d-b102-49ac-9742-3afc4a9fb53e",
   "metadata": {},
   "outputs": [],
   "source": [
    "a = np.random.randn(2,3)"
   ]
  },
  {
   "cell_type": "code",
   "execution_count": 4,
   "id": "e3fa15e6-d4e1-4760-911a-5e18ae3cf798",
   "metadata": {},
   "outputs": [
    {
     "data": {
      "text/plain": [
       "array([[ 1.2961909 , -0.10560035, -0.49528738],\n",
       "       [ 1.19952738, -0.02183764, -1.766809  ]])"
      ]
     },
     "execution_count": 4,
     "metadata": {},
     "output_type": "execute_result"
    }
   ],
   "source": [
    "a"
   ]
  },
  {
   "cell_type": "markdown",
   "id": "aa9e1a15-f019-4a2c-bcdb-13dfd7bcae16",
   "metadata": {},
   "source": [
    "#### 从numpy创建张量（将ndarry转换成tensor） "
   ]
  },
  {
   "cell_type": "code",
   "execution_count": 5,
   "id": "b1f9f494-34f3-4f93-830e-b568873d5a0e",
   "metadata": {},
   "outputs": [
    {
     "data": {
      "text/plain": [
       "tensor([[ 1.2962, -0.1056, -0.4953],\n",
       "        [ 1.1995, -0.0218, -1.7668]], dtype=torch.float64)"
      ]
     },
     "execution_count": 5,
     "metadata": {},
     "output_type": "execute_result"
    }
   ],
   "source": [
    "x2 = torch.from_numpy(a)\n",
    "x2"
   ]
  },
  {
   "cell_type": "markdown",
   "id": "e5b72cf7-7df0-41d9-b2c8-5ffbfb7194fe",
   "metadata": {},
   "source": [
    "#### 将tensor转换成ndarry"
   ]
  },
  {
   "cell_type": "code",
   "execution_count": 6,
   "id": "ffb98487-cc21-48e3-896e-211c8371fec7",
   "metadata": {},
   "outputs": [
    {
     "data": {
      "text/plain": [
       "array([[ 1.2961909 , -0.10560035, -0.49528738],\n",
       "       [ 1.19952738, -0.02183764, -1.766809  ]])"
      ]
     },
     "execution_count": 6,
     "metadata": {},
     "output_type": "execute_result"
    }
   ],
   "source": [
    "n = x2.numpy()\n",
    "n"
   ]
  },
  {
   "cell_type": "markdown",
   "id": "222a0c6f-50ae-46ec-b622-dfd996abfd7e",
   "metadata": {},
   "source": [
    "## 张量运算与形状变换"
   ]
  },
  {
   "cell_type": "markdown",
   "id": "f84cd02a-7983-4a46-aae6-941a2dea00ba",
   "metadata": {},
   "source": [
    "### 张量的运算"
   ]
  },
  {
   "cell_type": "markdown",
   "id": "ad2ff7ea-5f5b-4438-b0f4-852b74be48c5",
   "metadata": {},
   "source": [
    "#### 创建张量进行计算"
   ]
  },
  {
   "cell_type": "code",
   "execution_count": 8,
   "id": "f160a9d6-e4b8-4608-a470-a7f6f1e9b202",
   "metadata": {},
   "outputs": [
    {
     "data": {
      "text/plain": [
       "(tensor([[0.3709, 0.1917, 0.1294],\n",
       "         [0.2383, 0.3073, 0.2225]]),\n",
       " tensor([[0.0296, 0.3935, 0.6238],\n",
       "         [0.9181, 0.2736, 0.2442]]))"
      ]
     },
     "execution_count": 8,
     "metadata": {},
     "output_type": "execute_result"
    }
   ],
   "source": [
    "x_0 = torch.rand(2,3)\n",
    "x_1 = torch.rand(2,3)\n",
    "x_0,x_1"
   ]
  },
  {
   "cell_type": "markdown",
   "id": "5dd92178-200c-4209-912e-12ac0c62a8e4",
   "metadata": {},
   "source": [
    "##### 相加"
   ]
  },
  {
   "cell_type": "code",
   "execution_count": 9,
   "id": "00a066dd-eea7-43af-b886-543d87989068",
   "metadata": {},
   "outputs": [
    {
     "data": {
      "text/plain": [
       "tensor([[0.4005, 0.5851, 0.7532],\n",
       "        [1.1563, 0.5809, 0.4667]])"
      ]
     },
     "execution_count": 9,
     "metadata": {},
     "output_type": "execute_result"
    }
   ],
   "source": [
    "x_0+x_1"
   ]
  },
  {
   "cell_type": "markdown",
   "id": "51f019f9-02e6-489b-8df3-c2cf86f16368",
   "metadata": {},
   "source": [
    "##### 用魔术命令来对各个元素增加值"
   ]
  },
  {
   "cell_type": "code",
   "execution_count": 10,
   "id": "8da9fde5-7e12-468b-966c-2e92a5a625a8",
   "metadata": {},
   "outputs": [
    {
     "data": {
      "text/plain": [
       "tensor([[1.3709, 1.1917, 1.1294],\n",
       "        [1.2383, 1.3073, 1.2225]])"
      ]
     },
     "execution_count": 10,
     "metadata": {},
     "output_type": "execute_result"
    }
   ],
   "source": [
    "x_0+1"
   ]
  },
  {
   "cell_type": "markdown",
   "id": "4da915a5-ff72-438c-8e5d-36f6cd8f54b3",
   "metadata": {},
   "source": [
    "##### 或者用.add()"
   ]
  },
  {
   "cell_type": "code",
   "execution_count": 11,
   "id": "af7e1ce6-3c0c-44c4-8f69-ac01f90d5bed",
   "metadata": {},
   "outputs": [
    {
     "data": {
      "text/plain": [
       "tensor([[-0.6291, -0.8083, -0.8706],\n",
       "        [-0.7617, -0.6927, -0.7775]])"
      ]
     },
     "execution_count": 11,
     "metadata": {},
     "output_type": "execute_result"
    }
   ],
   "source": [
    "x_0.add(-1) "
   ]
  },
  {
   "cell_type": "markdown",
   "id": "baa672d8-95ea-4d30-b0d5-e81d1248112b",
   "metadata": {},
   "source": [
    "##### 应该注意的是这些操作并没有对原来的张量进行改变，如果要让改变以不赋值给新变量(如$x_new=x_0.add(-1)$)而就地改变的话,需要用下划线的.add_()"
   ]
  },
  {
   "cell_type": "code",
   "execution_count": 12,
   "id": "a92b1efc-4df6-4fd6-99bb-d06c1786992b",
   "metadata": {},
   "outputs": [
    {
     "data": {
      "text/plain": [
       "tensor([[1.3709, 1.1917, 1.1294],\n",
       "        [1.2383, 1.3073, 1.2225]])"
      ]
     },
     "execution_count": 12,
     "metadata": {},
     "output_type": "execute_result"
    }
   ],
   "source": [
    "x_0.add_(1)"
   ]
  },
  {
   "cell_type": "code",
   "execution_count": 13,
   "id": "4d784361-df20-410f-99c0-5b5dce484071",
   "metadata": {},
   "outputs": [
    {
     "data": {
      "text/plain": [
       "tensor([[1.3709, 1.1917, 1.1294],\n",
       "        [1.2383, 1.3073, 1.2225]])"
      ]
     },
     "execution_count": 13,
     "metadata": {},
     "output_type": "execute_result"
    }
   ],
   "source": [
    "x_0"
   ]
  },
  {
   "cell_type": "markdown",
   "id": "a2b5d685-78c8-48f0-8e46-723ab18694c6",
   "metadata": {},
   "source": [
    "可以看到确实对原来的x_0张量作了运算且其确实发生了改变"
   ]
  },
  {
   "cell_type": "markdown",
   "id": "13e22156-81be-4f32-bf15-0522c2226bb5",
   "metadata": {},
   "source": [
    "### 转变张量的形状"
   ]
  },
  {
   "cell_type": "markdown",
   "id": "1bf242fc-3c9f-428f-85ab-9318e56a0696",
   "metadata": {},
   "source": [
    "我们这里要用到`.view()`,其相当于是numpy中的`.reshape()`"
   ]
  },
  {
   "cell_type": "code",
   "execution_count": 14,
   "id": "535e90a5-c455-4f4f-8c17-e2227686d5ba",
   "metadata": {},
   "outputs": [
    {
     "data": {
      "text/plain": [
       "tensor([[0.0296, 0.3935, 0.6238],\n",
       "        [0.9181, 0.2736, 0.2442]])"
      ]
     },
     "execution_count": 14,
     "metadata": {},
     "output_type": "execute_result"
    }
   ],
   "source": [
    "x_1"
   ]
  },
  {
   "cell_type": "markdown",
   "id": "a2615737-19d5-4ec5-b7c7-9a4ffc6dd9f9",
   "metadata": {},
   "source": [
    "##### 将其转换为三行两列 "
   ]
  },
  {
   "cell_type": "code",
   "execution_count": 15,
   "id": "a770183a-8929-421d-be39-c34265c801fd",
   "metadata": {},
   "outputs": [
    {
     "data": {
      "text/plain": [
       "tensor([[0.0296, 0.3935],\n",
       "        [0.6238, 0.9181],\n",
       "        [0.2736, 0.2442]])"
      ]
     },
     "execution_count": 15,
     "metadata": {},
     "output_type": "execute_result"
    }
   ],
   "source": [
    "x_1.view(3,2)"
   ]
  },
  {
   "cell_type": "code",
   "execution_count": 16,
   "id": "bff3c54b-0dbd-47ab-940a-9c5445fc807e",
   "metadata": {},
   "outputs": [
    {
     "data": {
      "text/plain": [
       "tensor([[0.0296],\n",
       "        [0.3935],\n",
       "        [0.6238],\n",
       "        [0.9181],\n",
       "        [0.2736],\n",
       "        [0.2442]])"
      ]
     },
     "execution_count": 16,
     "metadata": {},
     "output_type": "execute_result"
    }
   ],
   "source": [
    "x_1.view(-1,1)"
   ]
  },
  {
   "cell_type": "markdown",
   "id": "65f263d7-031e-4d22-be65-9ce8d628acd4",
   "metadata": {},
   "source": [
    "```python\n",
    "#解释view(-1,1)\n",
    "x_1.view(-1,1)  \n",
    "```\n",
    "##### -1表示第一个维度自动计算,第二个维度为1,总共是3*2=6个元素，如果第二维度是1,那么第一个维度就是6/1 = 6,自然就变成了6行1列\n"
   ]
  },
  {
   "cell_type": "markdown",
   "id": "616cf5b8-1890-4b86-914f-e82ce87b0b23",
   "metadata": {},
   "source": [
    "#### 和numpy中类似的一些运算操作"
   ]
  },
  {
   "cell_type": "code",
   "execution_count": 17,
   "id": "09608054-3ca4-4b64-9ed2-f828910a927c",
   "metadata": {},
   "outputs": [
    {
     "data": {
      "text/plain": [
       "tensor(2.4829)"
      ]
     },
     "execution_count": 17,
     "metadata": {},
     "output_type": "execute_result"
    }
   ],
   "source": [
    "x_1.sum()"
   ]
  },
  {
   "cell_type": "code",
   "execution_count": 18,
   "id": "51a5af9a-a452-4a7f-b1b8-a9f8cfb54fb5",
   "metadata": {},
   "outputs": [
    {
     "data": {
      "text/plain": [
       "tensor(0.4138)"
      ]
     },
     "execution_count": 18,
     "metadata": {},
     "output_type": "execute_result"
    }
   ],
   "source": [
    "x_1.mean()"
   ]
  },
  {
   "cell_type": "markdown",
   "id": "68dacad2-82c2-4244-a665-687f2ffc26e1",
   "metadata": {},
   "source": [
    "注意这样返回的也是张量,但是如果我们想要获取标量值的话需要做出如下操作"
   ]
  },
  {
   "cell_type": "code",
   "execution_count": 19,
   "id": "2a7071f3-ae09-413e-9906-ebec2ca66bf0",
   "metadata": {},
   "outputs": [],
   "source": [
    "sum_v = x_1.sum()"
   ]
  },
  {
   "cell_type": "code",
   "execution_count": 20,
   "id": "86b1a614-5c47-43e1-a656-253be220dc31",
   "metadata": {},
   "outputs": [
    {
     "data": {
      "text/plain": [
       "tensor(2.4829)"
      ]
     },
     "execution_count": 20,
     "metadata": {},
     "output_type": "execute_result"
    }
   ],
   "source": [
    "sum_v"
   ]
  },
  {
   "cell_type": "code",
   "execution_count": 23,
   "id": "b2209901-9216-4ddb-961a-097959a9e12f",
   "metadata": {},
   "outputs": [
    {
     "data": {
      "text/plain": [
       "torch.Tensor"
      ]
     },
     "execution_count": 23,
     "metadata": {},
     "output_type": "execute_result"
    }
   ],
   "source": [
    "type(sum_v)"
   ]
  },
  {
   "cell_type": "markdown",
   "id": "8db569d2-1bea-41eb-837a-349c9c9c50ee",
   "metadata": {},
   "source": [
    "##### 利用.item() 获取标量值 "
   ]
  },
  {
   "cell_type": "code",
   "execution_count": 21,
   "id": "16aecbc7-1ff2-445a-b3c8-b1391d47476f",
   "metadata": {},
   "outputs": [
    {
     "data": {
      "text/plain": [
       "2.482855796813965"
      ]
     },
     "execution_count": 21,
     "metadata": {},
     "output_type": "execute_result"
    }
   ],
   "source": [
    "sum_v.item() "
   ]
  },
  {
   "cell_type": "code",
   "execution_count": 22,
   "id": "6b20f759-bbcb-4fc2-9f54-88a578bad775",
   "metadata": {},
   "outputs": [
    {
     "data": {
      "text/plain": [
       "float"
      ]
     },
     "execution_count": 22,
     "metadata": {},
     "output_type": "execute_result"
    }
   ],
   "source": [
    "type(sum_v.item()) "
   ]
  },
  {
   "cell_type": "markdown",
   "id": "3ce74def-ce23-4ad3-9a72-ae0bdd61a77e",
   "metadata": {},
   "source": [
    "## 张量微分运算 "
   ]
  },
  {
   "cell_type": "markdown",
   "id": "89d42675-2d57-4180-9085-608e2ce626ff",
   "metadata": {},
   "source": [
    "### 张量的自动微分"
   ]
  },
  {
   "cell_type": "markdown",
   "id": "171bd2d2-3c22-48e9-a49d-69401c6f4d43",
   "metadata": {},
   "source": [
    "将`torch.Tensor()`属性`requires_grad`设置为`True`  \n",
    "pytorch将开始跟踪对此张量的所有操作  \n",
    "完成计算之后,可以调用`.backward()`并自动计算所有梯度 \n",
    "该张量的梯度将累加到`.grad`属性中"
   ]
  },
  {
   "cell_type": "code",
   "execution_count": 24,
   "id": "7c6aa155-1f7f-438d-bbe5-56843cbe8270",
   "metadata": {},
   "outputs": [],
   "source": [
    "t0 = torch.ones(2,2,requires_grad=True,dtype='int32') "
   ]
  },
  {
   "cell_type": "code",
   "execution_count": 25,
   "id": "16e4195e-bcff-4981-a9ed-2807748b5b92",
   "metadata": {},
   "outputs": [
    {
     "data": {
      "text/plain": [
       "tensor([[1., 1.],\n",
       "        [1., 1.]], requires_grad=True)"
      ]
     },
     "execution_count": 25,
     "metadata": {},
     "output_type": "execute_result"
    }
   ],
   "source": [
    "t0 "
   ]
  },
  {
   "cell_type": "code",
   "execution_count": 26,
   "id": "0f5e79a2-ad1d-43cd-992d-90a071167274",
   "metadata": {},
   "outputs": [
    {
     "data": {
      "text/plain": [
       "True"
      ]
     },
     "execution_count": 26,
     "metadata": {},
     "output_type": "execute_result"
    }
   ],
   "source": [
    "t0.requires_grad"
   ]
  },
  {
   "cell_type": "markdown",
   "id": "fc98b520-de53-4f40-b897-4ca067972f3b",
   "metadata": {},
   "source": [
    "可以看到这个requires_grad属性已经是True了"
   ]
  },
  {
   "cell_type": "code",
   "execution_count": 33,
   "id": "2cbd6ef1-8e80-400e-a3c1-35105c1723ba",
   "metadata": {},
   "outputs": [
    {
     "data": {
      "text/plain": [
       "tensor([[3., 3.],\n",
       "        [3., 3.]], grad_fn=<AddBackward0>)"
      ]
     },
     "execution_count": 33,
     "metadata": {},
     "output_type": "execute_result"
    }
   ],
   "source": [
    "t1 = t0 + 2 \n",
    "t1 "
   ]
  },
  {
   "cell_type": "markdown",
   "id": "5d5d06c0-6ed0-4226-b05b-ae75eafcc9f2",
   "metadata": {},
   "source": [
    "可以看到其中grad_fn"
   ]
  },
  {
   "cell_type": "code",
   "execution_count": 34,
   "id": "3ef0d55d-f962-47fb-9c11-e1ebe38c06ce",
   "metadata": {},
   "outputs": [
    {
     "data": {
      "text/plain": [
       "<AddBackward0 at 0x27eaec1bf70>"
      ]
     },
     "execution_count": 34,
     "metadata": {},
     "output_type": "execute_result"
    }
   ],
   "source": [
    "t1.grad_fn"
   ]
  },
  {
   "cell_type": "code",
   "execution_count": 35,
   "id": "56d9447c-fe02-4ff7-8d8e-61888f46d55b",
   "metadata": {},
   "outputs": [],
   "source": [
    "t2 = t1*t1+3"
   ]
  },
  {
   "cell_type": "code",
   "execution_count": 36,
   "id": "5fd967f4-ed65-4eb9-bae3-7e77c462b8f1",
   "metadata": {},
   "outputs": [
    {
     "data": {
      "text/plain": [
       "tensor([[12., 12.],\n",
       "        [12., 12.]], grad_fn=<AddBackward0>)"
      ]
     },
     "execution_count": 36,
     "metadata": {},
     "output_type": "execute_result"
    }
   ],
   "source": [
    "t2 "
   ]
  },
  {
   "cell_type": "code",
   "execution_count": 37,
   "id": "8bbd4737-9d4b-4b70-ab82-8136b1ac175b",
   "metadata": {},
   "outputs": [
    {
     "data": {
      "text/plain": [
       "<AddBackward0 at 0x27eaf88b640>"
      ]
     },
     "execution_count": 37,
     "metadata": {},
     "output_type": "execute_result"
    }
   ],
   "source": [
    "t2.grad_fn"
   ]
  },
  {
   "cell_type": "code",
   "execution_count": 38,
   "id": "d1aa2962-51eb-4db6-b230-871a68e54666",
   "metadata": {},
   "outputs": [
    {
     "data": {
      "text/plain": [
       "tensor(12., grad_fn=<MeanBackward0>)"
      ]
     },
     "execution_count": 38,
     "metadata": {},
     "output_type": "execute_result"
    }
   ],
   "source": [
    "vec_1 = t2.mean() \n",
    "vec_1"
   ]
  },
  {
   "cell_type": "markdown",
   "id": "994f0fc1-5d46-4737-874f-0f996d936bfd",
   "metadata": {},
   "source": [
    "##### 利用pytorch框架自动计算微分(梯度)"
   ]
  },
  {
   "cell_type": "markdown",
   "id": "c58e3f76-3edc-44e3-a9d8-7904aebc37f9",
   "metadata": {},
   "source": [
    "微分的结果就是vec_1,然后我们得到的就是$vec\\_1 = f(x)$ \n",
    "其中的$f(x)$就是我们刚才对t0所做的一系列的运算操作  \n",
    "我们要调用`.backward()`做的的就是$\\frac{df(x)}{dx}$  \n",
    "然后结果会存在`.grad`属性中"
   ]
  },
  {
   "cell_type": "code",
   "execution_count": 39,
   "id": "a4007c19-781d-4688-bb68-f783d53a1733",
   "metadata": {},
   "outputs": [],
   "source": [
    "vec_1.backward()"
   ]
  },
  {
   "cell_type": "code",
   "execution_count": 44,
   "id": "f115ea09-1389-4198-a778-1ce51d2f6123",
   "metadata": {},
   "outputs": [
    {
     "data": {
      "text/plain": [
       "tensor([[1.5000, 1.5000],\n",
       "        [1.5000, 1.5000]])"
      ]
     },
     "execution_count": 44,
     "metadata": {},
     "output_type": "execute_result"
    }
   ],
   "source": [
    "t0.grad"
   ]
  },
  {
   "cell_type": "markdown",
   "id": "e0f430e1-9dda-4838-a02f-dfac5a5f8238",
   "metadata": {},
   "source": [
    "$\\frac{(t_0+2)\\times(t_0+2)+3}{4}$  \n",
    "然后对$t_0$求导    \n",
    "$$\\frac{(t_0+2)^2+3}{4t_0}$$求导之后带入t0的值\n"
   ]
  },
  {
   "cell_type": "code",
   "execution_count": 45,
   "id": "56073256-8ba5-4998-80ae-45949f2b1a87",
   "metadata": {},
   "outputs": [
    {
     "data": {
      "text/plain": [
       "tensor([[1., 1.],\n",
       "        [1., 1.]])"
      ]
     },
     "execution_count": 45,
     "metadata": {},
     "output_type": "execute_result"
    }
   ],
   "source": [
    "t0.data"
   ]
  },
  {
   "cell_type": "markdown",
   "id": "441142de-5718-4e60-9162-d363384b9004",
   "metadata": {},
   "source": [
    "如果不需要张量自动微分那就需要用`torch.no_grad()`来做上下文管理  \n",
    "```python\n",
    "with torch.no_grad(): \n",
    "    #计算过程\n",
    "```\n",
    "像这样就不会进行跟踪"
   ]
  },
  {
   "cell_type": "code",
   "execution_count": 50,
   "id": "29eb734d-48a7-46a0-856a-cc0d20e154bf",
   "metadata": {},
   "outputs": [
    {
     "name": "stdout",
     "output_type": "stream",
     "text": [
      "False\n"
     ]
    }
   ],
   "source": [
    "with torch.no_grad(): \n",
    "    print((t0**2).requires_grad) "
   ]
  },
  {
   "cell_type": "code",
   "execution_count": 54,
   "id": "b60a3148-4a2f-4559-8a5a-427b33ee0370",
   "metadata": {},
   "outputs": [
    {
     "name": "stdout",
     "output_type": "stream",
     "text": [
      "Object `torch.tensor.requires_grad` not found.\n"
     ]
    }
   ],
   "source": [
    "torch.tensor.requires_grad??"
   ]
  },
  {
   "cell_type": "code",
   "execution_count": 59,
   "id": "64cbdaa9-532a-40d0-aea5-b157ce96bb78",
   "metadata": {},
   "outputs": [
    {
     "data": {
      "text/plain": [
       "tensor([[1., 1.],\n",
       "        [1., 1.]], requires_grad=True)"
      ]
     },
     "execution_count": 59,
     "metadata": {},
     "output_type": "execute_result"
    }
   ],
   "source": [
    "demo1 = torch.ones(2,2,requires_grad = True)\n",
    "demo1"
   ]
  },
  {
   "cell_type": "code",
   "execution_count": 60,
   "id": "67dffd70-6b2b-42aa-a724-d8834b7d7cde",
   "metadata": {},
   "outputs": [
    {
     "data": {
      "text/plain": [
       "tensor([[3., 3.],\n",
       "        [3., 3.]], grad_fn=<AddBackward0>)"
      ]
     },
     "execution_count": 60,
     "metadata": {},
     "output_type": "execute_result"
    }
   ],
   "source": [
    "demo2 = demo1+2\n",
    "demo2"
   ]
  },
  {
   "cell_type": "code",
   "execution_count": 62,
   "id": "e9c3f37d-4b91-4fd5-8a1d-9dfe6712b257",
   "metadata": {},
   "outputs": [
    {
     "data": {
      "text/plain": [
       "<AddBackward0 at 0x27eaf7395d0>"
      ]
     },
     "execution_count": 62,
     "metadata": {},
     "output_type": "execute_result"
    }
   ],
   "source": [
    "demo2.grad_fn"
   ]
  },
  {
   "cell_type": "code",
   "execution_count": 68,
   "id": "ababf248-9a1d-45b2-84dd-daed6b76edfc",
   "metadata": {},
   "outputs": [
    {
     "ename": "RuntimeError",
     "evalue": "grad can be implicitly created only for scalar outputs",
     "output_type": "error",
     "traceback": [
      "\u001b[1;31m---------------------------------------------------------------------------\u001b[0m",
      "\u001b[1;31mRuntimeError\u001b[0m                              Traceback (most recent call last)",
      "Cell \u001b[1;32mIn[68], line 1\u001b[0m\n\u001b[1;32m----> 1\u001b[0m \u001b[43mdemo2\u001b[49m\u001b[38;5;241;43m.\u001b[39;49m\u001b[43mbackward\u001b[49m\u001b[43m(\u001b[49m\u001b[43m)\u001b[49m \n",
      "File \u001b[1;32mD:\\venvs\\dl\\Lib\\site-packages\\torch\\_tensor.py:648\u001b[0m, in \u001b[0;36mTensor.backward\u001b[1;34m(self, gradient, retain_graph, create_graph, inputs)\u001b[0m\n\u001b[0;32m    638\u001b[0m \u001b[38;5;28;01mif\u001b[39;00m has_torch_function_unary(\u001b[38;5;28mself\u001b[39m):\n\u001b[0;32m    639\u001b[0m     \u001b[38;5;28;01mreturn\u001b[39;00m handle_torch_function(\n\u001b[0;32m    640\u001b[0m         Tensor\u001b[38;5;241m.\u001b[39mbackward,\n\u001b[0;32m    641\u001b[0m         (\u001b[38;5;28mself\u001b[39m,),\n\u001b[1;32m   (...)\u001b[0m\n\u001b[0;32m    646\u001b[0m         inputs\u001b[38;5;241m=\u001b[39minputs,\n\u001b[0;32m    647\u001b[0m     )\n\u001b[1;32m--> 648\u001b[0m \u001b[43mtorch\u001b[49m\u001b[38;5;241;43m.\u001b[39;49m\u001b[43mautograd\u001b[49m\u001b[38;5;241;43m.\u001b[39;49m\u001b[43mbackward\u001b[49m\u001b[43m(\u001b[49m\n\u001b[0;32m    649\u001b[0m \u001b[43m    \u001b[49m\u001b[38;5;28;43mself\u001b[39;49m\u001b[43m,\u001b[49m\u001b[43m \u001b[49m\u001b[43mgradient\u001b[49m\u001b[43m,\u001b[49m\u001b[43m \u001b[49m\u001b[43mretain_graph\u001b[49m\u001b[43m,\u001b[49m\u001b[43m \u001b[49m\u001b[43mcreate_graph\u001b[49m\u001b[43m,\u001b[49m\u001b[43m \u001b[49m\u001b[43minputs\u001b[49m\u001b[38;5;241;43m=\u001b[39;49m\u001b[43minputs\u001b[49m\n\u001b[0;32m    650\u001b[0m \u001b[43m\u001b[49m\u001b[43m)\u001b[49m\n",
      "File \u001b[1;32mD:\\venvs\\dl\\Lib\\site-packages\\torch\\autograd\\__init__.py:346\u001b[0m, in \u001b[0;36mbackward\u001b[1;34m(tensors, grad_tensors, retain_graph, create_graph, grad_variables, inputs)\u001b[0m\n\u001b[0;32m    337\u001b[0m inputs \u001b[38;5;241m=\u001b[39m (\n\u001b[0;32m    338\u001b[0m     (inputs,)\n\u001b[0;32m    339\u001b[0m     \u001b[38;5;28;01mif\u001b[39;00m \u001b[38;5;28misinstance\u001b[39m(inputs, (torch\u001b[38;5;241m.\u001b[39mTensor, graph\u001b[38;5;241m.\u001b[39mGradientEdge))\n\u001b[1;32m   (...)\u001b[0m\n\u001b[0;32m    342\u001b[0m     \u001b[38;5;28;01melse\u001b[39;00m ()\n\u001b[0;32m    343\u001b[0m )\n\u001b[0;32m    345\u001b[0m grad_tensors_ \u001b[38;5;241m=\u001b[39m _tensor_or_tensors_to_tuple(grad_tensors, \u001b[38;5;28mlen\u001b[39m(tensors))\n\u001b[1;32m--> 346\u001b[0m grad_tensors_ \u001b[38;5;241m=\u001b[39m \u001b[43m_make_grads\u001b[49m\u001b[43m(\u001b[49m\u001b[43mtensors\u001b[49m\u001b[43m,\u001b[49m\u001b[43m \u001b[49m\u001b[43mgrad_tensors_\u001b[49m\u001b[43m,\u001b[49m\u001b[43m \u001b[49m\u001b[43mis_grads_batched\u001b[49m\u001b[38;5;241;43m=\u001b[39;49m\u001b[38;5;28;43;01mFalse\u001b[39;49;00m\u001b[43m)\u001b[49m\n\u001b[0;32m    347\u001b[0m \u001b[38;5;28;01mif\u001b[39;00m retain_graph \u001b[38;5;129;01mis\u001b[39;00m \u001b[38;5;28;01mNone\u001b[39;00m:\n\u001b[0;32m    348\u001b[0m     retain_graph \u001b[38;5;241m=\u001b[39m create_graph\n",
      "File \u001b[1;32mD:\\venvs\\dl\\Lib\\site-packages\\torch\\autograd\\__init__.py:199\u001b[0m, in \u001b[0;36m_make_grads\u001b[1;34m(outputs, grads, is_grads_batched)\u001b[0m\n\u001b[0;32m    197\u001b[0m     out_numel_is_1 \u001b[38;5;241m=\u001b[39m out\u001b[38;5;241m.\u001b[39mnumel() \u001b[38;5;241m==\u001b[39m \u001b[38;5;241m1\u001b[39m\n\u001b[0;32m    198\u001b[0m \u001b[38;5;28;01mif\u001b[39;00m \u001b[38;5;129;01mnot\u001b[39;00m out_numel_is_1:\n\u001b[1;32m--> 199\u001b[0m     \u001b[38;5;28;01mraise\u001b[39;00m \u001b[38;5;167;01mRuntimeError\u001b[39;00m(\n\u001b[0;32m    200\u001b[0m         \u001b[38;5;124m\"\u001b[39m\u001b[38;5;124mgrad can be implicitly created only for scalar outputs\u001b[39m\u001b[38;5;124m\"\u001b[39m\n\u001b[0;32m    201\u001b[0m     )\n\u001b[0;32m    202\u001b[0m \u001b[38;5;28;01mif\u001b[39;00m \u001b[38;5;129;01mnot\u001b[39;00m out_dtype\u001b[38;5;241m.\u001b[39mis_floating_point:\n\u001b[0;32m    203\u001b[0m     msg \u001b[38;5;241m=\u001b[39m (\n\u001b[0;32m    204\u001b[0m         \u001b[38;5;124m\"\u001b[39m\u001b[38;5;124mgrad can be implicitly created only for real scalar outputs\u001b[39m\u001b[38;5;124m\"\u001b[39m\n\u001b[0;32m    205\u001b[0m         \u001b[38;5;124mf\u001b[39m\u001b[38;5;124m\"\u001b[39m\u001b[38;5;124m but got \u001b[39m\u001b[38;5;132;01m{\u001b[39;00mout_dtype\u001b[38;5;132;01m}\u001b[39;00m\u001b[38;5;124m\"\u001b[39m\n\u001b[0;32m    206\u001b[0m     )\n",
      "\u001b[1;31mRuntimeError\u001b[0m: grad can be implicitly created only for scalar outputs"
     ]
    }
   ],
   "source": [
    "demo2.backward() "
   ]
  },
  {
   "cell_type": "markdown",
   "id": "11af611b-c669-4bca-bb04-cbe5b7605b2f",
   "metadata": {},
   "source": [
    "这里提示需要注意，再次提醒，只有标量才可以进行.backward()"
   ]
  },
  {
   "cell_type": "code",
   "execution_count": 65,
   "id": "eea5ab01-2572-4631-816b-13caefb7796d",
   "metadata": {},
   "outputs": [],
   "source": [
    "demo3 = demo2.mean() "
   ]
  },
  {
   "cell_type": "code",
   "execution_count": 66,
   "id": "68177450-2223-4d9e-8533-da4e880079c5",
   "metadata": {},
   "outputs": [],
   "source": [
    "demo3.backward() "
   ]
  },
  {
   "cell_type": "code",
   "execution_count": 67,
   "id": "11523928-62e4-427c-9603-cb4415126872",
   "metadata": {},
   "outputs": [
    {
     "data": {
      "text/plain": [
       "tensor([[0.2500, 0.2500],\n",
       "        [0.2500, 0.2500]])"
      ]
     },
     "execution_count": 67,
     "metadata": {},
     "output_type": "execute_result"
    }
   ],
   "source": [
    "demo1.grad"
   ]
  },
  {
   "cell_type": "markdown",
   "id": "3ff9a682-4709-4441-a1bb-be0913ae0f39",
   "metadata": {},
   "source": [
    "##### 也可以利用`.detach()`获取不包含梯度的值"
   ]
  },
  {
   "cell_type": "code",
   "execution_count": 69,
   "id": "caeecfb7-14c2-4c52-9e02-ad8028d932a2",
   "metadata": {},
   "outputs": [],
   "source": [
    "demo4 = demo1.detach() "
   ]
  },
  {
   "cell_type": "code",
   "execution_count": 70,
   "id": "a408890f-a2f6-4652-96e8-a34cd0ea8894",
   "metadata": {},
   "outputs": [
    {
     "data": {
      "text/plain": [
       "tensor([[1., 1.],\n",
       "        [1., 1.]])"
      ]
     },
     "execution_count": 70,
     "metadata": {},
     "output_type": "execute_result"
    }
   ],
   "source": [
    "demo4"
   ]
  },
  {
   "cell_type": "code",
   "execution_count": null,
   "id": "6913c6c7-e9f4-401a-9eb7-44d68659836d",
   "metadata": {},
   "outputs": [],
   "source": []
  }
 ],
 "metadata": {
  "kernelspec": {
   "display_name": "Python 3 (ipykernel)",
   "language": "python",
   "name": "python3"
  },
  "language_info": {
   "codemirror_mode": {
    "name": "ipython",
    "version": 3
   },
   "file_extension": ".py",
   "mimetype": "text/x-python",
   "name": "python",
   "nbconvert_exporter": "python",
   "pygments_lexer": "ipython3",
   "version": "3.11.9"
  }
 },
 "nbformat": 4,
 "nbformat_minor": 5
}
