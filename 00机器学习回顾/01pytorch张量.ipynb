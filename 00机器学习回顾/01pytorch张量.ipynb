{
 "cells": [
  {
   "cell_type": "markdown",
   "id": "70f84a63-84c8-41b2-851d-ec933055fc82",
   "metadata": {},
   "source": [
    "# pytorch张量"
   ]
  },
  {
   "cell_type": "markdown",
   "id": "87084eb7-4a1e-4b99-9ea6-45a98ac4facf",
   "metadata": {},
   "source": [
    "## 1-1pytorch张量与数据类型"
   ]
  },
  {
   "cell_type": "markdown",
   "id": "3f22a0a9-d7b1-478a-944b-b0c31e928c66",
   "metadata": {},
   "source": [
    "Tensor(张量)  \n",
    "- 构造一个随机初始化的矩阵:torch.rand\n",
    "- 全0矩阵:torch.zeros\n",
    "- 全1矩阵:torch.ones\n",
    "- 直接从数据构造张量:torch.tensor"
   ]
  },
  {
   "cell_type": "markdown",
   "id": "de773855-5e7d-4543-8887-5f16bd7e3f7c",
   "metadata": {},
   "source": [
    "### 创建张量"
   ]
  },
  {
   "cell_type": "code",
   "execution_count": 1,
   "id": "261e48ee-dfec-4eba-ac5e-0e7e159066cf",
   "metadata": {},
   "outputs": [],
   "source": [
    "import torch"
   ]
  },
  {
   "cell_type": "markdown",
   "id": "d17720df-5272-4a1d-8cc0-39250dd02525",
   "metadata": {},
   "source": [
    "#### 创建指定符合正态分布的张量"
   ]
  },
  {
   "cell_type": "code",
   "execution_count": 2,
   "id": "43e52820-2019-4a67-bef7-131583ffb8e6",
   "metadata": {},
   "outputs": [],
   "source": [
    "X = torch.rand(2,3) #创建两行三列的矩阵，正态分布的随机数 "
   ]
  },
  {
   "cell_type": "code",
   "execution_count": 3,
   "id": "849b870c-6e02-41db-bc4f-6078aebde017",
   "metadata": {},
   "outputs": [
    {
     "data": {
      "text/plain": [
       "tensor([[0.9080, 0.5990, 0.9454],\n",
       "        [0.8307, 0.9805, 0.5999]])"
      ]
     },
     "execution_count": 3,
     "metadata": {},
     "output_type": "execute_result"
    }
   ],
   "source": [
    "X"
   ]
  },
  {
   "cell_type": "markdown",
   "id": "aa44ff56-c8d6-4fc1-9347-f73120997c0d",
   "metadata": {},
   "source": [
    "#### 创建指定维数0张量 "
   ]
  },
  {
   "cell_type": "code",
   "execution_count": 4,
   "id": "b143ffde-22a4-4d46-9f10-4435de636119",
   "metadata": {},
   "outputs": [
    {
     "data": {
      "text/plain": [
       "tensor([[0., 0., 0., 0.],\n",
       "        [0., 0., 0., 0.],\n",
       "        [0., 0., 0., 0.]])"
      ]
     },
     "execution_count": 4,
     "metadata": {},
     "output_type": "execute_result"
    }
   ],
   "source": [
    "X1 = torch.zeros(3,4) #生成3行4列的数组  \n",
    "X1 "
   ]
  },
  {
   "cell_type": "markdown",
   "id": "81f7f337-cbf5-4ffa-83dd-ada9e77317c2",
   "metadata": {},
   "source": [
    "#### 创建指定维数的1张量"
   ]
  },
  {
   "cell_type": "code",
   "execution_count": 5,
   "id": "a1dcd3f9-4ff6-4e4f-b125-8d0dc2274c3f",
   "metadata": {},
   "outputs": [
    {
     "data": {
      "text/plain": [
       "tensor([[1., 1., 1., 1.],\n",
       "        [1., 1., 1., 1.],\n",
       "        [1., 1., 1., 1.],\n",
       "        [1., 1., 1., 1.]])"
      ]
     },
     "execution_count": 5,
     "metadata": {},
     "output_type": "execute_result"
    }
   ],
   "source": [
    "X2 = torch.ones(4,4)\n",
    "X2"
   ]
  },
  {
   "cell_type": "markdown",
   "id": "197b7063-c3c5-479b-8bd8-5502ef402528",
   "metadata": {},
   "source": [
    ".size可以轻松的返回指定的维度的大小,但是用shape的话就需要切片了"
   ]
  },
  {
   "cell_type": "code",
   "execution_count": 6,
   "id": "a23e0a29-63a7-44ed-bdbd-99e9e1f49c6b",
   "metadata": {},
   "outputs": [
    {
     "data": {
      "text/plain": [
       "torch.Size([4, 4])"
      ]
     },
     "execution_count": 6,
     "metadata": {},
     "output_type": "execute_result"
    }
   ],
   "source": [
    "X2.size() "
   ]
  },
  {
   "cell_type": "code",
   "execution_count": 8,
   "id": "287faaee-b497-4213-8f6a-fdfbc97961fb",
   "metadata": {},
   "outputs": [
    {
     "data": {
      "text/plain": [
       "torch.Size([4, 4])"
      ]
     },
     "execution_count": 8,
     "metadata": {},
     "output_type": "execute_result"
    }
   ],
   "source": [
    "X2.shape"
   ]
  },
  {
   "cell_type": "code",
   "execution_count": 9,
   "id": "bdc19cb7-a8f3-4726-8fac-9f951ce7d278",
   "metadata": {},
   "outputs": [
    {
     "data": {
      "text/plain": [
       "4"
      ]
     },
     "execution_count": 9,
     "metadata": {},
     "output_type": "execute_result"
    }
   ],
   "source": [
    "X2.size(0)"
   ]
  },
  {
   "cell_type": "code",
   "execution_count": 11,
   "id": "60b8cc38-2740-4129-9f60-85799e1e6c80",
   "metadata": {},
   "outputs": [
    {
     "data": {
      "text/plain": [
       "4"
      ]
     },
     "execution_count": 11,
     "metadata": {},
     "output_type": "execute_result"
    }
   ],
   "source": [
    "X2.shape[0] "
   ]
  },
  {
   "cell_type": "markdown",
   "id": "7937ae91-5633-4e0a-b37a-50a2957d5c10",
   "metadata": {},
   "source": [
    "### tensor的基本数据类型"
   ]
  },
  {
   "cell_type": "markdown",
   "id": "45bb035b-af2b-4e02-a0a8-e4e2ffb4c8a6",
   "metadata": {},
   "source": [
    "- 32位浮点型 torch.float32\n",
    "- 64位浮点型 torch.float64\n",
    "- 32位整型 torch.int32\n",
    "- 16位整形 torch.int16\n",
    "- 64位整形 torch.int64 "
   ]
  },
  {
   "cell_type": "markdown",
   "id": "1f34f99f-c880-46ba-ac70-73463f70634e",
   "metadata": {},
   "source": [
    "### 数据类型的转换 "
   ]
  },
  {
   "cell_type": "markdown",
   "id": "11cba36e-7f7b-4a93-a083-32511e5862fe",
   "metadata": {},
   "source": [
    "#### 从列表创建一个tensor"
   ]
  },
  {
   "cell_type": "markdown",
   "id": "2d91289e-5ff7-4465-a997-9ae2dfb4f4bb",
   "metadata": {},
   "source": [
    "##### 创建的时候可以指定dtype"
   ]
  },
  {
   "cell_type": "code",
   "execution_count": 12,
   "id": "bf24a75f-e26d-447f-83fd-6832fe75f484",
   "metadata": {},
   "outputs": [
    {
     "data": {
      "text/plain": [
       "tensor([6., 2.])"
      ]
     },
     "execution_count": 12,
     "metadata": {},
     "output_type": "execute_result"
    }
   ],
   "source": [
    "x0 = torch.tensor([6,2],dtype=torch.float32)\n",
    "x0"
   ]
  },
  {
   "cell_type": "code",
   "execution_count": 13,
   "id": "e1d084d8-3cfd-4648-898a-813365209634",
   "metadata": {},
   "outputs": [
    {
     "data": {
      "text/plain": [
       "'torch.FloatTensor'"
      ]
     },
     "execution_count": 13,
     "metadata": {},
     "output_type": "execute_result"
    }
   ],
   "source": [
    "x0.type() "
   ]
  },
  {
   "cell_type": "markdown",
   "id": "b72e58ba-dd29-410c-ac1c-5739763a5243",
   "metadata": {},
   "source": [
    "##### 数据类型的转化"
   ]
  },
  {
   "cell_type": "code",
   "execution_count": null,
   "id": "0f66fd8b-c7ee-4dba-838e-b819a481fa52",
   "metadata": {},
   "outputs": [],
   "source": [
    "x0.type(torch.int64)"
   ]
  },
  {
   "cell_type": "markdown",
   "id": "67b7c4c8-86d4-4e0d-87dc-560e72feddd6",
   "metadata": {},
   "source": [
    "也可以在创建的时候就指定"
   ]
  },
  {
   "cell_type": "code",
   "execution_count": 14,
   "id": "e87f18e6-07c5-418b-80b8-3ebefc648aeb",
   "metadata": {},
   "outputs": [
    {
     "data": {
      "text/plain": [
       "tensor([[1, 1, 1],\n",
       "        [1, 1, 1],\n",
       "        [1, 1, 1]], dtype=torch.int32)"
      ]
     },
     "execution_count": 14,
     "metadata": {},
     "output_type": "execute_result"
    }
   ],
   "source": [
    "x1 = torch.ones((3,3),dtype = torch.int32)\n",
    "x1"
   ]
  },
  {
   "cell_type": "markdown",
   "id": "3ae2eb50-518f-445e-83a6-f2371f269c88",
   "metadata": {},
   "source": [
    "#### tensor与ndarry类型的转换"
   ]
  },
  {
   "cell_type": "code",
   "execution_count": 15,
   "id": "2aa8ac85-5c6e-4ce8-8950-c1b2a1815e4c",
   "metadata": {},
   "outputs": [],
   "source": [
    "import numpy as np "
   ]
  },
  {
   "cell_type": "code",
   "execution_count": 16,
   "id": "2e8d520d-b102-49ac-9742-3afc4a9fb53e",
   "metadata": {},
   "outputs": [],
   "source": [
    "a = np.random.randn(2,3)"
   ]
  },
  {
   "cell_type": "code",
   "execution_count": 17,
   "id": "e3fa15e6-d4e1-4760-911a-5e18ae3cf798",
   "metadata": {},
   "outputs": [
    {
     "data": {
      "text/plain": [
       "array([[ 0.06564994, -0.78885034,  0.76846734],\n",
       "       [-0.17964152, -0.7552049 ,  0.89089908]])"
      ]
     },
     "execution_count": 17,
     "metadata": {},
     "output_type": "execute_result"
    }
   ],
   "source": [
    "a"
   ]
  },
  {
   "cell_type": "markdown",
   "id": "aa9e1a15-f019-4a2c-bcdb-13dfd7bcae16",
   "metadata": {},
   "source": [
    "#### 从numpy创建张量（将ndarry转换成tensor） "
   ]
  },
  {
   "cell_type": "code",
   "execution_count": 18,
   "id": "b1f9f494-34f3-4f93-830e-b568873d5a0e",
   "metadata": {},
   "outputs": [
    {
     "data": {
      "text/plain": [
       "tensor([[ 0.0656, -0.7889,  0.7685],\n",
       "        [-0.1796, -0.7552,  0.8909]], dtype=torch.float64)"
      ]
     },
     "execution_count": 18,
     "metadata": {},
     "output_type": "execute_result"
    }
   ],
   "source": [
    "x2 = torch.from_numpy(a)\n",
    "x2"
   ]
  },
  {
   "cell_type": "markdown",
   "id": "e5b72cf7-7df0-41d9-b2c8-5ffbfb7194fe",
   "metadata": {},
   "source": [
    "#### 将tensor转换成ndarry"
   ]
  },
  {
   "cell_type": "code",
   "execution_count": 19,
   "id": "ffb98487-cc21-48e3-896e-211c8371fec7",
   "metadata": {},
   "outputs": [
    {
     "data": {
      "text/plain": [
       "array([[ 0.06564994, -0.78885034,  0.76846734],\n",
       "       [-0.17964152, -0.7552049 ,  0.89089908]])"
      ]
     },
     "execution_count": 19,
     "metadata": {},
     "output_type": "execute_result"
    }
   ],
   "source": [
    "n = x2.numpy()\n",
    "n"
   ]
  },
  {
   "cell_type": "code",
   "execution_count": null,
   "id": "40e2a896-bff8-4591-b730-607975bb3a8a",
   "metadata": {},
   "outputs": [],
   "source": []
  }
 ],
 "metadata": {
  "kernelspec": {
   "display_name": "Python 3 (ipykernel)",
   "language": "python",
   "name": "python3"
  },
  "language_info": {
   "codemirror_mode": {
    "name": "ipython",
    "version": 3
   },
   "file_extension": ".py",
   "mimetype": "text/x-python",
   "name": "python",
   "nbconvert_exporter": "python",
   "pygments_lexer": "ipython3",
   "version": "3.11.9"
  }
 },
 "nbformat": 4,
 "nbformat_minor": 5
}
