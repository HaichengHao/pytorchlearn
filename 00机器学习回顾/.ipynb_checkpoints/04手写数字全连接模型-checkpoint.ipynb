{
 "cells": [
  {
   "cell_type": "markdown",
   "id": "15061b6d-2292-4c42-9d34-627f38bba8ff",
   "metadata": {},
   "source": [
    "# 手写数字全连接模型 "
   ]
  },
  {
   "cell_type": "markdown",
   "id": "1e867420-e2d7-4114-bef9-235d14f32fa3",
   "metadata": {},
   "source": [
    "## 关于批次的模糊点补充  \n",
    "在深度学习领域，\"批次\"（batch）和\"批\"实际上是同一个概念的不同翻译或表述方式。通常，在提到神经网络训练时，我们会使用\"批次\"这个术语来描述一次提供给模型进行前向传播和反向传播的数据量。\n",
    "\n",
    "### 批次（Batch）\n",
    "\n",
    "1. **定义**：批次是指在训练过程中用于一次更新权重的样本集合。简单来说，就是每次迭代中使用的数据子集。\n",
    "   \n",
    "2. **作用**：\n",
    "   - **加速计算**：通过并行处理一批数据而不是逐个处理单个数据点，可以更高效地利用GPU等硬件资源，从而加快训练速度。\n",
    "   - **改善收敛性**：批量梯度下降可以在减少参数更新的方差的同时，保持较低的计算成本，有助于更平稳地收敛到全局最小值。\n",
    "   \n",
    "3. **类型**：\n",
    "   - **全批量（Full Batch）**：使用整个训练集来进行一次参数更新。对于大型数据集来说，这可能不太实际，因为需要大量的内存和计算能力。\n",
    "   - **小批量（Mini-batch）**：这是最常用的方式，指的是将数据集分成多个小批次，每个批次包含一定数量的样本。这种方法能够在计算效率和收敛速度之间取得平衡。\n",
    "   - **在线学习（Online Learning）/ 单例批次（Batch size of 1）**：每使用一个样本就更新一次模型参数。这种方式适用于流数据或者当数据量非常大而无法全部加载到内存中的情况。\n",
    "\n",
    "4. **选择合适的批次大小**：\n",
    "   - 批次大小的选择对模型性能有显著影响。较小的批次大小可以引入噪声，帮助跳出局部最优解；较大的批次大小则能提高计算效率，并且在某些情况下能够达到更好的泛化效果。但是，批次太大可能导致内存不足的问题。\n",
    "\n",
    "总之，在深度学习中讨论“批次”或“批”的时候，都是指在训练神经网络时一次性输入模型进行训练的一组数据。正确选择批次大小是优化模型训练过程的一个重要方面。"
   ]
  },
  {
   "cell_type": "markdown",
   "id": "5c54984e-6b7b-4e09-ada7-a79ef7456e74",
   "metadata": {},
   "source": [
    "## squee的作用就是删除维度为1的维度"
   ]
  },
  {
   "cell_type": "code",
   "execution_count": 1,
   "id": "0f0d48cd-1a6e-41a1-a6ac-9ea7087174d6",
   "metadata": {},
   "outputs": [],
   "source": [
    "import torch \n",
    "from torch import nn \n",
    "import torch.nn.functional as F \n",
    "import numpy as np \n",
    "import pandas as pd \n",
    "import matplotlib.pyplot as plt \n",
    "from torch.utils.data import TensorDataset,DataLoader \n",
    "from sklearn.model_selection import train_test_split"
   ]
  },
  {
   "cell_type": "markdown",
   "id": "20b18f5c-6bc9-4b04-ad65-e598904c7837",
   "metadata": {},
   "source": [
    "## 模板代码 "
   ]
  },
  {
   "cell_type": "markdown",
   "id": "460dd69a-316b-406a-9931-d670c001585a",
   "metadata": {},
   "source": [
    "### 创建fit()函数"
   ]
  },
  {
   "cell_type": "code",
   "execution_count": 2,
   "id": "570c1ac3-1208-4974-844d-716226bac064",
   "metadata": {},
   "outputs": [],
   "source": [
    "def fit_gpu(Train_DL,TST_DL,Model_m,epoch_,optim,loss_fn): \n",
    "    correct = 0\n",
    "    total = 0\n",
    "    running_loss = 0\n",
    "    tstcorrect = 0\n",
    "    tsttotal = 0\n",
    "    tstrunning_loss = 0\n",
    "    device = torch.device(\"cuda\" if torch.cuda.is_available() else \"cpu\")\n",
    "    Model_m.to(device)\n",
    "   \n",
    "    #创建俩列表接收损失值和精度值\n",
    "    train_loss_lst = []\n",
    "    train_acc_lst = []\n",
    "    tst_loss_lst=[]\n",
    "    tst_acc_lst=[]\n",
    "  \n",
    "    Model_m.train()  # 设置为训练模式\n",
    "    for x, y in Train_DL:\n",
    "        x = x.to(device)\n",
    "        y = y.to(device)\n",
    "        \n",
    "        y_pred = Model_m(x)\n",
    "        loss = loss_fn(y_pred, y)\n",
    "        \n",
    "        optim.zero_grad()\n",
    "        loss.backward()\n",
    "        optim.step()\n",
    "\n",
    "        # 每个epoch结束后评估模型\n",
    "   \n",
    "        with torch.no_grad():\n",
    "            y_pred = torch.argmax(y_pred,dim=1)\n",
    "            correct += (y_pred == y).sum().item() #预测正确的个数\n",
    "            # 因为(y_pred == y).sum()是一个张量,所以为了灯饰可以数值操作,我们用.item()取值\n",
    "            total += y.size(0) #样本的个数\n",
    "            running_loss += loss.item()\n",
    "\n",
    "        \n",
    "    epoch_acc = correct/total\n",
    "    epoch_loss = running_loss/len(Train_DL.dataset)\n",
    "\n",
    "    #测试阶段 \n",
    "    Model_m.eval()\n",
    "    with torch.no_grad(): #测试不需要反向传播,而是用训练好的模型来测试测试集的数据\n",
    "         for x, y in TST_DL:\n",
    "             x, y = x.to(device), y.to(device)\n",
    "             y_pred =Model_m(x)\n",
    "             loss = loss_fn(y_pred, y)\n",
    "             \n",
    "             y_pred = torch.argmax(y_pred,dim=1)   #获取真正的预测结果,不懂就往上巴拉argmax\n",
    "             tstcorrect += (y_pred == y).sum().item() #预测正确的个数\n",
    "             tsttotal += y.size(0) #样本的个数\n",
    "             tstrunning_loss += loss.item()\n",
    "             \n",
    "    tstepoch_acc = tstcorrect/tsttotal\n",
    "    tstepoch_loss = tstrunning_loss/len(TST_DL.dataset)\n",
    "\n",
    "    print(\n",
    "        f'epoch:{epoch} | loss:{epoch_loss:.3f} | acc:{epoch_acc:.3f} | tstloss:{tstepoch_loss:.3f} | tstacc:{tstepoch_acc:.3f}'\n",
    "    )\n",
    "\n",
    "    return epoch_loss,epoch_acc,tstepoch_loss,tstepoch_acc\n"
   ]
  },
  {
   "cell_type": "markdown",
   "id": "044516c1-db20-4c9b-98a8-a00ad992c7a4",
   "metadata": {},
   "source": [
    "### 创建模型"
   ]
  },
  {
   "cell_type": "markdown",
   "id": "ee843f30-904f-4952-870d-055019b81559",
   "metadata": {},
   "source": [
    "```python\n",
    "class Model(nn.Module):\n",
    "    def __init__(self): \n",
    "        super().__init__() \n",
    "        self.liner_1 = nn.Linear() \n",
    "        self.liner_2 = nn.Linear()  \n",
    "        self.liner_3 = nn.Linear() \n",
    "    #定义前向传播  \n",
    "    def forward(self,input): \n",
    "        pass \n",
    "\n",
    "model = Model()\n",
    "```"
   ]
  },
  {
   "cell_type": "markdown",
   "id": "ef4c6516-e7d8-428c-a060-ca45f9221888",
   "metadata": {},
   "source": [
    "### 创建损失函数和优化函数"
   ]
  },
  {
   "cell_type": "markdown",
   "id": "048db39c-7015-495f-94d3-9d2c6db46d1a",
   "metadata": {},
   "source": [
    "```python\n",
    "loss_fn = nn.CrossEntropyLoss()\n",
    "optim = nn.optim.xxx(model.parameters(),lr=0.001) #传入要优化的模型的参数并指定学习率\n",
    "```"
   ]
  },
  {
   "cell_type": "markdown",
   "id": "daf1be44-3d47-4808-add8-3be6f1ffdccf",
   "metadata": {},
   "source": [
    "### 定义batch和接收返回值以及训练"
   ]
  },
  {
   "cell_type": "markdown",
   "id": "ee04344d-e669-4537-afe5-4a95015ebcb5",
   "metadata": {},
   "source": [
    "```python\n",
    "batch = 8 #定义batchsize\n",
    "DS_train = TensorDataset(train_x,train_y)\n",
    "DL_train = DataLoader(DS_train,batch_size=batch,shuffle=True)\n",
    "\n",
    "DS_test = TensorDataset(test_x,test_y)\n",
    "DL_test = DataLoader(DS_test,batch_size=batch)  \n",
    "\n",
    "epochs = 50 \n",
    "\n",
    "train_loss_gpu=[] \n",
    "train_acc_gpu =[] \n",
    "tst_loss_gpu = [] \n",
    "tst_acc_gpu=[] \n",
    "for epoch in range(epochs): \n",
    "    epoch_loss,epoch_acc,tstepoch_loss,tstepoch_acc = fit_gpu(Train_DL=DL_train,TST_DL=DL_test,Model_m=model_gpu,epoch_=epoch,optim=optim_gpu,loss_fn=loss_fn_gpu)\n",
    "    train_loss_gpu.append(epoch_loss)\n",
    "    train_acc_gpu.append(epoch_acc)\n",
    "    tst_loss_gpu.append(tstepoch_loss)\n",
    "    tst_acc_gpu.append(tstepoch_acc)\n",
    "```"
   ]
  },
  {
   "cell_type": "markdown",
   "id": "8617ce79-2096-4bc4-931c-70422314f8c6",
   "metadata": {},
   "source": [
    "## 卷积神经网络"
   ]
  },
  {
   "cell_type": "markdown",
   "id": "00431a91-eeaa-406c-8d4c-8d82a3e0fffa",
   "metadata": {},
   "source": [
    "### 手写数字分类"
   ]
  },
  {
   "cell_type": "markdown",
   "id": "2084932b-2290-4d7a-a1c2-02b62b40eec7",
   "metadata": {},
   "source": [
    "##### torchvision内置了常用的数据集和模型"
   ]
  },
  {
   "cell_type": "markdown",
   "id": "baa4a4a0-7a31-4755-a305-136f8b657d9d",
   "metadata": {},
   "source": [
    "为了方便为我们转换数据集,它还内置了一个transform方法"
   ]
  },
  {
   "cell_type": "code",
   "execution_count": 3,
   "id": "2e6846eb-1a5a-4123-b746-2b0024a5fa51",
   "metadata": {},
   "outputs": [],
   "source": [
    "import torchvision\n",
    "from torchvision import datasets, transforms\n"
   ]
  },
  {
   "cell_type": "code",
   "execution_count": 4,
   "id": "ccb5fd64-91e8-4b2f-9fae-3f5af7612be8",
   "metadata": {},
   "outputs": [
    {
     "data": {
      "text/plain": [
       "\u001b[1;31mType:\u001b[0m        module\n",
       "\u001b[1;31mString form:\u001b[0m <module 'torchvision.datasets' from 'D:\\\\venvs\\\\dl\\\\Lib\\\\site-packages\\\\torchvision\\\\datasets\\\\__init__.py'>\n",
       "\u001b[1;31mFile:\u001b[0m        d:\\venvs\\dl\\lib\\site-packages\\torchvision\\datasets\\__init__.py\n",
       "\u001b[1;31mSource:\u001b[0m     \n",
       "\u001b[1;32mfrom\u001b[0m \u001b[1;33m.\u001b[0m\u001b[0m_optical_flow\u001b[0m \u001b[1;32mimport\u001b[0m \u001b[0mFlyingChairs\u001b[0m\u001b[1;33m,\u001b[0m \u001b[0mFlyingThings3D\u001b[0m\u001b[1;33m,\u001b[0m \u001b[0mHD1K\u001b[0m\u001b[1;33m,\u001b[0m \u001b[0mKittiFlow\u001b[0m\u001b[1;33m,\u001b[0m \u001b[0mSintel\u001b[0m\u001b[1;33m\n",
       "\u001b[0m\u001b[1;32mfrom\u001b[0m \u001b[1;33m.\u001b[0m\u001b[0m_stereo_matching\u001b[0m \u001b[1;32mimport\u001b[0m \u001b[1;33m(\u001b[0m\u001b[1;33m\n",
       "\u001b[0m    \u001b[0mCarlaStereo\u001b[0m\u001b[1;33m,\u001b[0m\u001b[1;33m\n",
       "\u001b[0m    \u001b[0mCREStereo\u001b[0m\u001b[1;33m,\u001b[0m\u001b[1;33m\n",
       "\u001b[0m    \u001b[0mETH3DStereo\u001b[0m\u001b[1;33m,\u001b[0m\u001b[1;33m\n",
       "\u001b[0m    \u001b[0mFallingThingsStereo\u001b[0m\u001b[1;33m,\u001b[0m\u001b[1;33m\n",
       "\u001b[0m    \u001b[0mInStereo2k\u001b[0m\u001b[1;33m,\u001b[0m\u001b[1;33m\n",
       "\u001b[0m    \u001b[0mKitti2012Stereo\u001b[0m\u001b[1;33m,\u001b[0m\u001b[1;33m\n",
       "\u001b[0m    \u001b[0mKitti2015Stereo\u001b[0m\u001b[1;33m,\u001b[0m\u001b[1;33m\n",
       "\u001b[0m    \u001b[0mMiddlebury2014Stereo\u001b[0m\u001b[1;33m,\u001b[0m\u001b[1;33m\n",
       "\u001b[0m    \u001b[0mSceneFlowStereo\u001b[0m\u001b[1;33m,\u001b[0m\u001b[1;33m\n",
       "\u001b[0m    \u001b[0mSintelStereo\u001b[0m\u001b[1;33m,\u001b[0m\u001b[1;33m\n",
       "\u001b[0m\u001b[1;33m)\u001b[0m\u001b[1;33m\n",
       "\u001b[0m\u001b[1;32mfrom\u001b[0m \u001b[1;33m.\u001b[0m\u001b[0mcaltech\u001b[0m \u001b[1;32mimport\u001b[0m \u001b[0mCaltech101\u001b[0m\u001b[1;33m,\u001b[0m \u001b[0mCaltech256\u001b[0m\u001b[1;33m\n",
       "\u001b[0m\u001b[1;32mfrom\u001b[0m \u001b[1;33m.\u001b[0m\u001b[0mceleba\u001b[0m \u001b[1;32mimport\u001b[0m \u001b[0mCelebA\u001b[0m\u001b[1;33m\n",
       "\u001b[0m\u001b[1;32mfrom\u001b[0m \u001b[1;33m.\u001b[0m\u001b[0mcifar\u001b[0m \u001b[1;32mimport\u001b[0m \u001b[0mCIFAR10\u001b[0m\u001b[1;33m,\u001b[0m \u001b[0mCIFAR100\u001b[0m\u001b[1;33m\n",
       "\u001b[0m\u001b[1;32mfrom\u001b[0m \u001b[1;33m.\u001b[0m\u001b[0mcityscapes\u001b[0m \u001b[1;32mimport\u001b[0m \u001b[0mCityscapes\u001b[0m\u001b[1;33m\n",
       "\u001b[0m\u001b[1;32mfrom\u001b[0m \u001b[1;33m.\u001b[0m\u001b[0mclevr\u001b[0m \u001b[1;32mimport\u001b[0m \u001b[0mCLEVRClassification\u001b[0m\u001b[1;33m\n",
       "\u001b[0m\u001b[1;32mfrom\u001b[0m \u001b[1;33m.\u001b[0m\u001b[0mcoco\u001b[0m \u001b[1;32mimport\u001b[0m \u001b[0mCocoCaptions\u001b[0m\u001b[1;33m,\u001b[0m \u001b[0mCocoDetection\u001b[0m\u001b[1;33m\n",
       "\u001b[0m\u001b[1;32mfrom\u001b[0m \u001b[1;33m.\u001b[0m\u001b[0mcountry211\u001b[0m \u001b[1;32mimport\u001b[0m \u001b[0mCountry211\u001b[0m\u001b[1;33m\n",
       "\u001b[0m\u001b[1;32mfrom\u001b[0m \u001b[1;33m.\u001b[0m\u001b[0mdtd\u001b[0m \u001b[1;32mimport\u001b[0m \u001b[0mDTD\u001b[0m\u001b[1;33m\n",
       "\u001b[0m\u001b[1;32mfrom\u001b[0m \u001b[1;33m.\u001b[0m\u001b[0meurosat\u001b[0m \u001b[1;32mimport\u001b[0m \u001b[0mEuroSAT\u001b[0m\u001b[1;33m\n",
       "\u001b[0m\u001b[1;32mfrom\u001b[0m \u001b[1;33m.\u001b[0m\u001b[0mfakedata\u001b[0m \u001b[1;32mimport\u001b[0m \u001b[0mFakeData\u001b[0m\u001b[1;33m\n",
       "\u001b[0m\u001b[1;32mfrom\u001b[0m \u001b[1;33m.\u001b[0m\u001b[0mfer2013\u001b[0m \u001b[1;32mimport\u001b[0m \u001b[0mFER2013\u001b[0m\u001b[1;33m\n",
       "\u001b[0m\u001b[1;32mfrom\u001b[0m \u001b[1;33m.\u001b[0m\u001b[0mfgvc_aircraft\u001b[0m \u001b[1;32mimport\u001b[0m \u001b[0mFGVCAircraft\u001b[0m\u001b[1;33m\n",
       "\u001b[0m\u001b[1;32mfrom\u001b[0m \u001b[1;33m.\u001b[0m\u001b[0mflickr\u001b[0m \u001b[1;32mimport\u001b[0m \u001b[0mFlickr30k\u001b[0m\u001b[1;33m,\u001b[0m \u001b[0mFlickr8k\u001b[0m\u001b[1;33m\n",
       "\u001b[0m\u001b[1;32mfrom\u001b[0m \u001b[1;33m.\u001b[0m\u001b[0mflowers102\u001b[0m \u001b[1;32mimport\u001b[0m \u001b[0mFlowers102\u001b[0m\u001b[1;33m\n",
       "\u001b[0m\u001b[1;32mfrom\u001b[0m \u001b[1;33m.\u001b[0m\u001b[0mfolder\u001b[0m \u001b[1;32mimport\u001b[0m \u001b[0mDatasetFolder\u001b[0m\u001b[1;33m,\u001b[0m \u001b[0mImageFolder\u001b[0m\u001b[1;33m\n",
       "\u001b[0m\u001b[1;32mfrom\u001b[0m \u001b[1;33m.\u001b[0m\u001b[0mfood101\u001b[0m \u001b[1;32mimport\u001b[0m \u001b[0mFood101\u001b[0m\u001b[1;33m\n",
       "\u001b[0m\u001b[1;32mfrom\u001b[0m \u001b[1;33m.\u001b[0m\u001b[0mgtsrb\u001b[0m \u001b[1;32mimport\u001b[0m \u001b[0mGTSRB\u001b[0m\u001b[1;33m\n",
       "\u001b[0m\u001b[1;32mfrom\u001b[0m \u001b[1;33m.\u001b[0m\u001b[0mhmdb51\u001b[0m \u001b[1;32mimport\u001b[0m \u001b[0mHMDB51\u001b[0m\u001b[1;33m\n",
       "\u001b[0m\u001b[1;32mfrom\u001b[0m \u001b[1;33m.\u001b[0m\u001b[0mimagenet\u001b[0m \u001b[1;32mimport\u001b[0m \u001b[0mImageNet\u001b[0m\u001b[1;33m\n",
       "\u001b[0m\u001b[1;32mfrom\u001b[0m \u001b[1;33m.\u001b[0m\u001b[0mimagenette\u001b[0m \u001b[1;32mimport\u001b[0m \u001b[0mImagenette\u001b[0m\u001b[1;33m\n",
       "\u001b[0m\u001b[1;32mfrom\u001b[0m \u001b[1;33m.\u001b[0m\u001b[0minaturalist\u001b[0m \u001b[1;32mimport\u001b[0m \u001b[0mINaturalist\u001b[0m\u001b[1;33m\n",
       "\u001b[0m\u001b[1;32mfrom\u001b[0m \u001b[1;33m.\u001b[0m\u001b[0mkinetics\u001b[0m \u001b[1;32mimport\u001b[0m \u001b[0mKinetics\u001b[0m\u001b[1;33m\n",
       "\u001b[0m\u001b[1;32mfrom\u001b[0m \u001b[1;33m.\u001b[0m\u001b[0mkitti\u001b[0m \u001b[1;32mimport\u001b[0m \u001b[0mKitti\u001b[0m\u001b[1;33m\n",
       "\u001b[0m\u001b[1;32mfrom\u001b[0m \u001b[1;33m.\u001b[0m\u001b[0mlfw\u001b[0m \u001b[1;32mimport\u001b[0m \u001b[0mLFWPairs\u001b[0m\u001b[1;33m,\u001b[0m \u001b[0mLFWPeople\u001b[0m\u001b[1;33m\n",
       "\u001b[0m\u001b[1;32mfrom\u001b[0m \u001b[1;33m.\u001b[0m\u001b[0mlsun\u001b[0m \u001b[1;32mimport\u001b[0m \u001b[0mLSUN\u001b[0m\u001b[1;33m,\u001b[0m \u001b[0mLSUNClass\u001b[0m\u001b[1;33m\n",
       "\u001b[0m\u001b[1;32mfrom\u001b[0m \u001b[1;33m.\u001b[0m\u001b[0mmnist\u001b[0m \u001b[1;32mimport\u001b[0m \u001b[0mEMNIST\u001b[0m\u001b[1;33m,\u001b[0m \u001b[0mFashionMNIST\u001b[0m\u001b[1;33m,\u001b[0m \u001b[0mKMNIST\u001b[0m\u001b[1;33m,\u001b[0m \u001b[0mMNIST\u001b[0m\u001b[1;33m,\u001b[0m \u001b[0mQMNIST\u001b[0m\u001b[1;33m\n",
       "\u001b[0m\u001b[1;32mfrom\u001b[0m \u001b[1;33m.\u001b[0m\u001b[0mmoving_mnist\u001b[0m \u001b[1;32mimport\u001b[0m \u001b[0mMovingMNIST\u001b[0m\u001b[1;33m\n",
       "\u001b[0m\u001b[1;32mfrom\u001b[0m \u001b[1;33m.\u001b[0m\u001b[0momniglot\u001b[0m \u001b[1;32mimport\u001b[0m \u001b[0mOmniglot\u001b[0m\u001b[1;33m\n",
       "\u001b[0m\u001b[1;32mfrom\u001b[0m \u001b[1;33m.\u001b[0m\u001b[0moxford_iiit_pet\u001b[0m \u001b[1;32mimport\u001b[0m \u001b[0mOxfordIIITPet\u001b[0m\u001b[1;33m\n",
       "\u001b[0m\u001b[1;32mfrom\u001b[0m \u001b[1;33m.\u001b[0m\u001b[0mpcam\u001b[0m \u001b[1;32mimport\u001b[0m \u001b[0mPCAM\u001b[0m\u001b[1;33m\n",
       "\u001b[0m\u001b[1;32mfrom\u001b[0m \u001b[1;33m.\u001b[0m\u001b[0mphototour\u001b[0m \u001b[1;32mimport\u001b[0m \u001b[0mPhotoTour\u001b[0m\u001b[1;33m\n",
       "\u001b[0m\u001b[1;32mfrom\u001b[0m \u001b[1;33m.\u001b[0m\u001b[0mplaces365\u001b[0m \u001b[1;32mimport\u001b[0m \u001b[0mPlaces365\u001b[0m\u001b[1;33m\n",
       "\u001b[0m\u001b[1;32mfrom\u001b[0m \u001b[1;33m.\u001b[0m\u001b[0mrendered_sst2\u001b[0m \u001b[1;32mimport\u001b[0m \u001b[0mRenderedSST2\u001b[0m\u001b[1;33m\n",
       "\u001b[0m\u001b[1;32mfrom\u001b[0m \u001b[1;33m.\u001b[0m\u001b[0msbd\u001b[0m \u001b[1;32mimport\u001b[0m \u001b[0mSBDataset\u001b[0m\u001b[1;33m\n",
       "\u001b[0m\u001b[1;32mfrom\u001b[0m \u001b[1;33m.\u001b[0m\u001b[0msbu\u001b[0m \u001b[1;32mimport\u001b[0m \u001b[0mSBU\u001b[0m\u001b[1;33m\n",
       "\u001b[0m\u001b[1;32mfrom\u001b[0m \u001b[1;33m.\u001b[0m\u001b[0msemeion\u001b[0m \u001b[1;32mimport\u001b[0m \u001b[0mSEMEION\u001b[0m\u001b[1;33m\n",
       "\u001b[0m\u001b[1;32mfrom\u001b[0m \u001b[1;33m.\u001b[0m\u001b[0mstanford_cars\u001b[0m \u001b[1;32mimport\u001b[0m \u001b[0mStanfordCars\u001b[0m\u001b[1;33m\n",
       "\u001b[0m\u001b[1;32mfrom\u001b[0m \u001b[1;33m.\u001b[0m\u001b[0mstl10\u001b[0m \u001b[1;32mimport\u001b[0m \u001b[0mSTL10\u001b[0m\u001b[1;33m\n",
       "\u001b[0m\u001b[1;32mfrom\u001b[0m \u001b[1;33m.\u001b[0m\u001b[0msun397\u001b[0m \u001b[1;32mimport\u001b[0m \u001b[0mSUN397\u001b[0m\u001b[1;33m\n",
       "\u001b[0m\u001b[1;32mfrom\u001b[0m \u001b[1;33m.\u001b[0m\u001b[0msvhn\u001b[0m \u001b[1;32mimport\u001b[0m \u001b[0mSVHN\u001b[0m\u001b[1;33m\n",
       "\u001b[0m\u001b[1;32mfrom\u001b[0m \u001b[1;33m.\u001b[0m\u001b[0mucf101\u001b[0m \u001b[1;32mimport\u001b[0m \u001b[0mUCF101\u001b[0m\u001b[1;33m\n",
       "\u001b[0m\u001b[1;32mfrom\u001b[0m \u001b[1;33m.\u001b[0m\u001b[0musps\u001b[0m \u001b[1;32mimport\u001b[0m \u001b[0mUSPS\u001b[0m\u001b[1;33m\n",
       "\u001b[0m\u001b[1;32mfrom\u001b[0m \u001b[1;33m.\u001b[0m\u001b[0mvision\u001b[0m \u001b[1;32mimport\u001b[0m \u001b[0mVisionDataset\u001b[0m\u001b[1;33m\n",
       "\u001b[0m\u001b[1;32mfrom\u001b[0m \u001b[1;33m.\u001b[0m\u001b[0mvoc\u001b[0m \u001b[1;32mimport\u001b[0m \u001b[0mVOCDetection\u001b[0m\u001b[1;33m,\u001b[0m \u001b[0mVOCSegmentation\u001b[0m\u001b[1;33m\n",
       "\u001b[0m\u001b[1;32mfrom\u001b[0m \u001b[1;33m.\u001b[0m\u001b[0mwiderface\u001b[0m \u001b[1;32mimport\u001b[0m \u001b[0mWIDERFace\u001b[0m\u001b[1;33m\n",
       "\u001b[0m\u001b[1;33m\n",
       "\u001b[0m\u001b[0m__all__\u001b[0m \u001b[1;33m=\u001b[0m \u001b[1;33m(\u001b[0m\u001b[1;33m\n",
       "\u001b[0m    \u001b[1;34m\"LSUN\"\u001b[0m\u001b[1;33m,\u001b[0m\u001b[1;33m\n",
       "\u001b[0m    \u001b[1;34m\"LSUNClass\"\u001b[0m\u001b[1;33m,\u001b[0m\u001b[1;33m\n",
       "\u001b[0m    \u001b[1;34m\"ImageFolder\"\u001b[0m\u001b[1;33m,\u001b[0m\u001b[1;33m\n",
       "\u001b[0m    \u001b[1;34m\"DatasetFolder\"\u001b[0m\u001b[1;33m,\u001b[0m\u001b[1;33m\n",
       "\u001b[0m    \u001b[1;34m\"FakeData\"\u001b[0m\u001b[1;33m,\u001b[0m\u001b[1;33m\n",
       "\u001b[0m    \u001b[1;34m\"CocoCaptions\"\u001b[0m\u001b[1;33m,\u001b[0m\u001b[1;33m\n",
       "\u001b[0m    \u001b[1;34m\"CocoDetection\"\u001b[0m\u001b[1;33m,\u001b[0m\u001b[1;33m\n",
       "\u001b[0m    \u001b[1;34m\"CIFAR10\"\u001b[0m\u001b[1;33m,\u001b[0m\u001b[1;33m\n",
       "\u001b[0m    \u001b[1;34m\"CIFAR100\"\u001b[0m\u001b[1;33m,\u001b[0m\u001b[1;33m\n",
       "\u001b[0m    \u001b[1;34m\"EMNIST\"\u001b[0m\u001b[1;33m,\u001b[0m\u001b[1;33m\n",
       "\u001b[0m    \u001b[1;34m\"FashionMNIST\"\u001b[0m\u001b[1;33m,\u001b[0m\u001b[1;33m\n",
       "\u001b[0m    \u001b[1;34m\"QMNIST\"\u001b[0m\u001b[1;33m,\u001b[0m\u001b[1;33m\n",
       "\u001b[0m    \u001b[1;34m\"MNIST\"\u001b[0m\u001b[1;33m,\u001b[0m\u001b[1;33m\n",
       "\u001b[0m    \u001b[1;34m\"KMNIST\"\u001b[0m\u001b[1;33m,\u001b[0m\u001b[1;33m\n",
       "\u001b[0m    \u001b[1;34m\"MovingMNIST\"\u001b[0m\u001b[1;33m,\u001b[0m\u001b[1;33m\n",
       "\u001b[0m    \u001b[1;34m\"StanfordCars\"\u001b[0m\u001b[1;33m,\u001b[0m\u001b[1;33m\n",
       "\u001b[0m    \u001b[1;34m\"STL10\"\u001b[0m\u001b[1;33m,\u001b[0m\u001b[1;33m\n",
       "\u001b[0m    \u001b[1;34m\"SUN397\"\u001b[0m\u001b[1;33m,\u001b[0m\u001b[1;33m\n",
       "\u001b[0m    \u001b[1;34m\"SVHN\"\u001b[0m\u001b[1;33m,\u001b[0m\u001b[1;33m\n",
       "\u001b[0m    \u001b[1;34m\"PhotoTour\"\u001b[0m\u001b[1;33m,\u001b[0m\u001b[1;33m\n",
       "\u001b[0m    \u001b[1;34m\"SEMEION\"\u001b[0m\u001b[1;33m,\u001b[0m\u001b[1;33m\n",
       "\u001b[0m    \u001b[1;34m\"Omniglot\"\u001b[0m\u001b[1;33m,\u001b[0m\u001b[1;33m\n",
       "\u001b[0m    \u001b[1;34m\"SBU\"\u001b[0m\u001b[1;33m,\u001b[0m\u001b[1;33m\n",
       "\u001b[0m    \u001b[1;34m\"Flickr8k\"\u001b[0m\u001b[1;33m,\u001b[0m\u001b[1;33m\n",
       "\u001b[0m    \u001b[1;34m\"Flickr30k\"\u001b[0m\u001b[1;33m,\u001b[0m\u001b[1;33m\n",
       "\u001b[0m    \u001b[1;34m\"Flowers102\"\u001b[0m\u001b[1;33m,\u001b[0m\u001b[1;33m\n",
       "\u001b[0m    \u001b[1;34m\"VOCSegmentation\"\u001b[0m\u001b[1;33m,\u001b[0m\u001b[1;33m\n",
       "\u001b[0m    \u001b[1;34m\"VOCDetection\"\u001b[0m\u001b[1;33m,\u001b[0m\u001b[1;33m\n",
       "\u001b[0m    \u001b[1;34m\"Cityscapes\"\u001b[0m\u001b[1;33m,\u001b[0m\u001b[1;33m\n",
       "\u001b[0m    \u001b[1;34m\"ImageNet\"\u001b[0m\u001b[1;33m,\u001b[0m\u001b[1;33m\n",
       "\u001b[0m    \u001b[1;34m\"Caltech101\"\u001b[0m\u001b[1;33m,\u001b[0m\u001b[1;33m\n",
       "\u001b[0m    \u001b[1;34m\"Caltech256\"\u001b[0m\u001b[1;33m,\u001b[0m\u001b[1;33m\n",
       "\u001b[0m    \u001b[1;34m\"CelebA\"\u001b[0m\u001b[1;33m,\u001b[0m\u001b[1;33m\n",
       "\u001b[0m    \u001b[1;34m\"WIDERFace\"\u001b[0m\u001b[1;33m,\u001b[0m\u001b[1;33m\n",
       "\u001b[0m    \u001b[1;34m\"SBDataset\"\u001b[0m\u001b[1;33m,\u001b[0m\u001b[1;33m\n",
       "\u001b[0m    \u001b[1;34m\"VisionDataset\"\u001b[0m\u001b[1;33m,\u001b[0m\u001b[1;33m\n",
       "\u001b[0m    \u001b[1;34m\"USPS\"\u001b[0m\u001b[1;33m,\u001b[0m\u001b[1;33m\n",
       "\u001b[0m    \u001b[1;34m\"Kinetics\"\u001b[0m\u001b[1;33m,\u001b[0m\u001b[1;33m\n",
       "\u001b[0m    \u001b[1;34m\"HMDB51\"\u001b[0m\u001b[1;33m,\u001b[0m\u001b[1;33m\n",
       "\u001b[0m    \u001b[1;34m\"UCF101\"\u001b[0m\u001b[1;33m,\u001b[0m\u001b[1;33m\n",
       "\u001b[0m    \u001b[1;34m\"Places365\"\u001b[0m\u001b[1;33m,\u001b[0m\u001b[1;33m\n",
       "\u001b[0m    \u001b[1;34m\"Kitti\"\u001b[0m\u001b[1;33m,\u001b[0m\u001b[1;33m\n",
       "\u001b[0m    \u001b[1;34m\"INaturalist\"\u001b[0m\u001b[1;33m,\u001b[0m\u001b[1;33m\n",
       "\u001b[0m    \u001b[1;34m\"LFWPeople\"\u001b[0m\u001b[1;33m,\u001b[0m\u001b[1;33m\n",
       "\u001b[0m    \u001b[1;34m\"LFWPairs\"\u001b[0m\u001b[1;33m,\u001b[0m\u001b[1;33m\n",
       "\u001b[0m    \u001b[1;34m\"KittiFlow\"\u001b[0m\u001b[1;33m,\u001b[0m\u001b[1;33m\n",
       "\u001b[0m    \u001b[1;34m\"Sintel\"\u001b[0m\u001b[1;33m,\u001b[0m\u001b[1;33m\n",
       "\u001b[0m    \u001b[1;34m\"FlyingChairs\"\u001b[0m\u001b[1;33m,\u001b[0m\u001b[1;33m\n",
       "\u001b[0m    \u001b[1;34m\"FlyingThings3D\"\u001b[0m\u001b[1;33m,\u001b[0m\u001b[1;33m\n",
       "\u001b[0m    \u001b[1;34m\"HD1K\"\u001b[0m\u001b[1;33m,\u001b[0m\u001b[1;33m\n",
       "\u001b[0m    \u001b[1;34m\"Food101\"\u001b[0m\u001b[1;33m,\u001b[0m\u001b[1;33m\n",
       "\u001b[0m    \u001b[1;34m\"DTD\"\u001b[0m\u001b[1;33m,\u001b[0m\u001b[1;33m\n",
       "\u001b[0m    \u001b[1;34m\"FER2013\"\u001b[0m\u001b[1;33m,\u001b[0m\u001b[1;33m\n",
       "\u001b[0m    \u001b[1;34m\"GTSRB\"\u001b[0m\u001b[1;33m,\u001b[0m\u001b[1;33m\n",
       "\u001b[0m    \u001b[1;34m\"CLEVRClassification\"\u001b[0m\u001b[1;33m,\u001b[0m\u001b[1;33m\n",
       "\u001b[0m    \u001b[1;34m\"OxfordIIITPet\"\u001b[0m\u001b[1;33m,\u001b[0m\u001b[1;33m\n",
       "\u001b[0m    \u001b[1;34m\"PCAM\"\u001b[0m\u001b[1;33m,\u001b[0m\u001b[1;33m\n",
       "\u001b[0m    \u001b[1;34m\"Country211\"\u001b[0m\u001b[1;33m,\u001b[0m\u001b[1;33m\n",
       "\u001b[0m    \u001b[1;34m\"FGVCAircraft\"\u001b[0m\u001b[1;33m,\u001b[0m\u001b[1;33m\n",
       "\u001b[0m    \u001b[1;34m\"EuroSAT\"\u001b[0m\u001b[1;33m,\u001b[0m\u001b[1;33m\n",
       "\u001b[0m    \u001b[1;34m\"RenderedSST2\"\u001b[0m\u001b[1;33m,\u001b[0m\u001b[1;33m\n",
       "\u001b[0m    \u001b[1;34m\"Kitti2012Stereo\"\u001b[0m\u001b[1;33m,\u001b[0m\u001b[1;33m\n",
       "\u001b[0m    \u001b[1;34m\"Kitti2015Stereo\"\u001b[0m\u001b[1;33m,\u001b[0m\u001b[1;33m\n",
       "\u001b[0m    \u001b[1;34m\"CarlaStereo\"\u001b[0m\u001b[1;33m,\u001b[0m\u001b[1;33m\n",
       "\u001b[0m    \u001b[1;34m\"Middlebury2014Stereo\"\u001b[0m\u001b[1;33m,\u001b[0m\u001b[1;33m\n",
       "\u001b[0m    \u001b[1;34m\"CREStereo\"\u001b[0m\u001b[1;33m,\u001b[0m\u001b[1;33m\n",
       "\u001b[0m    \u001b[1;34m\"FallingThingsStereo\"\u001b[0m\u001b[1;33m,\u001b[0m\u001b[1;33m\n",
       "\u001b[0m    \u001b[1;34m\"SceneFlowStereo\"\u001b[0m\u001b[1;33m,\u001b[0m\u001b[1;33m\n",
       "\u001b[0m    \u001b[1;34m\"SintelStereo\"\u001b[0m\u001b[1;33m,\u001b[0m\u001b[1;33m\n",
       "\u001b[0m    \u001b[1;34m\"InStereo2k\"\u001b[0m\u001b[1;33m,\u001b[0m\u001b[1;33m\n",
       "\u001b[0m    \u001b[1;34m\"ETH3DStereo\"\u001b[0m\u001b[1;33m,\u001b[0m\u001b[1;33m\n",
       "\u001b[0m    \u001b[1;34m\"wrap_dataset_for_transforms_v2\"\u001b[0m\u001b[1;33m,\u001b[0m\u001b[1;33m\n",
       "\u001b[0m    \u001b[1;34m\"Imagenette\"\u001b[0m\u001b[1;33m,\u001b[0m\u001b[1;33m\n",
       "\u001b[0m\u001b[1;33m)\u001b[0m\u001b[1;33m\n",
       "\u001b[0m\u001b[1;33m\n",
       "\u001b[0m\u001b[1;33m\n",
       "\u001b[0m\u001b[1;31m# We override current module's attributes to handle the import:\u001b[0m\u001b[1;33m\n",
       "\u001b[0m\u001b[1;31m# from torchvision.datasets import wrap_dataset_for_transforms_v2\u001b[0m\u001b[1;33m\n",
       "\u001b[0m\u001b[1;31m# without a cyclic error.\u001b[0m\u001b[1;33m\n",
       "\u001b[0m\u001b[1;31m# Ref: https://peps.python.org/pep-0562/\u001b[0m\u001b[1;33m\n",
       "\u001b[0m\u001b[1;32mdef\u001b[0m \u001b[0m__getattr__\u001b[0m\u001b[1;33m(\u001b[0m\u001b[0mname\u001b[0m\u001b[1;33m)\u001b[0m\u001b[1;33m:\u001b[0m\u001b[1;33m\n",
       "\u001b[0m    \u001b[1;32mif\u001b[0m \u001b[0mname\u001b[0m \u001b[1;32min\u001b[0m \u001b[1;33m(\u001b[0m\u001b[1;34m\"wrap_dataset_for_transforms_v2\"\u001b[0m\u001b[1;33m,\u001b[0m\u001b[1;33m)\u001b[0m\u001b[1;33m:\u001b[0m\u001b[1;33m\n",
       "\u001b[0m        \u001b[1;32mfrom\u001b[0m \u001b[0mtorchvision\u001b[0m\u001b[1;33m.\u001b[0m\u001b[0mtv_tensors\u001b[0m\u001b[1;33m.\u001b[0m\u001b[0m_dataset_wrapper\u001b[0m \u001b[1;32mimport\u001b[0m \u001b[0mwrap_dataset_for_transforms_v2\u001b[0m\u001b[1;33m\n",
       "\u001b[0m\u001b[1;33m\n",
       "\u001b[0m        \u001b[1;32mreturn\u001b[0m \u001b[0mwrap_dataset_for_transforms_v2\u001b[0m\u001b[1;33m\n",
       "\u001b[0m\u001b[1;33m\n",
       "\u001b[0m    \u001b[1;32mraise\u001b[0m \u001b[0mAttributeError\u001b[0m\u001b[1;33m(\u001b[0m\u001b[1;34mf\"module {__name__!r} has no attribute {name!r}\"\u001b[0m\u001b[1;33m)\u001b[0m\u001b[1;33m\u001b[0m\u001b[1;33m\u001b[0m\u001b[0m"
      ]
     },
     "metadata": {},
     "output_type": "display_data"
    }
   ],
   "source": [
    "datasets??"
   ]
  },
  {
   "cell_type": "markdown",
   "id": "08e98782-c631-490f-8501-983ae4ef2a91",
   "metadata": {},
   "source": [
    "### 加载数据集"
   ]
  },
  {
   "cell_type": "markdown",
   "id": "54783604-27ec-46c6-b9bc-0db4540da142",
   "metadata": {},
   "source": [
    "### transforms.ToTensor的两个作用就是 \n",
    "1. 将读取的数据转换为张量\n",
    "2. 将数据归一化(如图片数据),转为(0-1)之间的数"
   ]
  },
  {
   "cell_type": "markdown",
   "id": "e4fd9f8b-0f9e-4117-82cf-2ce6bf251089",
   "metadata": {},
   "source": [
    "#### 准备训练集"
   ]
  },
  {
   "cell_type": "code",
   "execution_count": 5,
   "id": "4b3f14e9-9d58-4d73-9bab-50d51e6e5f37",
   "metadata": {},
   "outputs": [],
   "source": [
    "transformation = transforms.Compose(\n",
    "    [\n",
    "        transforms.ToTensor(), #将读取的数据转换为张量\n",
    "        # transforms.Normalize() #初学不建议\n",
    "        #标准化到-1~1之间\n",
    "        \n",
    "    ]\n",
    ")"
   ]
  },
  {
   "cell_type": "code",
   "execution_count": 6,
   "id": "5773a216-7849-4923-bc22-8e4c35fa3061",
   "metadata": {},
   "outputs": [],
   "source": [
    "\n",
    "DS_Train = datasets.MNIST(\n",
    "    './dataset/', #指定数据的下载位置 \n",
    "    train=True, #声明是Train数据 \n",
    "    transform=transformation, #要做的变换\n",
    "    download=False, #是否下载,这里我已经下载了,就不浪费流量了\n",
    ")"
   ]
  },
  {
   "cell_type": "code",
   "execution_count": 7,
   "id": "13d7fbbe-9fd5-4b62-8070-82fa41064c2c",
   "metadata": {},
   "outputs": [
    {
     "data": {
      "text/plain": [
       "torchvision.datasets.mnist.MNIST"
      ]
     },
     "execution_count": 7,
     "metadata": {},
     "output_type": "execute_result"
    }
   ],
   "source": [
    "type(DS_Train)"
   ]
  },
  {
   "cell_type": "markdown",
   "id": "697fe44c-1fea-4054-b356-b088a05e8035",
   "metadata": {},
   "source": [
    "#### 准备测试集"
   ]
  },
  {
   "cell_type": "code",
   "execution_count": 8,
   "id": "7dab9261-8359-4c55-ba2a-31f18ce24718",
   "metadata": {},
   "outputs": [],
   "source": [
    "DS_Test = datasets.MNIST(\n",
    "    './dataset/', #指定数据的下载位置 \n",
    "    train=False, #非Train数据集 \n",
    "    transform=transformation, #要做的变换\n",
    "    download=False, #是否下载\n",
    ")"
   ]
  },
  {
   "cell_type": "markdown",
   "id": "3d987fea-0784-4b68-aba0-8048f65eaeb5",
   "metadata": {},
   "source": [
    "注意,直接返回的就是tensordataset那样的数据集,所以可以直接下一步处理成dataloader"
   ]
  },
  {
   "cell_type": "code",
   "execution_count": 9,
   "id": "3506bbb5-16b8-499b-9d85-4b42ce35e491",
   "metadata": {},
   "outputs": [],
   "source": [
    "DL_train = DataLoader(DS_Train,batch_size=64,shuffle=True)\n",
    "DL_test = DataLoader(DS_Test,batch_size=256,shuffle=False)\n",
    "#测试集并不需要反向传播,所以占用资源比较小,所以可以提升测试集\n",
    "# 的batchsize"
   ]
  },
  {
   "cell_type": "code",
   "execution_count": 10,
   "id": "59e2988c-f62c-4ec8-bd30-da784dc9971f",
   "metadata": {},
   "outputs": [
    {
     "data": {
      "text/plain": [
       "torch.utils.data.dataloader.DataLoader"
      ]
     },
     "execution_count": 10,
     "metadata": {},
     "output_type": "execute_result"
    }
   ],
   "source": [
    "type(DL_train)"
   ]
  },
  {
   "cell_type": "markdown",
   "id": "6d19a45f-587f-49fc-83b5-d3e03f3a6f31",
   "metadata": {},
   "source": [
    "#### 看看数据集长什么样"
   ]
  },
  {
   "cell_type": "markdown",
   "id": "14cc80f5-7ee8-482e-862b-06a31b5bd401",
   "metadata": {},
   "source": [
    "拿出一个批次,看看这玩意儿长什么样子"
   ]
  },
  {
   "cell_type": "markdown",
   "id": "0b3762b1-a921-4b2d-8c27-610beeecd4b2",
   "metadata": {},
   "source": [
    "#### 注意这玩意儿有俩返回值,一个是图片,一个是图片对应的标签"
   ]
  },
  {
   "cell_type": "code",
   "execution_count": 27,
   "id": "fb742294-a112-4e40-8232-173a8366bb7f",
   "metadata": {},
   "outputs": [],
   "source": [
    "img64,labels = next(iter(DL_train))"
   ]
  },
  {
   "cell_type": "code",
   "execution_count": 29,
   "id": "034df497-c7be-45a4-8731-1ee041418f3f",
   "metadata": {},
   "outputs": [
    {
     "data": {
      "text/plain": [
       "torch.Size([64, 1, 28, 28])"
      ]
     },
     "execution_count": 29,
     "metadata": {},
     "output_type": "execute_result"
    }
   ],
   "source": [
    "img64.shape"
   ]
  },
  {
   "cell_type": "markdown",
   "id": "e78f9647-2f57-46f7-a1f4-194b9f4300d3",
   "metadata": {},
   "source": [
    "batchsize是64,一个通道(chanel),$28\\times28$ 的图像（n,c,h,w）"
   ]
  },
  {
   "cell_type": "markdown",
   "id": "e0c8daa2-5ca1-4e83-bc5b-d6b561b163a9",
   "metadata": {},
   "source": [
    "在pytorch里面图片的表示形式就是  \n",
    "$(n(batch),c(chanel),h(height),w(width))$"
   ]
  },
  {
   "cell_type": "markdown",
   "id": "a98d0e43-1b91-44b5-baf0-63fe22c191e1",
   "metadata": {},
   "source": [
    "取出第一张图片"
   ]
  },
  {
   "cell_type": "code",
   "execution_count": 30,
   "id": "d8a63ede-cfdb-4ece-9e17-5213a50d22eb",
   "metadata": {},
   "outputs": [],
   "source": [
    "imgs = img64[0] "
   ]
  },
  {
   "cell_type": "code",
   "execution_count": 31,
   "id": "338b4bdf-7cc9-4980-945e-d5232f87940d",
   "metadata": {},
   "outputs": [
    {
     "data": {
      "text/plain": [
       "torch.Size([1, 28, 28])"
      ]
     },
     "execution_count": 31,
     "metadata": {},
     "output_type": "execute_result"
    }
   ],
   "source": [
    "imgs.shape"
   ]
  },
  {
   "cell_type": "markdown",
   "id": "ef398322-99a2-418a-8d95-31af8df693bc",
   "metadata": {},
   "source": [
    "转换为ndarry,但是第一个维度我们并不需要,  \n",
    "所以利用squeeze将其去掉"
   ]
  },
  {
   "cell_type": "code",
   "execution_count": 32,
   "id": "33e5a97d-3fb9-4473-b922-bdcd1aaa240a",
   "metadata": {},
   "outputs": [],
   "source": [
    "img = imgs.numpy()\n",
    "img = np.squeeze(img)"
   ]
  },
  {
   "cell_type": "code",
   "execution_count": 33,
   "id": "30c68435-fdc2-48be-985e-2356f1346556",
   "metadata": {},
   "outputs": [
    {
     "data": {
      "text/plain": [
       "(28, 28)"
      ]
     },
     "execution_count": 33,
     "metadata": {},
     "output_type": "execute_result"
    }
   ],
   "source": [
    "img.shape"
   ]
  },
  {
   "cell_type": "markdown",
   "id": "c0661830-b1d0-4e99-b50c-8c8001ec4993",
   "metadata": {},
   "source": [
    "#### 绘制图片 "
   ]
  },
  {
   "cell_type": "code",
   "execution_count": 34,
   "id": "99fb49ff-ebda-46c7-949d-8088892d4c9e",
   "metadata": {},
   "outputs": [
    {
     "data": {
      "text/plain": [
       "<matplotlib.image.AxesImage at 0x20e0c6a0e10>"
      ]
     },
     "execution_count": 34,
     "metadata": {},
     "output_type": "execute_result"
    },
    {
     "data": {
      "image/png": "[encoded data removed]",
      "text/plain": [
       "<Figure size 640x480 with 1 Axes>"
      ]
     },
     "metadata": {},
     "output_type": "display_data"
    }
   ],
   "source": [
    "plt.imshow(img)"
   ]
  },
  {
   "cell_type": "markdown",
   "id": "bbed37fb-c77a-4479-b66b-3fe7eee83814",
   "metadata": {},
   "source": [
    "#### 查看对应的标签数据"
   ]
  },
  {
   "cell_type": "code",
   "execution_count": 35,
   "id": "8feae59d-9c25-45b2-94ee-20765b9d8d4b",
   "metadata": {},
   "outputs": [
    {
     "data": {
      "text/plain": [
       "tensor(4)"
      ]
     },
     "execution_count": 35,
     "metadata": {},
     "output_type": "execute_result"
    }
   ],
   "source": [
    "labels[0]"
   ]
  },
  {
   "cell_type": "markdown",
   "id": "9f7e6359-8c17-4eb1-9357-427a93c384e1",
   "metadata": {},
   "source": [
    "可以看到对应的是正确的"
   ]
  },
  {
   "cell_type": "markdown",
   "id": "f3fd5f68-7498-4d29-a80f-5ac781f92501",
   "metadata": {},
   "source": [
    "定义一个函数imshow用来绘制图片"
   ]
  },
  {
   "cell_type": "code",
   "execution_count": 36,
   "id": "25c3aeba-9c81-4dc0-9316-c4c2c14551e6",
   "metadata": {},
   "outputs": [],
   "source": [
    "def imshow(img):  \n",
    "    npimg = img.numpy()\n",
    "    img_ = np.squeeze(npimg)\n",
    "    plt.imshow(img_)\n",
    "    \n",
    "    "
   ]
  },
  {
   "cell_type": "markdown",
   "id": "001e8133-ff40-4dcd-a12c-04adf774adef",
   "metadata": {},
   "source": [
    "取出十张图片"
   ]
  },
  {
   "cell_type": "markdown",
   "id": "d9dca906-0fde-4abf-8d00-75ef4dac794e",
   "metadata": {},
   "source": [
    "创建画布,大小为10*1"
   ]
  },
  {
   "cell_type": "code",
   "execution_count": 37,
   "id": "18390f0b-c3cc-4865-96f6-e435079857ac",
   "metadata": {},
   "outputs": [
    {
     "data": {
      "image/png": "[encoded data removed]",
      "text/plain": [
       "<Figure size 1000x100 with 10 Axes>"
      ]
     },
     "metadata": {},
     "output_type": "display_data"
    }
   ],
   "source": [
    "plt.figure(figsize=(10,1))\n",
    "for i,img in enumerate(img64[:10]): \n",
    "    plt.subplot(1,10,i+1) #绘制的是1行10列的第i+1张图\n",
    "    imshow(img)"
   ]
  },
  {
   "cell_type": "code",
   "execution_count": 38,
   "id": "a99b2455-c3bd-46ca-b07e-471d64bd049e",
   "metadata": {},
   "outputs": [
    {
     "data": {
      "text/plain": [
       "tensor([4, 9, 0, 1, 9, 4, 5, 1, 6, 1])"
      ]
     },
     "execution_count": 38,
     "metadata": {},
     "output_type": "execute_result"
    }
   ],
   "source": [
    "labels[:10]"
   ]
  },
  {
   "cell_type": "markdown",
   "id": "7528a013-70ca-4d29-ab64-9991a7c68592",
   "metadata": {},
   "source": [
    "可以看到都是一一对应的"
   ]
  },
  {
   "cell_type": "markdown",
   "id": "20605aea-7932-4fc6-92ac-302c970bd52f",
   "metadata": {},
   "source": [
    "### 创建全连接模型"
   ]
  },
  {
   "cell_type": "markdown",
   "id": "be01686e-87e4-455f-9ca3-1a0c4c26e324",
   "metadata": {},
   "source": [
    "每张图片展开的像素个数"
   ]
  },
  {
   "cell_type": "code",
   "execution_count": 39,
   "id": "ff7d4887-da37-4fe9-ac82-7e77fdaaf374",
   "metadata": {},
   "outputs": [
    {
     "data": {
      "text/plain": [
       "784"
      ]
     },
     "execution_count": 39,
     "metadata": {},
     "output_type": "execute_result"
    }
   ],
   "source": [
    "28*28"
   ]
  },
  {
   "cell_type": "markdown",
   "id": "b96e5f4f-9e32-40dc-8c98-55a4697bb73c",
   "metadata": {},
   "source": [
    "类别个数"
   ]
  },
  {
   "cell_type": "code",
   "execution_count": 40,
   "id": "3802b9c8-f5f6-4bf5-8ddb-30eea60fee28",
   "metadata": {},
   "outputs": [
    {
     "data": {
      "text/plain": [
       "array([0, 1, 2, 3, 4, 5, 6, 7, 8, 9], dtype=int64)"
      ]
     },
     "execution_count": 40,
     "metadata": {},
     "output_type": "execute_result"
    }
   ],
   "source": [
    "np.unique(labels)"
   ]
  },
  {
   "cell_type": "code",
   "execution_count": 44,
   "id": "0a421fc5-baab-4dce-a892-9273b628c715",
   "metadata": {},
   "outputs": [],
   "source": [
    " class Model(nn.Module): \n",
    "     def __init__(self):\n",
    "         super().__init__()  \n",
    "         self.liner_1 = nn.Linear(784,120)\n",
    "         self.liner_2 = nn.Linear(120,84)\n",
    "         self.liner_3 = nn.Linear(84,10) #0-9所以是10分类\n",
    "     def forward(self,input): \n",
    "         #展平操作 ,将输入展平成28*28的张量\n",
    "         x = input.view(-1,28*28)\n",
    "         x = F.relu(self.liner_1(x))  \n",
    "         x = F.relu(self.liner_2(x))\n",
    "         x = F.relu(self.liner_3(x))\n",
    "         return x"
   ]
  },
  {
   "cell_type": "markdown",
   "id": "18d21319-79d7-4d13-949b-7e64a8061c92",
   "metadata": {},
   "source": [
    "#### 创建模型"
   ]
  },
  {
   "cell_type": "code",
   "execution_count": 45,
   "id": "9b9b19ea-4000-40c3-8508-2577693eaac2",
   "metadata": {},
   "outputs": [],
   "source": [
    "model = Model()"
   ]
  },
  {
   "cell_type": "code",
   "execution_count": 49,
   "id": "67e23d23-11c1-4aaf-ade4-4134e894bdbe",
   "metadata": {},
   "outputs": [
    {
     "data": {
      "text/plain": [
       "Model(\n",
       "  (liner_1): Linear(in_features=784, out_features=120, bias=True)\n",
       "  (liner_2): Linear(in_features=120, out_features=84, bias=True)\n",
       "  (liner_3): Linear(in_features=84, out_features=10, bias=True)\n",
       ")"
      ]
     },
     "execution_count": 49,
     "metadata": {},
     "output_type": "execute_result"
    }
   ],
   "source": [
    "model"
   ]
  },
  {
   "cell_type": "markdown",
   "id": "dc3c6227-4a0a-49e7-a388-4b3258d460e3",
   "metadata": {},
   "source": [
    "#### 创建损失函数和优化函数"
   ]
  },
  {
   "cell_type": "code",
   "execution_count": 50,
   "id": "ea198e42-52e2-45e3-ae48-15ed7c2768b3",
   "metadata": {},
   "outputs": [],
   "source": [
    "lr = 0.001\n",
    "lossfn = nn.CrossEntropyLoss()\n",
    "optm = torch.optim.Adam(model.parameters(),lr=lr)"
   ]
  },
  {
   "cell_type": "code",
   "execution_count": 51,
   "id": "ae34b528-90a9-465a-9b35-feb5ddb7708c",
   "metadata": {},
   "outputs": [],
   "source": [
    "def fit_gpu(Train_DL,TST_DL,Model_m,epoch_,optim,loss_fn): \n",
    "    correct = 0\n",
    "    total = 0\n",
    "    running_loss = 0\n",
    "    tstcorrect = 0\n",
    "    tsttotal = 0\n",
    "    tstrunning_loss = 0\n",
    "    device = torch.device(\"cuda\" if torch.cuda.is_available() else \"cpu\")\n",
    "    Model_m.to(device)\n",
    "    \n",
    "   \n",
    "    #创建俩列表接收损失值和精度值\n",
    "    train_loss_lst = []\n",
    "    train_acc_lst = []\n",
    "    tst_loss_lst=[]\n",
    "    tst_acc_lst=[]\n",
    "  \n",
    "    Model_m.train()  # 设置为训练模式\n",
    "    for x, y in Train_DL:\n",
    "        x = x.to(device)\n",
    "        y = y.to(device)\n",
    "        \n",
    "        y_pred = Model_m(x)\n",
    "        loss = loss_fn(y_pred, y)\n",
    "        \n",
    "        optim.zero_grad()\n",
    "        loss.backward()\n",
    "        optim.step()\n",
    "\n",
    "        # 每个epoch结束后评估模型\n",
    "   \n",
    "        with torch.no_grad():\n",
    "            y_pred = torch.argmax(y_pred,dim=1)\n",
    "            correct += (y_pred == y).sum().item() #预测正确的个数\n",
    "            # 因为(y_pred == y).sum()是一个张量,所以为了灯饰可以数值操作,我们用.item()取值\n",
    "            total += y.size(0) #样本的个数\n",
    "            running_loss += loss.item()\n",
    "\n",
    "        \n",
    "    epoch_acc = correct/total\n",
    "    epoch_loss = running_loss/len(Train_DL.dataset)\n",
    "\n",
    "    #测试阶段 \n",
    "    Model_m.eval()\n",
    "    with torch.no_grad(): #测试不需要反向传播,而是用训练好的模型来测试测试集的数据\n",
    "         for x, y in TST_DL:\n",
    "             x, y = x.to(device), y.to(device)\n",
    "             y_pred =Model_m(x)\n",
    "             loss = loss_fn(y_pred, y)\n",
    "             \n",
    "             y_pred = torch.argmax(y_pred,dim=1)   #获取真正的预测结果,不懂就往上巴拉argmax\n",
    "             tstcorrect += (y_pred == y).sum().item() #预测正确的个数\n",
    "             tsttotal += y.size(0) #样本的个数\n",
    "             tstrunning_loss += loss.item()\n",
    "             \n",
    "    tstepoch_acc = tstcorrect/tsttotal\n",
    "    tstepoch_loss = tstrunning_loss/len(TST_DL.dataset)\n",
    "\n",
    "    print(\n",
    "        f'epoch:{epoch} | loss:{epoch_loss:.3f} | acc:{epoch_acc:.3f} | tstloss:{tstepoch_loss:.3f} | tstacc:{tstepoch_acc:.3f}'\n",
    "    )\n",
    "\n",
    "    return epoch_loss,epoch_acc,tstepoch_loss,tstepoch_acc\n"
   ]
  },
  {
   "cell_type": "code",
   "execution_count": 52,
   "id": "6d4179b4-e80d-4e4d-a1bf-09ee70a78d6f",
   "metadata": {},
   "outputs": [
    {
     "name": "stdout",
     "output_type": "stream",
     "text": [
      "epoch:0 | loss:0.021 | acc:0.556 | tstloss:0.005 | tstacc:0.574\n",
      "epoch:1 | loss:0.018 | acc:0.582 | tstloss:0.004 | tstacc:0.587\n",
      "epoch:2 | loss:0.016 | acc:0.589 | tstloss:0.004 | tstacc:0.589\n",
      "epoch:3 | loss:0.015 | acc:0.592 | tstloss:0.004 | tstacc:0.588\n",
      "epoch:4 | loss:0.015 | acc:0.593 | tstloss:0.004 | tstacc:0.590\n",
      "epoch:5 | loss:0.015 | acc:0.594 | tstloss:0.004 | tstacc:0.589\n",
      "epoch:6 | loss:0.015 | acc:0.596 | tstloss:0.004 | tstacc:0.589\n",
      "epoch:7 | loss:0.015 | acc:0.596 | tstloss:0.004 | tstacc:0.588\n",
      "epoch:8 | loss:0.015 | acc:0.596 | tstloss:0.004 | tstacc:0.590\n",
      "epoch:9 | loss:0.015 | acc:0.596 | tstloss:0.004 | tstacc:0.588\n",
      "epoch:10 | loss:0.015 | acc:0.597 | tstloss:0.004 | tstacc:0.589\n",
      "epoch:11 | loss:0.015 | acc:0.598 | tstloss:0.004 | tstacc:0.590\n",
      "epoch:12 | loss:0.015 | acc:0.597 | tstloss:0.004 | tstacc:0.588\n",
      "epoch:13 | loss:0.015 | acc:0.597 | tstloss:0.004 | tstacc:0.589\n",
      "epoch:14 | loss:0.015 | acc:0.598 | tstloss:0.004 | tstacc:0.588\n",
      "epoch:15 | loss:0.015 | acc:0.598 | tstloss:0.004 | tstacc:0.588\n",
      "epoch:16 | loss:0.015 | acc:0.598 | tstloss:0.004 | tstacc:0.589\n",
      "epoch:17 | loss:0.015 | acc:0.598 | tstloss:0.004 | tstacc:0.588\n",
      "epoch:18 | loss:0.015 | acc:0.598 | tstloss:0.004 | tstacc:0.589\n",
      "epoch:19 | loss:0.015 | acc:0.598 | tstloss:0.004 | tstacc:0.590\n",
      "epoch:20 | loss:0.015 | acc:0.598 | tstloss:0.004 | tstacc:0.591\n",
      "epoch:21 | loss:0.015 | acc:0.598 | tstloss:0.004 | tstacc:0.584\n",
      "epoch:22 | loss:0.015 | acc:0.598 | tstloss:0.004 | tstacc:0.590\n",
      "epoch:23 | loss:0.015 | acc:0.598 | tstloss:0.004 | tstacc:0.588\n",
      "epoch:24 | loss:0.015 | acc:0.598 | tstloss:0.004 | tstacc:0.587\n",
      "epoch:25 | loss:0.014 | acc:0.598 | tstloss:0.004 | tstacc:0.589\n",
      "epoch:26 | loss:0.015 | acc:0.598 | tstloss:0.004 | tstacc:0.590\n",
      "epoch:27 | loss:0.015 | acc:0.598 | tstloss:0.004 | tstacc:0.586\n",
      "epoch:28 | loss:0.015 | acc:0.598 | tstloss:0.004 | tstacc:0.589\n",
      "epoch:29 | loss:0.015 | acc:0.598 | tstloss:0.004 | tstacc:0.589\n",
      "epoch:30 | loss:0.014 | acc:0.599 | tstloss:0.004 | tstacc:0.586\n",
      "epoch:31 | loss:0.014 | acc:0.599 | tstloss:0.004 | tstacc:0.588\n",
      "epoch:32 | loss:0.015 | acc:0.598 | tstloss:0.004 | tstacc:0.587\n",
      "epoch:33 | loss:0.015 | acc:0.598 | tstloss:0.004 | tstacc:0.590\n",
      "epoch:34 | loss:0.014 | acc:0.599 | tstloss:0.004 | tstacc:0.591\n",
      "epoch:35 | loss:0.014 | acc:0.599 | tstloss:0.004 | tstacc:0.588\n",
      "epoch:36 | loss:0.014 | acc:0.599 | tstloss:0.004 | tstacc:0.589\n",
      "epoch:37 | loss:0.015 | acc:0.598 | tstloss:0.004 | tstacc:0.589\n",
      "epoch:38 | loss:0.014 | acc:0.599 | tstloss:0.004 | tstacc:0.588\n",
      "epoch:39 | loss:0.014 | acc:0.599 | tstloss:0.004 | tstacc:0.588\n",
      "epoch:40 | loss:0.015 | acc:0.598 | tstloss:0.004 | tstacc:0.587\n",
      "epoch:41 | loss:0.015 | acc:0.599 | tstloss:0.004 | tstacc:0.589\n",
      "epoch:42 | loss:0.014 | acc:0.599 | tstloss:0.004 | tstacc:0.590\n",
      "epoch:43 | loss:0.014 | acc:0.599 | tstloss:0.004 | tstacc:0.589\n",
      "epoch:44 | loss:0.015 | acc:0.598 | tstloss:0.004 | tstacc:0.589\n",
      "epoch:45 | loss:0.014 | acc:0.599 | tstloss:0.004 | tstacc:0.588\n",
      "epoch:46 | loss:0.014 | acc:0.599 | tstloss:0.004 | tstacc:0.590\n",
      "epoch:47 | loss:0.014 | acc:0.599 | tstloss:0.004 | tstacc:0.589\n",
      "epoch:48 | loss:0.014 | acc:0.599 | tstloss:0.004 | tstacc:0.587\n",
      "epoch:49 | loss:0.015 | acc:0.598 | tstloss:0.004 | tstacc:0.588\n"
     ]
    }
   ],
   "source": [
    "model_gpu = Model()\n",
    "optim_gpu = torch.optim.Adam(model_gpu.parameters(),lr=0.001)\n",
    "loss_fn_gpu = nn.CrossEntropyLoss() \n",
    "# DL_train = DataLoader(DS_train,batch_size=batch,shuffle=True)\n",
    "# DL_test = DataLoader(DS_test,batch_size=batch)  \n",
    "DL_train = DataLoader(DS_Train,batch_size=64,shuffle=True)\n",
    "DL_test = DataLoader(DS_Test,batch_size=256,shuffle=False)\n",
    "\n",
    "epochs = 50 \n",
    "\n",
    "train_loss_gpu=[] \n",
    "train_acc_gpu =[] \n",
    "tst_loss_gpu = [] \n",
    "tst_acc_gpu=[] \n",
    "for epoch in range(epochs): \n",
    "    epoch_loss,epoch_acc,tstepoch_loss,tstepoch_acc = fit_gpu(Train_DL=DL_train,TST_DL=DL_test,Model_m=model_gpu,epoch_=epoch,optim=optim_gpu,loss_fn=loss_fn_gpu)\n",
    "    train_loss_gpu.append(epoch_loss)\n",
    "    train_acc_gpu.append(epoch_acc)\n",
    "    tst_loss_gpu.append(tstepoch_loss)\n",
    "    tst_acc_gpu.append(tstepoch_acc)"
   ]
  },
  {
   "cell_type": "code",
   "execution_count": 55,
   "id": "fd1bb1d3-e1e1-46f8-82ed-f5aeefe8b4dc",
   "metadata": {},
   "outputs": [],
   "source": [
    "import pickle as pkl \n",
    "with open('./mymodel/forminist.pkl','wb') as f : \n",
    "    pkl.dump(model_gpu,f)"
   ]
  },
  {
   "cell_type": "code",
   "execution_count": null,
   "id": "51cd4abc-c5f1-48a1-b420-719fa92d903e",
   "metadata": {},
   "outputs": [],
   "source": []
  }
 ],
 "metadata": {
  "kernelspec": {
   "display_name": "Python 3 (ipykernel)",
   "language": "python",
   "name": "python3"
  },
  "language_info": {
   "codemirror_mode": {
    "name": "ipython",
    "version": 3
   },
   "file_extension": ".py",
   "mimetype": "text/x-python",
   "name": "python",
   "nbconvert_exporter": "python",
   "pygments_lexer": "ipython3",
   "version": "3.11.9"
  }
 },
 "nbformat": 4,
 "nbformat_minor": 5
}
