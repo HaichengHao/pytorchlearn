{
 "cells": [
  {
   "cell_type": "markdown",
   "id": "15061b6d-2292-4c42-9d34-627f38bba8ff",
   "metadata": {},
   "source": [
    "# 手写数字全连接模型 "
   ]
  },
  {
   "cell_type": "markdown",
   "id": "1e867420-e2d7-4114-bef9-235d14f32fa3",
   "metadata": {},
   "source": [
    "## 关于批次的模糊点补充  \n",
    "在深度学习领域，\"批次\"（batch）和\"批\"实际上是同一个概念的不同翻译或表述方式。通常，在提到神经网络训练时，我们会使用\"批次\"这个术语来描述一次提供给模型进行前向传播和反向传播的数据量。\n",
    "\n",
    "### 批次（Batch）\n",
    "\n",
    "1. **定义**：批次是指在训练过程中用于一次更新权重的样本集合。简单来说，就是每次迭代中使用的数据子集。\n",
    "   \n",
    "2. **作用**：\n",
    "   - **加速计算**：通过并行处理一批数据而不是逐个处理单个数据点，可以更高效地利用GPU等硬件资源，从而加快训练速度。\n",
    "   - **改善收敛性**：批量梯度下降可以在减少参数更新的方差的同时，保持较低的计算成本，有助于更平稳地收敛到全局最小值。\n",
    "   \n",
    "3. **类型**：\n",
    "   - **全批量（Full Batch）**：使用整个训练集来进行一次参数更新。对于大型数据集来说，这可能不太实际，因为需要大量的内存和计算能力。\n",
    "   - **小批量（Mini-batch）**：这是最常用的方式，指的是将数据集分成多个小批次，每个批次包含一定数量的样本。这种方法能够在计算效率和收敛速度之间取得平衡。\n",
    "   - **在线学习（Online Learning）/ 单例批次（Batch size of 1）**：每使用一个样本就更新一次模型参数。这种方式适用于流数据或者当数据量非常大而无法全部加载到内存中的情况。\n",
    "\n",
    "4. **选择合适的批次大小**：\n",
    "   - 批次大小的选择对模型性能有显著影响。较小的批次大小可以引入噪声，帮助跳出局部最优解；较大的批次大小则能提高计算效率，并且在某些情况下能够达到更好的泛化效果。但是，批次太大可能导致内存不足的问题。\n",
    "\n",
    "总之，在深度学习中讨论“批次”或“批”的时候，都是指在训练神经网络时一次性输入模型进行训练的一组数据。正确选择批次大小是优化模型训练过程的一个重要方面。"
   ]
  },
  {
   "cell_type": "markdown",
   "id": "5c54984e-6b7b-4e09-ada7-a79ef7456e74",
   "metadata": {},
   "source": [
    "## squeeze的作用就是删除维度为1的维度"
   ]
  },
  {
   "cell_type": "code",
   "execution_count": 1,
   "id": "0f0d48cd-1a6e-41a1-a6ac-9ea7087174d6",
   "metadata": {},
   "outputs": [],
   "source": [
    "import torch \n",
    "from torch import nn \n",
    "import torch.nn.functional as F \n",
    "import numpy as np \n",
    "import pandas as pd \n",
    "import matplotlib.pyplot as plt \n",
    "from torch.utils.data import TensorDataset,DataLoader \n",
    "from sklearn.model_selection import train_test_split"
   ]
  },
  {
   "cell_type": "markdown",
   "id": "20b18f5c-6bc9-4b04-ad65-e598904c7837",
   "metadata": {},
   "source": [
    "## 模板代码 "
   ]
  },
  {
   "cell_type": "markdown",
   "id": "460dd69a-316b-406a-9931-d670c001585a",
   "metadata": {},
   "source": [
    "### 创建fit()函数"
   ]
  },
  {
   "cell_type": "code",
   "execution_count": 2,
   "id": "570c1ac3-1208-4974-844d-716226bac064",
   "metadata": {},
   "outputs": [],
   "source": [
    "def fit_gpu(Train_DL,TST_DL,Model_m,epoch_,optim,loss_fn): \n",
    "    correct = 0\n",
    "    total = 0\n",
    "    running_loss = 0\n",
    "    tstcorrect = 0\n",
    "    tsttotal = 0\n",
    "    tstrunning_loss = 0\n",
    "    device = torch.device(\"cuda\" if torch.cuda.is_available() else \"cpu\")\n",
    "    Model_m.to(device)\n",
    "   \n",
    "    #创建俩列表接收损失值和精度值\n",
    "    train_loss_lst = []\n",
    "    train_acc_lst = []\n",
    "    tst_loss_lst=[]\n",
    "    tst_acc_lst=[]\n",
    "  \n",
    "    Model_m.train()  # 设置为训练模式\n",
    "    for x, y in Train_DL:\n",
    "        x = x.to(device)\n",
    "        y = y.to(device)\n",
    "        \n",
    "        y_pred = Model_m(x)\n",
    "        loss = loss_fn(y_pred, y)\n",
    "        \n",
    "        optim.zero_grad()\n",
    "        loss.backward()\n",
    "        optim.step()\n",
    "\n",
    "        # 每个epoch结束后评估模型\n",
    "   \n",
    "        with torch.no_grad():\n",
    "            y_pred = torch.argmax(y_pred,dim=1)\n",
    "            correct += (y_pred == y).sum().item() #预测正确的个数\n",
    "            # 因为(y_pred == y).sum()是一个张量,所以为了灯饰可以数值操作,我们用.item()取值\n",
    "            total += y.size(0) #样本的个数\n",
    "            running_loss += loss.item()\n",
    "\n",
    "        \n",
    "    epoch_acc = correct/total\n",
    "    epoch_loss = running_loss/len(Train_DL.dataset)\n",
    "\n",
    "    #测试阶段 \n",
    "    Model_m.eval()\n",
    "    with torch.no_grad(): #测试不需要反向传播,而是用训练好的模型来测试测试集的数据\n",
    "         for x, y in TST_DL:\n",
    "             x, y = x.to(device), y.to(device)\n",
    "             y_pred =Model_m(x)\n",
    "             loss = loss_fn(y_pred, y)\n",
    "             \n",
    "             y_pred = torch.argmax(y_pred,dim=1)   #获取真正的预测结果,不懂就往上巴拉argmax\n",
    "             tstcorrect += (y_pred == y).sum().item() #预测正确的个数\n",
    "             tsttotal += y.size(0) #样本的个数\n",
    "             tstrunning_loss += loss.item()\n",
    "             \n",
    "    tstepoch_acc = tstcorrect/tsttotal\n",
    "    tstepoch_loss = tstrunning_loss/len(TST_DL.dataset)\n",
    "\n",
    "    print(\n",
    "        f'epoch:{epoch} | loss:{epoch_loss:.3f} | acc:{epoch_acc:.3f} | tstloss:{tstepoch_loss:.3f} | tstacc:{tstepoch_acc:.3f}'\n",
    "    )\n",
    "\n",
    "    return epoch_loss,epoch_acc,tstepoch_loss,tstepoch_acc\n"
   ]
  },
  {
   "cell_type": "markdown",
   "id": "044516c1-db20-4c9b-98a8-a00ad992c7a4",
   "metadata": {},
   "source": [
    "### 创建模型"
   ]
  },
  {
   "cell_type": "markdown",
   "id": "ee843f30-904f-4952-870d-055019b81559",
   "metadata": {},
   "source": [
    "```python\n",
    "class Model(nn.Module):\n",
    "    def __init__(self): \n",
    "        super().__init__() \n",
    "        self.liner_1 = nn.Linear() \n",
    "        self.liner_2 = nn.Linear()  \n",
    "        self.liner_3 = nn.Linear() \n",
    "    #定义前向传播  \n",
    "    def forward(self,input): \n",
    "        pass \n",
    "\n",
    "model = Model()\n",
    "```"
   ]
  },
  {
   "cell_type": "markdown",
   "id": "ef4c6516-e7d8-428c-a060-ca45f9221888",
   "metadata": {},
   "source": [
    "### 创建损失函数和优化函数"
   ]
  },
  {
   "cell_type": "markdown",
   "id": "048db39c-7015-495f-94d3-9d2c6db46d1a",
   "metadata": {},
   "source": [
    "```python\n",
    "loss_fn = nn.CrossEntropyLoss()\n",
    "optim = nn.optim.xxx(model.parameters(),lr=0.001) #传入要优化的模型的参数并指定学习率\n",
    "```"
   ]
  },
  {
   "cell_type": "markdown",
   "id": "daf1be44-3d47-4808-add8-3be6f1ffdccf",
   "metadata": {},
   "source": [
    "### 定义batch和接收返回值以及训练"
   ]
  },
  {
   "cell_type": "markdown",
   "id": "ee04344d-e669-4537-afe5-4a95015ebcb5",
   "metadata": {},
   "source": [
    "```python\n",
    "batch = 8 #定义batchsize\n",
    "DS_train = TensorDataset(train_x,train_y)\n",
    "DL_train = DataLoader(DS_train,batch_size=batch,shuffle=True)\n",
    "\n",
    "DS_test = TensorDataset(test_x,test_y)\n",
    "DL_test = DataLoader(DS_test,batch_size=batch)  \n",
    "\n",
    "epochs = 50 \n",
    "\n",
    "train_loss_gpu=[] \n",
    "train_acc_gpu =[] \n",
    "tst_loss_gpu = [] \n",
    "tst_acc_gpu=[] \n",
    "for epoch in range(epochs): \n",
    "    epoch_loss,epoch_acc,tstepoch_loss,tstepoch_acc = fit_gpu(Train_DL=DL_train,TST_DL=DL_test,Model_m=model_gpu,epoch_=epoch,optim=optim_gpu,loss_fn=loss_fn_gpu)\n",
    "    train_loss_gpu.append(epoch_loss)\n",
    "    train_acc_gpu.append(epoch_acc)\n",
    "    tst_loss_gpu.append(tstepoch_loss)\n",
    "    tst_acc_gpu.append(tstepoch_acc)\n",
    "```"
   ]
  },
  {
   "cell_type": "markdown",
   "id": "8617ce79-2096-4bc4-931c-70422314f8c6",
   "metadata": {},
   "source": [
    "## 卷积神经网络"
   ]
  },
  {
   "cell_type": "markdown",
   "id": "00431a91-eeaa-406c-8d4c-8d82a3e0fffa",
   "metadata": {},
   "source": [
    "### 手写数字分类"
   ]
  },
  {
   "cell_type": "markdown",
   "id": "2084932b-2290-4d7a-a1c2-02b62b40eec7",
   "metadata": {},
   "source": [
    "##### torchvision内置了常用的数据集和模型"
   ]
  },
  {
   "cell_type": "markdown",
   "id": "baa4a4a0-7a31-4755-a305-136f8b657d9d",
   "metadata": {},
   "source": [
    "为了方便为我们转换数据集,它还内置了一个transform方法"
   ]
  },
  {
   "cell_type": "code",
   "execution_count": 3,
   "id": "2e6846eb-1a5a-4123-b746-2b0024a5fa51",
   "metadata": {},
   "outputs": [],
   "source": [
    "import torchvision\n",
    "from torchvision import datasets, transforms"
   ]
  },
  {
   "cell_type": "code",
   "execution_count": 4,
   "id": "ccb5fd64-91e8-4b2f-9fae-3f5af7612be8",
   "metadata": {},
   "outputs": [
    {
     "data": {
      "text/plain": [
       "\u001b[1;31mType:\u001b[0m        module\n",
       "\u001b[1;31mString form:\u001b[0m <module 'torchvision.datasets' from 'D:\\\\venvs\\\\dl\\\\Lib\\\\site-packages\\\\torchvision\\\\datasets\\\\__init__.py'>\n",
       "\u001b[1;31mFile:\u001b[0m        d:\\venvs\\dl\\lib\\site-packages\\torchvision\\datasets\\__init__.py\n",
       "\u001b[1;31mSource:\u001b[0m     \n",
       "\u001b[1;32mfrom\u001b[0m \u001b[1;33m.\u001b[0m\u001b[0m_optical_flow\u001b[0m \u001b[1;32mimport\u001b[0m \u001b[0mFlyingChairs\u001b[0m\u001b[1;33m,\u001b[0m \u001b[0mFlyingThings3D\u001b[0m\u001b[1;33m,\u001b[0m \u001b[0mHD1K\u001b[0m\u001b[1;33m,\u001b[0m \u001b[0mKittiFlow\u001b[0m\u001b[1;33m,\u001b[0m \u001b[0mSintel\u001b[0m\u001b[1;33m\n",
       "\u001b[0m\u001b[1;32mfrom\u001b[0m \u001b[1;33m.\u001b[0m\u001b[0m_stereo_matching\u001b[0m \u001b[1;32mimport\u001b[0m \u001b[1;33m(\u001b[0m\u001b[1;33m\n",
       "\u001b[0m    \u001b[0mCarlaStereo\u001b[0m\u001b[1;33m,\u001b[0m\u001b[1;33m\n",
       "\u001b[0m    \u001b[0mCREStereo\u001b[0m\u001b[1;33m,\u001b[0m\u001b[1;33m\n",
       "\u001b[0m    \u001b[0mETH3DStereo\u001b[0m\u001b[1;33m,\u001b[0m\u001b[1;33m\n",
       "\u001b[0m    \u001b[0mFallingThingsStereo\u001b[0m\u001b[1;33m,\u001b[0m\u001b[1;33m\n",
       "\u001b[0m    \u001b[0mInStereo2k\u001b[0m\u001b[1;33m,\u001b[0m\u001b[1;33m\n",
       "\u001b[0m    \u001b[0mKitti2012Stereo\u001b[0m\u001b[1;33m,\u001b[0m\u001b[1;33m\n",
       "\u001b[0m    \u001b[0mKitti2015Stereo\u001b[0m\u001b[1;33m,\u001b[0m\u001b[1;33m\n",
       "\u001b[0m    \u001b[0mMiddlebury2014Stereo\u001b[0m\u001b[1;33m,\u001b[0m\u001b[1;33m\n",
       "\u001b[0m    \u001b[0mSceneFlowStereo\u001b[0m\u001b[1;33m,\u001b[0m\u001b[1;33m\n",
       "\u001b[0m    \u001b[0mSintelStereo\u001b[0m\u001b[1;33m,\u001b[0m\u001b[1;33m\n",
       "\u001b[0m\u001b[1;33m)\u001b[0m\u001b[1;33m\n",
       "\u001b[0m\u001b[1;32mfrom\u001b[0m \u001b[1;33m.\u001b[0m\u001b[0mcaltech\u001b[0m \u001b[1;32mimport\u001b[0m \u001b[0mCaltech101\u001b[0m\u001b[1;33m,\u001b[0m \u001b[0mCaltech256\u001b[0m\u001b[1;33m\n",
       "\u001b[0m\u001b[1;32mfrom\u001b[0m \u001b[1;33m.\u001b[0m\u001b[0mceleba\u001b[0m \u001b[1;32mimport\u001b[0m \u001b[0mCelebA\u001b[0m\u001b[1;33m\n",
       "\u001b[0m\u001b[1;32mfrom\u001b[0m \u001b[1;33m.\u001b[0m\u001b[0mcifar\u001b[0m \u001b[1;32mimport\u001b[0m \u001b[0mCIFAR10\u001b[0m\u001b[1;33m,\u001b[0m \u001b[0mCIFAR100\u001b[0m\u001b[1;33m\n",
       "\u001b[0m\u001b[1;32mfrom\u001b[0m \u001b[1;33m.\u001b[0m\u001b[0mcityscapes\u001b[0m \u001b[1;32mimport\u001b[0m \u001b[0mCityscapes\u001b[0m\u001b[1;33m\n",
       "\u001b[0m\u001b[1;32mfrom\u001b[0m \u001b[1;33m.\u001b[0m\u001b[0mclevr\u001b[0m \u001b[1;32mimport\u001b[0m \u001b[0mCLEVRClassification\u001b[0m\u001b[1;33m\n",
       "\u001b[0m\u001b[1;32mfrom\u001b[0m \u001b[1;33m.\u001b[0m\u001b[0mcoco\u001b[0m \u001b[1;32mimport\u001b[0m \u001b[0mCocoCaptions\u001b[0m\u001b[1;33m,\u001b[0m \u001b[0mCocoDetection\u001b[0m\u001b[1;33m\n",
       "\u001b[0m\u001b[1;32mfrom\u001b[0m \u001b[1;33m.\u001b[0m\u001b[0mcountry211\u001b[0m \u001b[1;32mimport\u001b[0m \u001b[0mCountry211\u001b[0m\u001b[1;33m\n",
       "\u001b[0m\u001b[1;32mfrom\u001b[0m \u001b[1;33m.\u001b[0m\u001b[0mdtd\u001b[0m \u001b[1;32mimport\u001b[0m \u001b[0mDTD\u001b[0m\u001b[1;33m\n",
       "\u001b[0m\u001b[1;32mfrom\u001b[0m \u001b[1;33m.\u001b[0m\u001b[0meurosat\u001b[0m \u001b[1;32mimport\u001b[0m \u001b[0mEuroSAT\u001b[0m\u001b[1;33m\n",
       "\u001b[0m\u001b[1;32mfrom\u001b[0m \u001b[1;33m.\u001b[0m\u001b[0mfakedata\u001b[0m \u001b[1;32mimport\u001b[0m \u001b[0mFakeData\u001b[0m\u001b[1;33m\n",
       "\u001b[0m\u001b[1;32mfrom\u001b[0m \u001b[1;33m.\u001b[0m\u001b[0mfer2013\u001b[0m \u001b[1;32mimport\u001b[0m \u001b[0mFER2013\u001b[0m\u001b[1;33m\n",
       "\u001b[0m\u001b[1;32mfrom\u001b[0m \u001b[1;33m.\u001b[0m\u001b[0mfgvc_aircraft\u001b[0m \u001b[1;32mimport\u001b[0m \u001b[0mFGVCAircraft\u001b[0m\u001b[1;33m\n",
       "\u001b[0m\u001b[1;32mfrom\u001b[0m \u001b[1;33m.\u001b[0m\u001b[0mflickr\u001b[0m \u001b[1;32mimport\u001b[0m \u001b[0mFlickr30k\u001b[0m\u001b[1;33m,\u001b[0m \u001b[0mFlickr8k\u001b[0m\u001b[1;33m\n",
       "\u001b[0m\u001b[1;32mfrom\u001b[0m \u001b[1;33m.\u001b[0m\u001b[0mflowers102\u001b[0m \u001b[1;32mimport\u001b[0m \u001b[0mFlowers102\u001b[0m\u001b[1;33m\n",
       "\u001b[0m\u001b[1;32mfrom\u001b[0m \u001b[1;33m.\u001b[0m\u001b[0mfolder\u001b[0m \u001b[1;32mimport\u001b[0m \u001b[0mDatasetFolder\u001b[0m\u001b[1;33m,\u001b[0m \u001b[0mImageFolder\u001b[0m\u001b[1;33m\n",
       "\u001b[0m\u001b[1;32mfrom\u001b[0m \u001b[1;33m.\u001b[0m\u001b[0mfood101\u001b[0m \u001b[1;32mimport\u001b[0m \u001b[0mFood101\u001b[0m\u001b[1;33m\n",
       "\u001b[0m\u001b[1;32mfrom\u001b[0m \u001b[1;33m.\u001b[0m\u001b[0mgtsrb\u001b[0m \u001b[1;32mimport\u001b[0m \u001b[0mGTSRB\u001b[0m\u001b[1;33m\n",
       "\u001b[0m\u001b[1;32mfrom\u001b[0m \u001b[1;33m.\u001b[0m\u001b[0mhmdb51\u001b[0m \u001b[1;32mimport\u001b[0m \u001b[0mHMDB51\u001b[0m\u001b[1;33m\n",
       "\u001b[0m\u001b[1;32mfrom\u001b[0m \u001b[1;33m.\u001b[0m\u001b[0mimagenet\u001b[0m \u001b[1;32mimport\u001b[0m \u001b[0mImageNet\u001b[0m\u001b[1;33m\n",
       "\u001b[0m\u001b[1;32mfrom\u001b[0m \u001b[1;33m.\u001b[0m\u001b[0mimagenette\u001b[0m \u001b[1;32mimport\u001b[0m \u001b[0mImagenette\u001b[0m\u001b[1;33m\n",
       "\u001b[0m\u001b[1;32mfrom\u001b[0m \u001b[1;33m.\u001b[0m\u001b[0minaturalist\u001b[0m \u001b[1;32mimport\u001b[0m \u001b[0mINaturalist\u001b[0m\u001b[1;33m\n",
       "\u001b[0m\u001b[1;32mfrom\u001b[0m \u001b[1;33m.\u001b[0m\u001b[0mkinetics\u001b[0m \u001b[1;32mimport\u001b[0m \u001b[0mKinetics\u001b[0m\u001b[1;33m\n",
       "\u001b[0m\u001b[1;32mfrom\u001b[0m \u001b[1;33m.\u001b[0m\u001b[0mkitti\u001b[0m \u001b[1;32mimport\u001b[0m \u001b[0mKitti\u001b[0m\u001b[1;33m\n",
       "\u001b[0m\u001b[1;32mfrom\u001b[0m \u001b[1;33m.\u001b[0m\u001b[0mlfw\u001b[0m \u001b[1;32mimport\u001b[0m \u001b[0mLFWPairs\u001b[0m\u001b[1;33m,\u001b[0m \u001b[0mLFWPeople\u001b[0m\u001b[1;33m\n",
       "\u001b[0m\u001b[1;32mfrom\u001b[0m \u001b[1;33m.\u001b[0m\u001b[0mlsun\u001b[0m \u001b[1;32mimport\u001b[0m \u001b[0mLSUN\u001b[0m\u001b[1;33m,\u001b[0m \u001b[0mLSUNClass\u001b[0m\u001b[1;33m\n",
       "\u001b[0m\u001b[1;32mfrom\u001b[0m \u001b[1;33m.\u001b[0m\u001b[0mmnist\u001b[0m \u001b[1;32mimport\u001b[0m \u001b[0mEMNIST\u001b[0m\u001b[1;33m,\u001b[0m \u001b[0mFashionMNIST\u001b[0m\u001b[1;33m,\u001b[0m \u001b[0mKMNIST\u001b[0m\u001b[1;33m,\u001b[0m \u001b[0mMNIST\u001b[0m\u001b[1;33m,\u001b[0m \u001b[0mQMNIST\u001b[0m\u001b[1;33m\n",
       "\u001b[0m\u001b[1;32mfrom\u001b[0m \u001b[1;33m.\u001b[0m\u001b[0mmoving_mnist\u001b[0m \u001b[1;32mimport\u001b[0m \u001b[0mMovingMNIST\u001b[0m\u001b[1;33m\n",
       "\u001b[0m\u001b[1;32mfrom\u001b[0m \u001b[1;33m.\u001b[0m\u001b[0momniglot\u001b[0m \u001b[1;32mimport\u001b[0m \u001b[0mOmniglot\u001b[0m\u001b[1;33m\n",
       "\u001b[0m\u001b[1;32mfrom\u001b[0m \u001b[1;33m.\u001b[0m\u001b[0moxford_iiit_pet\u001b[0m \u001b[1;32mimport\u001b[0m \u001b[0mOxfordIIITPet\u001b[0m\u001b[1;33m\n",
       "\u001b[0m\u001b[1;32mfrom\u001b[0m \u001b[1;33m.\u001b[0m\u001b[0mpcam\u001b[0m \u001b[1;32mimport\u001b[0m \u001b[0mPCAM\u001b[0m\u001b[1;33m\n",
       "\u001b[0m\u001b[1;32mfrom\u001b[0m \u001b[1;33m.\u001b[0m\u001b[0mphototour\u001b[0m \u001b[1;32mimport\u001b[0m \u001b[0mPhotoTour\u001b[0m\u001b[1;33m\n",
       "\u001b[0m\u001b[1;32mfrom\u001b[0m \u001b[1;33m.\u001b[0m\u001b[0mplaces365\u001b[0m \u001b[1;32mimport\u001b[0m \u001b[0mPlaces365\u001b[0m\u001b[1;33m\n",
       "\u001b[0m\u001b[1;32mfrom\u001b[0m \u001b[1;33m.\u001b[0m\u001b[0mrendered_sst2\u001b[0m \u001b[1;32mimport\u001b[0m \u001b[0mRenderedSST2\u001b[0m\u001b[1;33m\n",
       "\u001b[0m\u001b[1;32mfrom\u001b[0m \u001b[1;33m.\u001b[0m\u001b[0msbd\u001b[0m \u001b[1;32mimport\u001b[0m \u001b[0mSBDataset\u001b[0m\u001b[1;33m\n",
       "\u001b[0m\u001b[1;32mfrom\u001b[0m \u001b[1;33m.\u001b[0m\u001b[0msbu\u001b[0m \u001b[1;32mimport\u001b[0m \u001b[0mSBU\u001b[0m\u001b[1;33m\n",
       "\u001b[0m\u001b[1;32mfrom\u001b[0m \u001b[1;33m.\u001b[0m\u001b[0msemeion\u001b[0m \u001b[1;32mimport\u001b[0m \u001b[0mSEMEION\u001b[0m\u001b[1;33m\n",
       "\u001b[0m\u001b[1;32mfrom\u001b[0m \u001b[1;33m.\u001b[0m\u001b[0mstanford_cars\u001b[0m \u001b[1;32mimport\u001b[0m \u001b[0mStanfordCars\u001b[0m\u001b[1;33m\n",
       "\u001b[0m\u001b[1;32mfrom\u001b[0m \u001b[1;33m.\u001b[0m\u001b[0mstl10\u001b[0m \u001b[1;32mimport\u001b[0m \u001b[0mSTL10\u001b[0m\u001b[1;33m\n",
       "\u001b[0m\u001b[1;32mfrom\u001b[0m \u001b[1;33m.\u001b[0m\u001b[0msun397\u001b[0m \u001b[1;32mimport\u001b[0m \u001b[0mSUN397\u001b[0m\u001b[1;33m\n",
       "\u001b[0m\u001b[1;32mfrom\u001b[0m \u001b[1;33m.\u001b[0m\u001b[0msvhn\u001b[0m \u001b[1;32mimport\u001b[0m \u001b[0mSVHN\u001b[0m\u001b[1;33m\n",
       "\u001b[0m\u001b[1;32mfrom\u001b[0m \u001b[1;33m.\u001b[0m\u001b[0mucf101\u001b[0m \u001b[1;32mimport\u001b[0m \u001b[0mUCF101\u001b[0m\u001b[1;33m\n",
       "\u001b[0m\u001b[1;32mfrom\u001b[0m \u001b[1;33m.\u001b[0m\u001b[0musps\u001b[0m \u001b[1;32mimport\u001b[0m \u001b[0mUSPS\u001b[0m\u001b[1;33m\n",
       "\u001b[0m\u001b[1;32mfrom\u001b[0m \u001b[1;33m.\u001b[0m\u001b[0mvision\u001b[0m \u001b[1;32mimport\u001b[0m \u001b[0mVisionDataset\u001b[0m\u001b[1;33m\n",
       "\u001b[0m\u001b[1;32mfrom\u001b[0m \u001b[1;33m.\u001b[0m\u001b[0mvoc\u001b[0m \u001b[1;32mimport\u001b[0m \u001b[0mVOCDetection\u001b[0m\u001b[1;33m,\u001b[0m \u001b[0mVOCSegmentation\u001b[0m\u001b[1;33m\n",
       "\u001b[0m\u001b[1;32mfrom\u001b[0m \u001b[1;33m.\u001b[0m\u001b[0mwiderface\u001b[0m \u001b[1;32mimport\u001b[0m \u001b[0mWIDERFace\u001b[0m\u001b[1;33m\n",
       "\u001b[0m\u001b[1;33m\n",
       "\u001b[0m\u001b[0m__all__\u001b[0m \u001b[1;33m=\u001b[0m \u001b[1;33m(\u001b[0m\u001b[1;33m\n",
       "\u001b[0m    \u001b[1;34m\"LSUN\"\u001b[0m\u001b[1;33m,\u001b[0m\u001b[1;33m\n",
       "\u001b[0m    \u001b[1;34m\"LSUNClass\"\u001b[0m\u001b[1;33m,\u001b[0m\u001b[1;33m\n",
       "\u001b[0m    \u001b[1;34m\"ImageFolder\"\u001b[0m\u001b[1;33m,\u001b[0m\u001b[1;33m\n",
       "\u001b[0m    \u001b[1;34m\"DatasetFolder\"\u001b[0m\u001b[1;33m,\u001b[0m\u001b[1;33m\n",
       "\u001b[0m    \u001b[1;34m\"FakeData\"\u001b[0m\u001b[1;33m,\u001b[0m\u001b[1;33m\n",
       "\u001b[0m    \u001b[1;34m\"CocoCaptions\"\u001b[0m\u001b[1;33m,\u001b[0m\u001b[1;33m\n",
       "\u001b[0m    \u001b[1;34m\"CocoDetection\"\u001b[0m\u001b[1;33m,\u001b[0m\u001b[1;33m\n",
       "\u001b[0m    \u001b[1;34m\"CIFAR10\"\u001b[0m\u001b[1;33m,\u001b[0m\u001b[1;33m\n",
       "\u001b[0m    \u001b[1;34m\"CIFAR100\"\u001b[0m\u001b[1;33m,\u001b[0m\u001b[1;33m\n",
       "\u001b[0m    \u001b[1;34m\"EMNIST\"\u001b[0m\u001b[1;33m,\u001b[0m\u001b[1;33m\n",
       "\u001b[0m    \u001b[1;34m\"FashionMNIST\"\u001b[0m\u001b[1;33m,\u001b[0m\u001b[1;33m\n",
       "\u001b[0m    \u001b[1;34m\"QMNIST\"\u001b[0m\u001b[1;33m,\u001b[0m\u001b[1;33m\n",
       "\u001b[0m    \u001b[1;34m\"MNIST\"\u001b[0m\u001b[1;33m,\u001b[0m\u001b[1;33m\n",
       "\u001b[0m    \u001b[1;34m\"KMNIST\"\u001b[0m\u001b[1;33m,\u001b[0m\u001b[1;33m\n",
       "\u001b[0m    \u001b[1;34m\"MovingMNIST\"\u001b[0m\u001b[1;33m,\u001b[0m\u001b[1;33m\n",
       "\u001b[0m    \u001b[1;34m\"StanfordCars\"\u001b[0m\u001b[1;33m,\u001b[0m\u001b[1;33m\n",
       "\u001b[0m    \u001b[1;34m\"STL10\"\u001b[0m\u001b[1;33m,\u001b[0m\u001b[1;33m\n",
       "\u001b[0m    \u001b[1;34m\"SUN397\"\u001b[0m\u001b[1;33m,\u001b[0m\u001b[1;33m\n",
       "\u001b[0m    \u001b[1;34m\"SVHN\"\u001b[0m\u001b[1;33m,\u001b[0m\u001b[1;33m\n",
       "\u001b[0m    \u001b[1;34m\"PhotoTour\"\u001b[0m\u001b[1;33m,\u001b[0m\u001b[1;33m\n",
       "\u001b[0m    \u001b[1;34m\"SEMEION\"\u001b[0m\u001b[1;33m,\u001b[0m\u001b[1;33m\n",
       "\u001b[0m    \u001b[1;34m\"Omniglot\"\u001b[0m\u001b[1;33m,\u001b[0m\u001b[1;33m\n",
       "\u001b[0m    \u001b[1;34m\"SBU\"\u001b[0m\u001b[1;33m,\u001b[0m\u001b[1;33m\n",
       "\u001b[0m    \u001b[1;34m\"Flickr8k\"\u001b[0m\u001b[1;33m,\u001b[0m\u001b[1;33m\n",
       "\u001b[0m    \u001b[1;34m\"Flickr30k\"\u001b[0m\u001b[1;33m,\u001b[0m\u001b[1;33m\n",
       "\u001b[0m    \u001b[1;34m\"Flowers102\"\u001b[0m\u001b[1;33m,\u001b[0m\u001b[1;33m\n",
       "\u001b[0m    \u001b[1;34m\"VOCSegmentation\"\u001b[0m\u001b[1;33m,\u001b[0m\u001b[1;33m\n",
       "\u001b[0m    \u001b[1;34m\"VOCDetection\"\u001b[0m\u001b[1;33m,\u001b[0m\u001b[1;33m\n",
       "\u001b[0m    \u001b[1;34m\"Cityscapes\"\u001b[0m\u001b[1;33m,\u001b[0m\u001b[1;33m\n",
       "\u001b[0m    \u001b[1;34m\"ImageNet\"\u001b[0m\u001b[1;33m,\u001b[0m\u001b[1;33m\n",
       "\u001b[0m    \u001b[1;34m\"Caltech101\"\u001b[0m\u001b[1;33m,\u001b[0m\u001b[1;33m\n",
       "\u001b[0m    \u001b[1;34m\"Caltech256\"\u001b[0m\u001b[1;33m,\u001b[0m\u001b[1;33m\n",
       "\u001b[0m    \u001b[1;34m\"CelebA\"\u001b[0m\u001b[1;33m,\u001b[0m\u001b[1;33m\n",
       "\u001b[0m    \u001b[1;34m\"WIDERFace\"\u001b[0m\u001b[1;33m,\u001b[0m\u001b[1;33m\n",
       "\u001b[0m    \u001b[1;34m\"SBDataset\"\u001b[0m\u001b[1;33m,\u001b[0m\u001b[1;33m\n",
       "\u001b[0m    \u001b[1;34m\"VisionDataset\"\u001b[0m\u001b[1;33m,\u001b[0m\u001b[1;33m\n",
       "\u001b[0m    \u001b[1;34m\"USPS\"\u001b[0m\u001b[1;33m,\u001b[0m\u001b[1;33m\n",
       "\u001b[0m    \u001b[1;34m\"Kinetics\"\u001b[0m\u001b[1;33m,\u001b[0m\u001b[1;33m\n",
       "\u001b[0m    \u001b[1;34m\"HMDB51\"\u001b[0m\u001b[1;33m,\u001b[0m\u001b[1;33m\n",
       "\u001b[0m    \u001b[1;34m\"UCF101\"\u001b[0m\u001b[1;33m,\u001b[0m\u001b[1;33m\n",
       "\u001b[0m    \u001b[1;34m\"Places365\"\u001b[0m\u001b[1;33m,\u001b[0m\u001b[1;33m\n",
       "\u001b[0m    \u001b[1;34m\"Kitti\"\u001b[0m\u001b[1;33m,\u001b[0m\u001b[1;33m\n",
       "\u001b[0m    \u001b[1;34m\"INaturalist\"\u001b[0m\u001b[1;33m,\u001b[0m\u001b[1;33m\n",
       "\u001b[0m    \u001b[1;34m\"LFWPeople\"\u001b[0m\u001b[1;33m,\u001b[0m\u001b[1;33m\n",
       "\u001b[0m    \u001b[1;34m\"LFWPairs\"\u001b[0m\u001b[1;33m,\u001b[0m\u001b[1;33m\n",
       "\u001b[0m    \u001b[1;34m\"KittiFlow\"\u001b[0m\u001b[1;33m,\u001b[0m\u001b[1;33m\n",
       "\u001b[0m    \u001b[1;34m\"Sintel\"\u001b[0m\u001b[1;33m,\u001b[0m\u001b[1;33m\n",
       "\u001b[0m    \u001b[1;34m\"FlyingChairs\"\u001b[0m\u001b[1;33m,\u001b[0m\u001b[1;33m\n",
       "\u001b[0m    \u001b[1;34m\"FlyingThings3D\"\u001b[0m\u001b[1;33m,\u001b[0m\u001b[1;33m\n",
       "\u001b[0m    \u001b[1;34m\"HD1K\"\u001b[0m\u001b[1;33m,\u001b[0m\u001b[1;33m\n",
       "\u001b[0m    \u001b[1;34m\"Food101\"\u001b[0m\u001b[1;33m,\u001b[0m\u001b[1;33m\n",
       "\u001b[0m    \u001b[1;34m\"DTD\"\u001b[0m\u001b[1;33m,\u001b[0m\u001b[1;33m\n",
       "\u001b[0m    \u001b[1;34m\"FER2013\"\u001b[0m\u001b[1;33m,\u001b[0m\u001b[1;33m\n",
       "\u001b[0m    \u001b[1;34m\"GTSRB\"\u001b[0m\u001b[1;33m,\u001b[0m\u001b[1;33m\n",
       "\u001b[0m    \u001b[1;34m\"CLEVRClassification\"\u001b[0m\u001b[1;33m,\u001b[0m\u001b[1;33m\n",
       "\u001b[0m    \u001b[1;34m\"OxfordIIITPet\"\u001b[0m\u001b[1;33m,\u001b[0m\u001b[1;33m\n",
       "\u001b[0m    \u001b[1;34m\"PCAM\"\u001b[0m\u001b[1;33m,\u001b[0m\u001b[1;33m\n",
       "\u001b[0m    \u001b[1;34m\"Country211\"\u001b[0m\u001b[1;33m,\u001b[0m\u001b[1;33m\n",
       "\u001b[0m    \u001b[1;34m\"FGVCAircraft\"\u001b[0m\u001b[1;33m,\u001b[0m\u001b[1;33m\n",
       "\u001b[0m    \u001b[1;34m\"EuroSAT\"\u001b[0m\u001b[1;33m,\u001b[0m\u001b[1;33m\n",
       "\u001b[0m    \u001b[1;34m\"RenderedSST2\"\u001b[0m\u001b[1;33m,\u001b[0m\u001b[1;33m\n",
       "\u001b[0m    \u001b[1;34m\"Kitti2012Stereo\"\u001b[0m\u001b[1;33m,\u001b[0m\u001b[1;33m\n",
       "\u001b[0m    \u001b[1;34m\"Kitti2015Stereo\"\u001b[0m\u001b[1;33m,\u001b[0m\u001b[1;33m\n",
       "\u001b[0m    \u001b[1;34m\"CarlaStereo\"\u001b[0m\u001b[1;33m,\u001b[0m\u001b[1;33m\n",
       "\u001b[0m    \u001b[1;34m\"Middlebury2014Stereo\"\u001b[0m\u001b[1;33m,\u001b[0m\u001b[1;33m\n",
       "\u001b[0m    \u001b[1;34m\"CREStereo\"\u001b[0m\u001b[1;33m,\u001b[0m\u001b[1;33m\n",
       "\u001b[0m    \u001b[1;34m\"FallingThingsStereo\"\u001b[0m\u001b[1;33m,\u001b[0m\u001b[1;33m\n",
       "\u001b[0m    \u001b[1;34m\"SceneFlowStereo\"\u001b[0m\u001b[1;33m,\u001b[0m\u001b[1;33m\n",
       "\u001b[0m    \u001b[1;34m\"SintelStereo\"\u001b[0m\u001b[1;33m,\u001b[0m\u001b[1;33m\n",
       "\u001b[0m    \u001b[1;34m\"InStereo2k\"\u001b[0m\u001b[1;33m,\u001b[0m\u001b[1;33m\n",
       "\u001b[0m    \u001b[1;34m\"ETH3DStereo\"\u001b[0m\u001b[1;33m,\u001b[0m\u001b[1;33m\n",
       "\u001b[0m    \u001b[1;34m\"wrap_dataset_for_transforms_v2\"\u001b[0m\u001b[1;33m,\u001b[0m\u001b[1;33m\n",
       "\u001b[0m    \u001b[1;34m\"Imagenette\"\u001b[0m\u001b[1;33m,\u001b[0m\u001b[1;33m\n",
       "\u001b[0m\u001b[1;33m)\u001b[0m\u001b[1;33m\n",
       "\u001b[0m\u001b[1;33m\n",
       "\u001b[0m\u001b[1;33m\n",
       "\u001b[0m\u001b[1;31m# We override current module's attributes to handle the import:\u001b[0m\u001b[1;33m\n",
       "\u001b[0m\u001b[1;31m# from torchvision.datasets import wrap_dataset_for_transforms_v2\u001b[0m\u001b[1;33m\n",
       "\u001b[0m\u001b[1;31m# without a cyclic error.\u001b[0m\u001b[1;33m\n",
       "\u001b[0m\u001b[1;31m# Ref: https://peps.python.org/pep-0562/\u001b[0m\u001b[1;33m\n",
       "\u001b[0m\u001b[1;32mdef\u001b[0m \u001b[0m__getattr__\u001b[0m\u001b[1;33m(\u001b[0m\u001b[0mname\u001b[0m\u001b[1;33m)\u001b[0m\u001b[1;33m:\u001b[0m\u001b[1;33m\n",
       "\u001b[0m    \u001b[1;32mif\u001b[0m \u001b[0mname\u001b[0m \u001b[1;32min\u001b[0m \u001b[1;33m(\u001b[0m\u001b[1;34m\"wrap_dataset_for_transforms_v2\"\u001b[0m\u001b[1;33m,\u001b[0m\u001b[1;33m)\u001b[0m\u001b[1;33m:\u001b[0m\u001b[1;33m\n",
       "\u001b[0m        \u001b[1;32mfrom\u001b[0m \u001b[0mtorchvision\u001b[0m\u001b[1;33m.\u001b[0m\u001b[0mtv_tensors\u001b[0m\u001b[1;33m.\u001b[0m\u001b[0m_dataset_wrapper\u001b[0m \u001b[1;32mimport\u001b[0m \u001b[0mwrap_dataset_for_transforms_v2\u001b[0m\u001b[1;33m\n",
       "\u001b[0m\u001b[1;33m\n",
       "\u001b[0m        \u001b[1;32mreturn\u001b[0m \u001b[0mwrap_dataset_for_transforms_v2\u001b[0m\u001b[1;33m\n",
       "\u001b[0m\u001b[1;33m\n",
       "\u001b[0m    \u001b[1;32mraise\u001b[0m \u001b[0mAttributeError\u001b[0m\u001b[1;33m(\u001b[0m\u001b[1;34mf\"module {__name__!r} has no attribute {name!r}\"\u001b[0m\u001b[1;33m)\u001b[0m\u001b[1;33m\u001b[0m\u001b[1;33m\u001b[0m\u001b[0m"
      ]
     },
     "metadata": {},
     "output_type": "display_data"
    }
   ],
   "source": [
    "datasets??"
   ]
  },
  {
   "cell_type": "markdown",
   "id": "08e98782-c631-490f-8501-983ae4ef2a91",
   "metadata": {},
   "source": [
    "### 加载数据集"
   ]
  },
  {
   "cell_type": "markdown",
   "id": "54783604-27ec-46c6-b9bc-0db4540da142",
   "metadata": {},
   "source": [
    "### transforms.ToTensor的两个作用就是 \n",
    "1. 将读取的数据转换为张量\n",
    "2. 将数据归一化(如图片数据),转为(0-1)之间的数"
   ]
  },
  {
   "cell_type": "markdown",
   "id": "e4fd9f8b-0f9e-4117-82cf-2ce6bf251089",
   "metadata": {},
   "source": [
    "#### 准备训练集"
   ]
  },
  {
   "cell_type": "code",
   "execution_count": 4,
   "id": "4b3f14e9-9d58-4d73-9bab-50d51e6e5f37",
   "metadata": {},
   "outputs": [],
   "source": [
    "transformation = transforms.Compose(\n",
    "    [\n",
    "        transforms.ToTensor(), #将读取的数据转换为张量\n",
    "        # transforms.Normalize() #初学不建议\n",
    "        #标准化到-1~1之间\n",
    "        \n",
    "    ]\n",
    ")"
   ]
  },
  {
   "cell_type": "code",
   "execution_count": 5,
   "id": "5773a216-7849-4923-bc22-8e4c35fa3061",
   "metadata": {},
   "outputs": [],
   "source": [
    "\n",
    "DS_Train = datasets.MNIST(\n",
    "    './dataset/', #指定数据的下载位置 \n",
    "    train=True, #声明是Train数据 \n",
    "    transform=transformation, #要做的变换\n",
    "    download=False, #是否下载,这里我已经下载了,就不浪费流量了\n",
    ")"
   ]
  },
  {
   "cell_type": "code",
   "execution_count": 6,
   "id": "13d7fbbe-9fd5-4b62-8070-82fa41064c2c",
   "metadata": {},
   "outputs": [
    {
     "data": {
      "text/plain": [
       "torchvision.datasets.mnist.MNIST"
      ]
     },
     "execution_count": 6,
     "metadata": {},
     "output_type": "execute_result"
    }
   ],
   "source": [
    "type(DS_Train)"
   ]
  },
  {
   "cell_type": "markdown",
   "id": "697fe44c-1fea-4054-b356-b088a05e8035",
   "metadata": {},
   "source": [
    "#### 准备测试集"
   ]
  },
  {
   "cell_type": "code",
   "execution_count": 7,
   "id": "7dab9261-8359-4c55-ba2a-31f18ce24718",
   "metadata": {},
   "outputs": [],
   "source": [
    "DS_Test = datasets.MNIST(\n",
    "    './dataset/', #指定数据的下载位置 \n",
    "    train=False, #非Train数据集 \n",
    "    transform=transformation, #要做的变换\n",
    "    download=False, #是否下载\n",
    ")"
   ]
  },
  {
   "cell_type": "markdown",
   "id": "3d987fea-0784-4b68-aba0-8048f65eaeb5",
   "metadata": {},
   "source": [
    "注意,直接返回的就是tensordataset那样的数据集,所以可以直接下一步处理成dataloader"
   ]
  },
  {
   "cell_type": "code",
   "execution_count": 8,
   "id": "3506bbb5-16b8-499b-9d85-4b42ce35e491",
   "metadata": {},
   "outputs": [],
   "source": [
    "DL_train = DataLoader(DS_Train,batch_size=64,shuffle=True)\n",
    "DL_test = DataLoader(DS_Test,batch_size=256,shuffle=False)\n",
    "#测试集并不需要反向传播,所以占用资源比较小,所以可以提升测试集\n",
    "# 的batchsize"
   ]
  },
  {
   "cell_type": "code",
   "execution_count": 9,
   "id": "59e2988c-f62c-4ec8-bd30-da784dc9971f",
   "metadata": {},
   "outputs": [
    {
     "data": {
      "text/plain": [
       "torch.utils.data.dataloader.DataLoader"
      ]
     },
     "execution_count": 9,
     "metadata": {},
     "output_type": "execute_result"
    }
   ],
   "source": [
    "type(DL_train)"
   ]
  },
  {
   "cell_type": "markdown",
   "id": "6d19a45f-587f-49fc-83b5-d3e03f3a6f31",
   "metadata": {},
   "source": [
    "#### 看看数据集长什么样"
   ]
  },
  {
   "cell_type": "markdown",
   "id": "14cc80f5-7ee8-482e-862b-06a31b5bd401",
   "metadata": {},
   "source": [
    "拿出一个批次,看看这玩意儿长什么样子"
   ]
  },
  {
   "cell_type": "markdown",
   "id": "0b3762b1-a921-4b2d-8c27-610beeecd4b2",
   "metadata": {},
   "source": [
    "#### 注意这玩意儿有俩返回值,一个是图片,一个是图片对应的标签"
   ]
  },
  {
   "cell_type": "code",
   "execution_count": 10,
   "id": "fb742294-a112-4e40-8232-173a8366bb7f",
   "metadata": {},
   "outputs": [],
   "source": [
    "img64,labels = next(iter(DL_train))"
   ]
  },
  {
   "cell_type": "code",
   "execution_count": 11,
   "id": "034df497-c7be-45a4-8731-1ee041418f3f",
   "metadata": {},
   "outputs": [
    {
     "data": {
      "text/plain": [
       "torch.Size([64, 1, 28, 28])"
      ]
     },
     "execution_count": 11,
     "metadata": {},
     "output_type": "execute_result"
    }
   ],
   "source": [
    "img64.shape"
   ]
  },
  {
   "cell_type": "markdown",
   "id": "e78f9647-2f57-46f7-a1f4-194b9f4300d3",
   "metadata": {},
   "source": [
    "batchsize是64,一个通道(chanel),$28\\times28$ 的图像（n,c,h,w）"
   ]
  },
  {
   "cell_type": "markdown",
   "id": "e0c8daa2-5ca1-4e83-bc5b-d6b561b163a9",
   "metadata": {},
   "source": [
    "在pytorch里面图片的表示形式就是  \n",
    "$(n(batch),c(chanel),h(height),w(width))$"
   ]
  },
  {
   "cell_type": "markdown",
   "id": "a98d0e43-1b91-44b5-baf0-63fe22c191e1",
   "metadata": {},
   "source": [
    "取出第一张图片"
   ]
  },
  {
   "cell_type": "code",
   "execution_count": 12,
   "id": "d8a63ede-cfdb-4ece-9e17-5213a50d22eb",
   "metadata": {},
   "outputs": [],
   "source": [
    "imgs = img64[0] "
   ]
  },
  {
   "cell_type": "code",
   "execution_count": 13,
   "id": "338b4bdf-7cc9-4980-945e-d5232f87940d",
   "metadata": {},
   "outputs": [
    {
     "data": {
      "text/plain": [
       "torch.Size([1, 28, 28])"
      ]
     },
     "execution_count": 13,
     "metadata": {},
     "output_type": "execute_result"
    }
   ],
   "source": [
    "imgs.shape"
   ]
  },
  {
   "cell_type": "markdown",
   "id": "ef398322-99a2-418a-8d95-31af8df693bc",
   "metadata": {},
   "source": [
    "转换为ndarry,但是第一个维度我们并不需要,  \n",
    "所以利用squeeze将其去掉"
   ]
  },
  {
   "cell_type": "code",
   "execution_count": 14,
   "id": "33e5a97d-3fb9-4473-b922-bdcd1aaa240a",
   "metadata": {},
   "outputs": [],
   "source": [
    "img = imgs.numpy()\n",
    "img = np.squeeze(img)"
   ]
  },
  {
   "cell_type": "code",
   "execution_count": 15,
   "id": "30c68435-fdc2-48be-985e-2356f1346556",
   "metadata": {},
   "outputs": [
    {
     "data": {
      "text/plain": [
       "(28, 28)"
      ]
     },
     "execution_count": 15,
     "metadata": {},
     "output_type": "execute_result"
    }
   ],
   "source": [
    "img.shape"
   ]
  },
  {
   "cell_type": "markdown",
   "id": "c0661830-b1d0-4e99-b50c-8c8001ec4993",
   "metadata": {},
   "source": [
    "#### 绘制图片 "
   ]
  },
  {
   "cell_type": "code",
   "execution_count": 16,
   "id": "99fb49ff-ebda-46c7-949d-8088892d4c9e",
   "metadata": {},
   "outputs": [
    {
     "data": {
      "text/plain": [
       "<matplotlib.image.AxesImage at 0x2110554e2d0>"
      ]
     },
     "execution_count": 16,
     "metadata": {},
     "output_type": "execute_result"
    },
    {
     "data": {
      "image/png": "[encoded data removed]",
      "text/plain": [
       "<Figure size 640x480 with 1 Axes>"
      ]
     },
     "metadata": {},
     "output_type": "display_data"
    }
   ],
   "source": [
    "plt.imshow(img)"
   ]
  },
  {
   "cell_type": "markdown",
   "id": "bbed37fb-c77a-4479-b66b-3fe7eee83814",
   "metadata": {},
   "source": [
    "#### 查看对应的标签数据"
   ]
  },
  {
   "cell_type": "code",
   "execution_count": 17,
   "id": "8feae59d-9c25-45b2-94ee-20765b9d8d4b",
   "metadata": {},
   "outputs": [
    {
     "data": {
      "text/plain": [
       "tensor(9)"
      ]
     },
     "execution_count": 17,
     "metadata": {},
     "output_type": "execute_result"
    }
   ],
   "source": [
    "labels[0]"
   ]
  },
  {
   "cell_type": "markdown",
   "id": "9f7e6359-8c17-4eb1-9357-427a93c384e1",
   "metadata": {},
   "source": [
    "可以看到对应的是正确的"
   ]
  },
  {
   "cell_type": "markdown",
   "id": "f3fd5f68-7498-4d29-a80f-5ac781f92501",
   "metadata": {},
   "source": [
    "定义一个函数imshow用来绘制图片"
   ]
  },
  {
   "cell_type": "code",
   "execution_count": 18,
   "id": "25c3aeba-9c81-4dc0-9316-c4c2c14551e6",
   "metadata": {},
   "outputs": [],
   "source": [
    "def imshow(img):  \n",
    "    npimg = img.numpy()\n",
    "    img_ = np.squeeze(npimg)\n",
    "    plt.imshow(img_)\n",
    "    \n",
    "    "
   ]
  },
  {
   "cell_type": "markdown",
   "id": "001e8133-ff40-4dcd-a12c-04adf774adef",
   "metadata": {},
   "source": [
    "取出十张图片"
   ]
  },
  {
   "cell_type": "markdown",
   "id": "d9dca906-0fde-4abf-8d00-75ef4dac794e",
   "metadata": {},
   "source": [
    "创建画布,大小为10*1"
   ]
  },
  {
   "cell_type": "code",
   "execution_count": 19,
   "id": "18390f0b-c3cc-4865-96f6-e435079857ac",
   "metadata": {},
   "outputs": [
    {
     "data": {
      "image/png": "[encoded data removed]",
      "text/plain": [
       "<Figure size 1000x100 with 10 Axes>"
      ]
     },
     "metadata": {},
     "output_type": "display_data"
    }
   ],
   "source": [
    "plt.figure(figsize=(10,1))\n",
    "for i,img in enumerate(img64[:10]): #\n",
    "    plt.subplot(1,10,i+1) #绘制的是1行10列的第i+1张图\n",
    "    imshow(img)"
   ]
  },
  {
   "cell_type": "markdown",
   "id": "78452064-e408-4efe-b7f2-f8b86d464ace",
   "metadata": {},
   "source": [
    "#### 回顾enumerate"
   ]
  },
  {
   "cell_type": "code",
   "execution_count": 21,
   "id": "68385d00-62b0-4ab9-ba41-468611e14147",
   "metadata": {},
   "outputs": [
    {
     "name": "stdout",
     "output_type": "stream",
     "text": [
      "0 10\n",
      "1 11\n",
      "2 12\n",
      "3 13\n",
      "4 14\n",
      "5 15\n",
      "6 16\n",
      "7 17\n",
      "8 18\n",
      "9 19\n"
     ]
    }
   ],
   "source": [
    "demolst = [i for i in range(10,20)]\n",
    "for idx,item in enumerate(demolst): \n",
    "    print(idx,item)"
   ]
  },
  {
   "cell_type": "code",
   "execution_count": 22,
   "id": "a99b2455-c3bd-46ca-b07e-471d64bd049e",
   "metadata": {},
   "outputs": [
    {
     "data": {
      "text/plain": [
       "tensor([9, 4, 9, 5, 4, 7, 3, 9, 1, 3])"
      ]
     },
     "execution_count": 22,
     "metadata": {},
     "output_type": "execute_result"
    }
   ],
   "source": [
    "labels[:10]"
   ]
  },
  {
   "cell_type": "markdown",
   "id": "7528a013-70ca-4d29-ab64-9991a7c68592",
   "metadata": {},
   "source": [
    "可以看到都是一一对应的"
   ]
  },
  {
   "cell_type": "markdown",
   "id": "20605aea-7932-4fc6-92ac-302c970bd52f",
   "metadata": {},
   "source": [
    "### 创建全连接模型"
   ]
  },
  {
   "cell_type": "markdown",
   "id": "be01686e-87e4-455f-9ca3-1a0c4c26e324",
   "metadata": {},
   "source": [
    "每张图片展开的像素个数"
   ]
  },
  {
   "cell_type": "markdown",
   "id": "69c6b052-03f6-44d7-841e-2e6e35f7840b",
   "metadata": {},
   "source": [
    "在 PyTorch 中进行手写数字识别（例如使用经典的 **MNIST 数据集**）时，“**展平**”是一个非常重要的预处理步骤。下面我们来详细解释一下它的含义和原因。\n",
    "\n",
    "---\n",
    "\n",
    "## ✅ 什么是“展平”？\n",
    "\n",
    "“**展平（Flatten）**”指的是将图像数据从多维张量转换为一维向量的过程。\n",
    "\n",
    "### 示例：\n",
    "- MNIST 图像的原始形状是：`(1, 28, 28)`，表示 1 个通道（灰度图），高 28 像素，宽 28 像素。\n",
    "- 展平后变成：`(784,)`，也就是 `28 * 28 = 784` 的一维向量。\n",
    "\n",
    "```python\n",
    "import torch\n",
    "\n",
    "x = torch.randn(1, 28, 28)          # 原始图像\n",
    "x_flattened = x.view(-1)            # 展平成一个一维向量，形状变为 (784,)\n",
    "```\n",
    "\n",
    "---\n",
    "\n",
    "## 🤔 为什么要“展平”？\n",
    "\n",
    "### 1. 全连接层要求输入是一维的\n",
    "如果你构建的是一个全连接神经网络（Fully Connected Network / MLP），每一层的神经元只接受一维的输入。\n",
    "\n",
    "例如：\n",
    "```python\n",
    "self.fc1 = nn.Linear(28 * 28, 128)\n",
    "```\n",
    "这个线性层期望输入是 `(784,)` 这样的一维向量。\n",
    "\n",
    "如果不展平，直接传入 `(1, 28, 28)` 的三维张量，会报错。\n",
    "\n",
    "---\n",
    "\n",
    "### 2. 卷积神经网络 CNN 不需要手动展平（但最后仍要）\n",
    "如果你使用的是卷积神经网络（CNN），比如 `nn.Conv2d` 层，那么输入可以保持为 `(C, H, W)` 的格式（如 `(1, 28, 28)`）。但在经过卷积层和池化层之后，在进入全连接层之前，仍然需要对特征图进行展平操作。\n",
    "\n",
    "示例：\n",
    "```python\n",
    "x = F.relu(self.conv1(x))        # 输出可能是 (batch_size, 16, 24, 24)\n",
    "x = x.view(x.size(0), -1)        # 展平成 (batch_size, 16*24*24)\n",
    "x = self.fc1(x)\n",
    "```\n",
    "\n",
    "---\n",
    "\n",
    "## 📌 总结\n",
    "\n",
    "| 情况 | 是否需要展平 |\n",
    "|------|----------------|\n",
    "| 使用全连接网络（MLP） | ✅ 必须展平 |\n",
    "| 使用 CNN（卷积层） | ❌ 初期不需要，但最终进入全连接层前需要展平 |\n",
    "| 输入数据为图像（如 MNIST） | ✅ 通常需要从 `(1, 28, 28)` 变成 `(784,)` |\n",
    "\n",
    "---\n",
    "\n",
    "如果你正在构建一个简单的模型用于 MNIST 手写识别，可以参考如下代码片段：\n",
    "\n",
    "```python\n",
    "import torch.nn as nn\n",
    "\n",
    "class SimpleMLP(nn.Module):\n",
    "    def __init__(self):\n",
    "        super().__init__()\n",
    "        self.net = nn.Sequential(\n",
    "            nn.Flatten(),                   # 自动将 (1, 28, 28) 展平为 (784,)\n",
    "            nn.Linear(784, 128),\n",
    "            nn.ReLU(),\n",
    "            nn.Linear(128, 10)\n",
    "        )\n",
    "\n",
    "    def forward(self, x):\n",
    "        return self.net(x)\n",
    "```\n",
    "\n",
    "---\n",
    "\n",
    "如有需要，我可以提供完整的训练代码 😊"
   ]
  },
  {
   "cell_type": "code",
   "execution_count": 39,
   "id": "ff7d4887-da37-4fe9-ac82-7e77fdaaf374",
   "metadata": {},
   "outputs": [
    {
     "data": {
      "text/plain": [
       "784"
      ]
     },
     "execution_count": 39,
     "metadata": {},
     "output_type": "execute_result"
    }
   ],
   "source": [
    "28*28"
   ]
  },
  {
   "cell_type": "markdown",
   "id": "b96e5f4f-9e32-40dc-8c98-55a4697bb73c",
   "metadata": {},
   "source": [
    "类别个数"
   ]
  },
  {
   "cell_type": "code",
   "execution_count": 23,
   "id": "3802b9c8-f5f6-4bf5-8ddb-30eea60fee28",
   "metadata": {},
   "outputs": [
    {
     "data": {
      "text/plain": [
       "array([0, 1, 2, 3, 4, 5, 6, 7, 8, 9], dtype=int64)"
      ]
     },
     "execution_count": 23,
     "metadata": {},
     "output_type": "execute_result"
    }
   ],
   "source": [
    "np.unique(labels)"
   ]
  },
  {
   "cell_type": "code",
   "execution_count": 24,
   "id": "0a421fc5-baab-4dce-a892-9273b628c715",
   "metadata": {},
   "outputs": [],
   "source": [
    " class Model(nn.Module): \n",
    "     def __init__(self):\n",
    "         super().__init__()  \n",
    "         self.liner_1 = nn.Linear(784,120)\n",
    "         self.liner_2 = nn.Linear(120,84)\n",
    "         self.liner_3 = nn.Linear(84,10) #0-9所以是10分类\n",
    "     def forward(self,input): \n",
    "         #把输入从形状如 (batch_size, 1, 28, 28) 或 (batch_size, 28, 28) 转换为 (batch_size, 784)，也就是把图像数据展平为一维向量。\n",
    "         x = input.view(-1,28*28) #-1 表示自动推断 batch size 大小（即保留原来的 batch 数量）\n",
    "         # 28*28=784 表示每个图像被拉成一个长度为 784 的一维向量\n",
    "         '''\n",
    "         假设输入是一个 batch 的图像，形状是 (64, 1, 28, 28)，表示有 64 张图，每张图是 1 通道、28x28 的灰度图。\n",
    "\n",
    "执行展平后变为：x = input.view(-1, 784)  # => (64, 784)  \n",
    "因为你使用的是全连接神经网络（MLP），它只能处理一维的数据。不像卷积神经网络（CNN）可以处理 (C, H, W) 格式的图像数据，全连接层要求输入是一维的特征向量。\n",
    "\n",
    "如果不展平，直接传入 (1, 28, 28) 或 (28, 28) 的数据，会因为维度不匹配而报错。\n",
    "         \n",
    "         '''\n",
    "         x = F.relu(self.liner_1(x))  \n",
    "         x = F.relu(self.liner_2(x))\n",
    "         x = F.relu(self.liner_3(x))\n",
    "         return x"
   ]
  },
  {
   "cell_type": "markdown",
   "id": "18d21319-79d7-4d13-949b-7e64a8061c92",
   "metadata": {},
   "source": [
    "#### 创建模型"
   ]
  },
  {
   "cell_type": "code",
   "execution_count": 25,
   "id": "9b9b19ea-4000-40c3-8508-2577693eaac2",
   "metadata": {},
   "outputs": [],
   "source": [
    "model = Model()"
   ]
  },
  {
   "cell_type": "code",
   "execution_count": 26,
   "id": "67e23d23-11c1-4aaf-ade4-4134e894bdbe",
   "metadata": {},
   "outputs": [
    {
     "data": {
      "text/plain": [
       "Model(\n",
       "  (liner_1): Linear(in_features=784, out_features=120, bias=True)\n",
       "  (liner_2): Linear(in_features=120, out_features=84, bias=True)\n",
       "  (liner_3): Linear(in_features=84, out_features=10, bias=True)\n",
       ")"
      ]
     },
     "execution_count": 26,
     "metadata": {},
     "output_type": "execute_result"
    }
   ],
   "source": [
    "model"
   ]
  },
  {
   "cell_type": "markdown",
   "id": "dc3c6227-4a0a-49e7-a388-4b3258d460e3",
   "metadata": {},
   "source": [
    "#### 创建损失函数和优化函数"
   ]
  },
  {
   "cell_type": "code",
   "execution_count": 27,
   "id": "ea198e42-52e2-45e3-ae48-15ed7c2768b3",
   "metadata": {},
   "outputs": [],
   "source": [
    "lr = 0.001\n",
    "lossfn = nn.CrossEntropyLoss()\n",
    "optm = torch.optim.Adam(model.parameters(),lr=lr)"
   ]
  },
  {
   "cell_type": "code",
   "execution_count": 30,
   "id": "ae34b528-90a9-465a-9b35-feb5ddb7708c",
   "metadata": {},
   "outputs": [],
   "source": [
    "def fit_gpu(Train_DL,TST_DL,Model_m,epoch_,optim,loss_fn): \n",
    "    correct = 0\n",
    "    total = 0\n",
    "    running_loss = 0\n",
    "    tstcorrect = 0\n",
    "    tsttotal = 0\n",
    "    tstrunning_loss = 0\n",
    "    device = torch.device(\"cuda\" if torch.cuda.is_available() else \"cpu\")\n",
    "    Model_m.to(device)\n",
    "    \n",
    "   \n",
    "    #创建俩列表接收损失值和精度值\n",
    "    train_loss_lst = []\n",
    "    train_acc_lst = []\n",
    "    tst_loss_lst=[]\n",
    "    tst_acc_lst=[]\n",
    "  \n",
    "    Model_m.train()  # 设置为训练模式\n",
    "    for x, y in Train_DL:\n",
    "        x = x.to(device)\n",
    "        y = y.to(device)\n",
    "        \n",
    "        y_pred = Model_m(x)\n",
    "        loss = loss_fn(y_pred, y)\n",
    "        \n",
    "        optim.zero_grad()\n",
    "        loss.backward()\n",
    "        optim.step()\n",
    "\n",
    "        # 每个epoch结束后评估模型\n",
    "        # 所有 batch 都训练完后，再计算整个 epoch 的准确率和损失\n",
    "        with torch.no_grad():\n",
    "            y_pred = torch.argmax(y_pred,dim=1)\n",
    "            correct += (y_pred == y).sum().item() #预测正确的个数\n",
    "            # 因为(y_pred == y).sum()是一个张量,所以为了灯饰可以数值操作,我们用.item()取值\n",
    "            total += y.size(0) #样本的个数,也就是size返回值的第一个返回值,即行数\n",
    "            running_loss += loss.item()\n",
    "\n",
    "        \n",
    "    epoch_acc = correct/total\n",
    "    epoch_loss = running_loss/len(Train_DL.dataset)\n",
    "\n",
    "    #测试阶段 \n",
    "    Model_m.eval()\n",
    "    with torch.no_grad(): #测试不需要反向传播,而是用训练好的模型来测试测试集的数据\n",
    "         for x, y in TST_DL:\n",
    "             x, y = x.to(device), y.to(device)\n",
    "             y_pred =Model_m(x)\n",
    "             loss = loss_fn(y_pred, y)\n",
    "             \n",
    "             y_pred = torch.argmax(y_pred,dim=1)   #获取真正的预测结果,不懂就往上巴拉argmax\n",
    "             tstcorrect += (y_pred == y).sum().item() #预测正确的个数\n",
    "             tsttotal += y.size(0) #样本的个数\n",
    "             tstrunning_loss += loss.item()\n",
    "             \n",
    "    tstepoch_acc = tstcorrect/tsttotal\n",
    "    tstepoch_loss = tstrunning_loss/len(TST_DL.dataset)\n",
    "\n",
    "    print(\n",
    "        f'epoch:{epoch} | loss:{epoch_loss:.3f} | acc:{epoch_acc:.3f} | tstloss:{tstepoch_loss:.3f} | tstacc:{tstepoch_acc:.3f}'\n",
    "    )\n",
    "\n",
    "    return epoch_loss,epoch_acc,tstepoch_loss,tstepoch_acc\n"
   ]
  },
  {
   "cell_type": "code",
   "execution_count": 32,
   "id": "6d4179b4-e80d-4e4d-a1bf-09ee70a78d6f",
   "metadata": {},
   "outputs": [
    {
     "name": "stdout",
     "output_type": "stream",
     "text": [
      "epoch:0 | loss:0.019 | acc:0.649 | tstloss:0.003 | tstacc:0.730\n",
      "epoch:1 | loss:0.012 | acc:0.733 | tstloss:0.003 | tstacc:0.744\n",
      "epoch:2 | loss:0.011 | acc:0.742 | tstloss:0.003 | tstacc:0.750\n",
      "epoch:3 | loss:0.009 | acc:0.796 | tstloss:0.002 | tstacc:0.847\n",
      "epoch:4 | loss:0.007 | acc:0.852 | tstloss:0.002 | tstacc:0.852\n",
      "epoch:5 | loss:0.007 | acc:0.857 | tstloss:0.002 | tstacc:0.855\n",
      "epoch:6 | loss:0.006 | acc:0.861 | tstloss:0.002 | tstacc:0.857\n",
      "epoch:7 | loss:0.006 | acc:0.864 | tstloss:0.002 | tstacc:0.861\n",
      "epoch:8 | loss:0.006 | acc:0.867 | tstloss:0.002 | tstacc:0.863\n",
      "epoch:9 | loss:0.006 | acc:0.869 | tstloss:0.001 | tstacc:0.867\n",
      "epoch:10 | loss:0.006 | acc:0.872 | tstloss:0.001 | tstacc:0.868\n",
      "epoch:11 | loss:0.005 | acc:0.874 | tstloss:0.001 | tstacc:0.869\n",
      "epoch:12 | loss:0.005 | acc:0.875 | tstloss:0.001 | tstacc:0.870\n",
      "epoch:13 | loss:0.005 | acc:0.877 | tstloss:0.001 | tstacc:0.871\n",
      "epoch:14 | loss:0.005 | acc:0.879 | tstloss:0.001 | tstacc:0.873\n",
      "epoch:15 | loss:0.005 | acc:0.880 | tstloss:0.001 | tstacc:0.872\n",
      "epoch:16 | loss:0.005 | acc:0.882 | tstloss:0.001 | tstacc:0.874\n",
      "epoch:17 | loss:0.005 | acc:0.882 | tstloss:0.001 | tstacc:0.875\n",
      "epoch:18 | loss:0.005 | acc:0.883 | tstloss:0.001 | tstacc:0.876\n",
      "epoch:19 | loss:0.005 | acc:0.884 | tstloss:0.001 | tstacc:0.877\n",
      "epoch:20 | loss:0.005 | acc:0.885 | tstloss:0.001 | tstacc:0.878\n",
      "epoch:21 | loss:0.005 | acc:0.886 | tstloss:0.001 | tstacc:0.877\n",
      "epoch:22 | loss:0.005 | acc:0.887 | tstloss:0.001 | tstacc:0.878\n",
      "epoch:23 | loss:0.005 | acc:0.888 | tstloss:0.001 | tstacc:0.878\n",
      "epoch:24 | loss:0.005 | acc:0.888 | tstloss:0.001 | tstacc:0.879\n",
      "epoch:25 | loss:0.004 | acc:0.889 | tstloss:0.001 | tstacc:0.879\n",
      "epoch:26 | loss:0.004 | acc:0.889 | tstloss:0.001 | tstacc:0.878\n",
      "epoch:27 | loss:0.004 | acc:0.890 | tstloss:0.001 | tstacc:0.880\n",
      "epoch:28 | loss:0.004 | acc:0.890 | tstloss:0.001 | tstacc:0.879\n",
      "epoch:29 | loss:0.004 | acc:0.891 | tstloss:0.001 | tstacc:0.880\n",
      "epoch:30 | loss:0.004 | acc:0.891 | tstloss:0.001 | tstacc:0.880\n",
      "epoch:31 | loss:0.004 | acc:0.892 | tstloss:0.001 | tstacc:0.879\n",
      "epoch:32 | loss:0.004 | acc:0.893 | tstloss:0.001 | tstacc:0.880\n",
      "epoch:33 | loss:0.004 | acc:0.893 | tstloss:0.001 | tstacc:0.880\n",
      "epoch:34 | loss:0.004 | acc:0.893 | tstloss:0.001 | tstacc:0.881\n",
      "epoch:35 | loss:0.004 | acc:0.893 | tstloss:0.001 | tstacc:0.881\n",
      "epoch:36 | loss:0.004 | acc:0.894 | tstloss:0.001 | tstacc:0.880\n",
      "epoch:37 | loss:0.004 | acc:0.894 | tstloss:0.001 | tstacc:0.881\n",
      "epoch:38 | loss:0.004 | acc:0.894 | tstloss:0.001 | tstacc:0.881\n",
      "epoch:39 | loss:0.004 | acc:0.895 | tstloss:0.001 | tstacc:0.880\n",
      "epoch:40 | loss:0.004 | acc:0.895 | tstloss:0.001 | tstacc:0.881\n",
      "epoch:41 | loss:0.004 | acc:0.896 | tstloss:0.001 | tstacc:0.880\n",
      "epoch:42 | loss:0.004 | acc:0.896 | tstloss:0.001 | tstacc:0.880\n",
      "epoch:43 | loss:0.004 | acc:0.896 | tstloss:0.001 | tstacc:0.881\n",
      "epoch:44 | loss:0.004 | acc:0.896 | tstloss:0.001 | tstacc:0.881\n",
      "epoch:45 | loss:0.004 | acc:0.897 | tstloss:0.001 | tstacc:0.881\n",
      "epoch:46 | loss:0.004 | acc:0.897 | tstloss:0.001 | tstacc:0.881\n",
      "epoch:47 | loss:0.004 | acc:0.897 | tstloss:0.001 | tstacc:0.880\n",
      "epoch:48 | loss:0.004 | acc:0.897 | tstloss:0.001 | tstacc:0.880\n",
      "epoch:49 | loss:0.004 | acc:0.897 | tstloss:0.001 | tstacc:0.881\n"
     ]
    }
   ],
   "source": [
    "model_gpu = Model()\n",
    "optim_gpu = torch.optim.Adam(model_gpu.parameters(),lr=0.0001)\n",
    "loss_fn_gpu = nn.CrossEntropyLoss() \n",
    "# DL_train = DataLoader(DS_train,batch_size=batch,shuffle=True)\n",
    "# DL_test = DataLoader(DS_test,batch_size=batch)  \n",
    "DL_train = DataLoader(DS_Train,batch_size=64,shuffle=True)\n",
    "DL_test = DataLoader(DS_Test,batch_size=256,shuffle=False)\n",
    "\n",
    "epochs = 50 \n",
    "\n",
    "train_loss_gpu=[] \n",
    "train_acc_gpu =[] \n",
    "tst_loss_gpu = [] \n",
    "tst_acc_gpu=[] \n",
    "for epoch in range(epochs): \n",
    "    epoch_loss,epoch_acc,tstepoch_loss,tstepoch_acc = fit_gpu(Train_DL=DL_train,TST_DL=DL_test,Model_m=model_gpu,epoch_=epoch,optim=optim_gpu,loss_fn=loss_fn_gpu)\n",
    "    train_loss_gpu.append(epoch_loss)\n",
    "    train_acc_gpu.append(epoch_acc)\n",
    "    tst_loss_gpu.append(tstepoch_loss)\n",
    "    tst_acc_gpu.append(tstepoch_acc)"
   ]
  },
  {
   "cell_type": "code",
   "execution_count": 33,
   "id": "65edceb1-5d19-48b3-9e39-a94e6afb5b32",
   "metadata": {},
   "outputs": [
    {
     "data": {
      "image/png": "[encoded data removed]",
      "text/plain": [
       "<Figure size 1200x500 with 2 Axes>"
      ]
     },
     "metadata": {},
     "output_type": "display_data"
    }
   ],
   "source": [
    "import matplotlib.pyplot as plt\n",
    "\n",
    "plt.figure(figsize=(12, 5))\n",
    "\n",
    "plt.subplot(1, 2, 1)\n",
    "plt.plot(train_loss_gpu, label='Train Loss')\n",
    "plt.plot(tst_loss_gpu, label='Test Loss')\n",
    "plt.legend()\n",
    "plt.title('Loss Curve')\n",
    "\n",
    "plt.subplot(1, 2, 2)\n",
    "plt.plot(train_acc_gpu, label='Train Acc')\n",
    "plt.plot(tst_acc_gpu, label='Test Acc')\n",
    "plt.legend()\n",
    "plt.title('Accuracy Curve')\n",
    "\n",
    "plt.show()"
   ]
  },
  {
   "cell_type": "markdown",
   "id": "ca867b26-90dc-4329-8c45-f72f7372227b",
   "metadata": {},
   "source": [
    "#### 改进版"
   ]
  },
  {
   "cell_type": "code",
   "execution_count": 37,
   "id": "49ab6d22-c21c-4ae5-b636-38e0477619de",
   "metadata": {},
   "outputs": [],
   "source": [
    "def fit_gpu(Train_DL, TST_DL, Model_m, epoch_, optim, loss_fn):\n",
    "    device = torch.device(\"cuda\" if torch.cuda.is_available() else \"cpu\")\n",
    "    Model_m.to(device)\n",
    "    Model_m.train()\n",
    "\n",
    "    # ---------------------\n",
    "    # 第一阶段：训练阶段\n",
    "    # ---------------------\n",
    "    for x, y in Train_DL:\n",
    "        x, y = x.to(device), y.to(device)\n",
    "\n",
    "        y_pred_logits = Model_m(x)  # 模型输出是 logits\n",
    "        loss = loss_fn(y_pred_logits, y)\n",
    "\n",
    "        optim.zero_grad()\n",
    "        loss.backward()\n",
    "        optim.step()\n",
    "\n",
    "    # ---------------------\n",
    "    # 第二阶段：评估阶段（在整个 epoch 所有 batch 完成后）\n",
    "    # ---------------------\n",
    "    Model_m.eval()  # 切换为评估模式\n",
    "\n",
    "    train_correct = 0\n",
    "    train_total = 0\n",
    "    train_running_loss = 0.0\n",
    "\n",
    "    with torch.no_grad():\n",
    "        for x, y in Train_DL:  # 再次遍历整个训练集\n",
    "            x, y = x.to(device), y.to(device)\n",
    "            y_pred_logits = Model_m(x)\n",
    "            loss = loss_fn(y_pred_logits, y)\n",
    "\n",
    "            y_pred = torch.argmax(y_pred_logits, dim=1)\n",
    "            train_correct += (y_pred == y).sum().item()\n",
    "            train_total += y.size(0)\n",
    "            train_running_loss += loss.item() * y.size(0)\n",
    "\n",
    "    train_epoch_loss = train_running_loss / train_total\n",
    "    train_epoch_acc = train_correct / train_total\n",
    "\n",
    "    # ---------------------\n",
    "    # 测试阶段\n",
    "    # ---------------------\n",
    "    test_correct = 0\n",
    "    test_total = 0\n",
    "    test_running_loss = 0.0\n",
    "\n",
    "    with torch.no_grad():\n",
    "        for x, y in TST_DL:\n",
    "            x, y = x.to(device), y.to(device)\n",
    "            y_pred_logits = Model_m(x)\n",
    "            loss = loss_fn(y_pred_logits, y)\n",
    "\n",
    "            y_pred = torch.argmax(y_pred_logits, dim=1)\n",
    "            test_correct += (y_pred == y).sum().item()\n",
    "            test_total += y.size(0)\n",
    "            test_running_loss += loss.item() * y.size(0)\n",
    "\n",
    "    test_epoch_loss = test_running_loss / test_total\n",
    "    test_epoch_acc = test_correct / test_total\n",
    "\n",
    "    print(\n",
    "        f'epoch:{epoch_} | loss:{train_epoch_loss:.3f} | acc:{train_epoch_acc:.3f} | '\n",
    "        f'tstloss:{test_epoch_loss:.3f} | tstacc:{test_epoch_acc:.3f}'\n",
    "    )\n",
    "\n",
    "    return train_epoch_loss, train_epoch_acc, test_epoch_loss, test_epoch_acc"
   ]
  },
  {
   "cell_type": "code",
   "execution_count": 38,
   "id": "537e4e59-da24-4a07-8818-84c6e0ab6e53",
   "metadata": {},
   "outputs": [
    {
     "name": "stdout",
     "output_type": "stream",
     "text": [
      "epoch:0 | loss:0.852 | acc:0.706 | tstloss:0.837 | tstacc:0.709\n",
      "epoch:1 | loss:0.762 | acc:0.719 | tstloss:0.749 | tstacc:0.721\n",
      "epoch:2 | loss:0.723 | acc:0.730 | tstloss:0.715 | tstacc:0.732\n",
      "epoch:3 | loss:0.696 | acc:0.737 | tstloss:0.691 | tstacc:0.738\n",
      "epoch:4 | loss:0.676 | acc:0.742 | tstloss:0.671 | tstacc:0.742\n",
      "epoch:5 | loss:0.660 | acc:0.746 | tstloss:0.658 | tstacc:0.743\n",
      "epoch:6 | loss:0.646 | acc:0.749 | tstloss:0.647 | tstacc:0.748\n",
      "epoch:7 | loss:0.633 | acc:0.754 | tstloss:0.633 | tstacc:0.753\n",
      "epoch:8 | loss:0.622 | acc:0.757 | tstloss:0.624 | tstacc:0.755\n",
      "epoch:9 | loss:0.614 | acc:0.759 | tstloss:0.617 | tstacc:0.757\n",
      "epoch:10 | loss:0.608 | acc:0.760 | tstloss:0.612 | tstacc:0.758\n",
      "epoch:11 | loss:0.597 | acc:0.763 | tstloss:0.602 | tstacc:0.761\n",
      "epoch:12 | loss:0.593 | acc:0.764 | tstloss:0.600 | tstacc:0.761\n",
      "epoch:13 | loss:0.584 | acc:0.767 | tstloss:0.594 | tstacc:0.764\n",
      "epoch:14 | loss:0.581 | acc:0.767 | tstloss:0.591 | tstacc:0.763\n",
      "epoch:15 | loss:0.575 | acc:0.768 | tstloss:0.587 | tstacc:0.766\n",
      "epoch:16 | loss:0.570 | acc:0.770 | tstloss:0.583 | tstacc:0.766\n",
      "epoch:17 | loss:0.565 | acc:0.771 | tstloss:0.581 | tstacc:0.766\n",
      "epoch:18 | loss:0.562 | acc:0.772 | tstloss:0.577 | tstacc:0.767\n",
      "epoch:19 | loss:0.558 | acc:0.773 | tstloss:0.577 | tstacc:0.768\n",
      "epoch:20 | loss:0.556 | acc:0.774 | tstloss:0.576 | tstacc:0.768\n",
      "epoch:21 | loss:0.551 | acc:0.775 | tstloss:0.573 | tstacc:0.767\n",
      "epoch:22 | loss:0.549 | acc:0.775 | tstloss:0.570 | tstacc:0.769\n",
      "epoch:23 | loss:0.547 | acc:0.776 | tstloss:0.571 | tstacc:0.770\n",
      "epoch:24 | loss:0.543 | acc:0.777 | tstloss:0.567 | tstacc:0.770\n",
      "epoch:25 | loss:0.540 | acc:0.777 | tstloss:0.569 | tstacc:0.770\n",
      "epoch:26 | loss:0.539 | acc:0.778 | tstloss:0.567 | tstacc:0.770\n",
      "epoch:27 | loss:0.536 | acc:0.778 | tstloss:0.566 | tstacc:0.770\n",
      "epoch:28 | loss:0.533 | acc:0.779 | tstloss:0.566 | tstacc:0.769\n",
      "epoch:29 | loss:0.532 | acc:0.779 | tstloss:0.564 | tstacc:0.770\n",
      "epoch:30 | loss:0.529 | acc:0.780 | tstloss:0.562 | tstacc:0.771\n",
      "epoch:31 | loss:0.527 | acc:0.780 | tstloss:0.563 | tstacc:0.771\n",
      "epoch:32 | loss:0.527 | acc:0.780 | tstloss:0.562 | tstacc:0.771\n",
      "epoch:33 | loss:0.525 | acc:0.781 | tstloss:0.565 | tstacc:0.769\n",
      "epoch:34 | loss:0.523 | acc:0.782 | tstloss:0.560 | tstacc:0.771\n",
      "epoch:35 | loss:0.521 | acc:0.782 | tstloss:0.563 | tstacc:0.771\n",
      "epoch:36 | loss:0.520 | acc:0.782 | tstloss:0.563 | tstacc:0.770\n",
      "epoch:37 | loss:0.519 | acc:0.782 | tstloss:0.565 | tstacc:0.770\n",
      "epoch:38 | loss:0.517 | acc:0.784 | tstloss:0.563 | tstacc:0.771\n",
      "epoch:39 | loss:0.517 | acc:0.783 | tstloss:0.561 | tstacc:0.771\n",
      "epoch:40 | loss:0.514 | acc:0.784 | tstloss:0.561 | tstacc:0.771\n",
      "epoch:41 | loss:0.513 | acc:0.784 | tstloss:0.562 | tstacc:0.772\n",
      "epoch:42 | loss:0.513 | acc:0.784 | tstloss:0.561 | tstacc:0.771\n",
      "epoch:43 | loss:0.512 | acc:0.784 | tstloss:0.562 | tstacc:0.771\n",
      "epoch:44 | loss:0.510 | acc:0.785 | tstloss:0.563 | tstacc:0.771\n",
      "epoch:45 | loss:0.509 | acc:0.785 | tstloss:0.564 | tstacc:0.771\n",
      "epoch:46 | loss:0.509 | acc:0.785 | tstloss:0.564 | tstacc:0.771\n",
      "epoch:47 | loss:0.508 | acc:0.785 | tstloss:0.568 | tstacc:0.770\n",
      "epoch:48 | loss:0.507 | acc:0.785 | tstloss:0.565 | tstacc:0.771\n",
      "epoch:49 | loss:0.505 | acc:0.786 | tstloss:0.563 | tstacc:0.771\n"
     ]
    }
   ],
   "source": [
    "model_gpu = Model()\n",
    "optim_gpu = torch.optim.Adam(model_gpu.parameters(),lr=0.0001)\n",
    "loss_fn_gpu = nn.CrossEntropyLoss() \n",
    "# DL_train = DataLoader(DS_train,batch_size=batch,shuffle=True)\n",
    "# DL_test = DataLoader(DS_test,batch_size=batch)  \n",
    "DL_train = DataLoader(DS_Train,batch_size=64,shuffle=True)\n",
    "DL_test = DataLoader(DS_Test,batch_size=256,shuffle=False)\n",
    "\n",
    "epochs = 50 \n",
    "\n",
    "train_loss_gpu=[] \n",
    "train_acc_gpu =[] \n",
    "tst_loss_gpu = [] \n",
    "tst_acc_gpu=[] \n",
    "for epoch in range(epochs): \n",
    "    epoch_loss,epoch_acc,tstepoch_loss,tstepoch_acc = fit_gpu(Train_DL=DL_train,TST_DL=DL_test,Model_m=model_gpu,epoch_=epoch,optim=optim_gpu,loss_fn=loss_fn_gpu)\n",
    "    train_loss_gpu.append(epoch_loss)\n",
    "    train_acc_gpu.append(epoch_acc)\n",
    "    tst_loss_gpu.append(tstepoch_loss)\n",
    "    tst_acc_gpu.append(tstepoch_acc)"
   ]
  },
  {
   "cell_type": "markdown",
   "id": "89991f95-bc93-4e7c-b4d8-5af27675ebe4",
   "metadata": {},
   "source": [
    "#### 最终改进版本 "
   ]
  },
  {
   "cell_type": "code",
   "execution_count": null,
   "id": "05cb8b25-8424-4ae9-8073-75c280dabd56",
   "metadata": {},
   "outputs": [],
   "source": [
    "def fit_gpu(Train_DL, TST_DL, Model_m, epoch_, optim, loss_fn):\n",
    "    device = torch.device(\"cuda\" if torch.cuda.is_available() else \"cpu\")\n",
    "    Model_m.to(device)\n",
    "    Model_m.train()\n",
    "\n",
    "    # 用于缓存训练过程中的预测结果和真实标签\n",
    "    all_train_preds = []\n",
    "    all_train_targets = []\n",
    "    train_running_loss = 0.0\n",
    "\n",
    "    # ---------------------\n",
    "    # 第一阶段：训练 + 缓存预测结果\n",
    "    # ---------------------\n",
    "    for x, y in Train_DL:\n",
    "        x, y = x.to(device), y.to(device)\n",
    "\n",
    "        y_pred_logits = Model_m(x)\n",
    "        loss = loss_fn(y_pred_logits, y)\n",
    "\n",
    "        optim.zero_grad()\n",
    "        loss.backward()\n",
    "        optim.step()\n",
    "\n",
    "        with torch.no_grad():\n",
    "            y_pred = torch.argmax(y_pred_logits, dim=1)\n",
    "            all_train_preds.append(y_pred.cpu())\n",
    "            all_train_targets.append(y.cpu())\n",
    "            train_running_loss += loss.item() * y.size(0)\n",
    "\n",
    "    # 拼接所有缓存的预测结果和标签\n",
    "    all_train_preds = torch.cat(all_train_preds)\n",
    "    all_train_targets = torch.cat(all_train_targets)\n",
    "\n",
    "    train_correct = (all_train_preds == all_train_targets).sum().item()\n",
    "    train_total = len(all_train_targets)\n",
    "    train_epoch_loss = train_running_loss / train_total\n",
    "    train_epoch_acc = train_correct / train_total\n",
    "\n",
    "    # ---------------------\n",
    "    # 测试阶段：同理可缓存测试结果\n",
    "    # ---------------------\n",
    "    Model_m.eval()\n",
    "    test_correct = 0\n",
    "    test_total = 0\n",
    "    test_running_loss = 0.0\n",
    "\n",
    "    with torch.no_grad():\n",
    "        for x, y in TST_DL:\n",
    "            x, y = x.to(device), y.to(device)\n",
    "            y_pred_logits = Model_m(x)\n",
    "            loss = loss_fn(y_pred_logits, y)\n",
    "\n",
    "            y_pred = torch.argmax(y_pred_logits, dim=1)\n",
    "            test_correct += (y_pred == y).sum().item()\n",
    "            test_total += y.size(0)\n",
    "            test_running_loss += loss.item() * y.size(0)\n",
    "\n",
    "    test_epoch_loss = test_running_loss / test_total\n",
    "    test_epoch_acc = test_correct / test_total\n",
    "\n",
    "    print(\n",
    "        f'epoch:{epoch_} | loss:{train_epoch_loss:.3f} | acc:{train_epoch_acc:.3f} | '\n",
    "        f'tstloss:{test_epoch_loss:.3f} | tstacc:{test_epoch_acc:.3f}'\n",
    "    )\n",
    "\n",
    "    return train_epoch_loss, train_epoch_acc, test_epoch_loss, test_epoch_acc"
   ]
  },
  {
   "cell_type": "code",
   "execution_count": 34,
   "id": "fd1bb1d3-e1e1-46f8-82ed-f5aeefe8b4dc",
   "metadata": {},
   "outputs": [],
   "source": [
    "import pickle as pkl \n",
    "with open('./mymodel/forminist.pkl','wb') as f : \n",
    "    pkl.dump(model_gpu,f)"
   ]
  },
  {
   "cell_type": "markdown",
   "id": "f8d9512e-63d9-48ba-b8e1-a94a604169d0",
   "metadata": {},
   "source": [
    "你这段代码是一个 **用于训练 PyTorch 模型的完整训练 + 验证函数 `fit_gpu()`**。它负责在 GPU（或 CPU）上进行一个 epoch 的模型训练和验证，并返回该 epoch 的训练损失、训练准确率、测试损失和测试准确率。\n",
    "\n",
    "---\n",
    "\n",
    "## 📌 函数定义\n",
    "\n",
    "```python\n",
    "def fit_gpu(Train_DL, TST_DL, Model_m, epoch_, optim, loss_fn):\n",
    "```\n",
    "\n",
    "| 参数 | 类型 | 含义 |\n",
    "|------|------|------|\n",
    "| `Train_DL` | DataLoader | 训练数据集，每次迭代输出一个 batch 的 `(x, y)` |\n",
    "| `TST_DL` | DataLoader | 测试/验证数据集 |\n",
    "| `Model_m` | nn.Module | 要训练的神经网络模型 |\n",
    "| `epoch_` | int | 当前是第几个 epoch |\n",
    "| `optim` | Optimizer | 优化器（如 Adam）|\n",
    "| `loss_fn` | Loss Function | 损失函数（如 CrossEntropyLoss）|\n",
    "\n",
    "---\n",
    "\n",
    "## 🧠 第一部分：初始化变量和设备设置\n",
    "\n",
    "```python\n",
    "correct = 0\n",
    "total = 0\n",
    "running_loss = 0\n",
    "tstcorrect = 0\n",
    "tsttotal = 0\n",
    "tstrunning_loss = 0\n",
    "\n",
    "device = torch.device(\"cuda\" if torch.cuda.is_available() else \"cpu\")\n",
    "Model_m.to(device)\n",
    "```\n",
    "\n",
    "- 定义了一些变量来统计：\n",
    "  - 正确预测的数量 (`correct`)\n",
    "  - 总样本数 (`total`)\n",
    "  - 损失值 (`running_loss`)\n",
    "- 将模型移动到 GPU 或 CPU 上运行\n",
    "\n",
    "---\n",
    "\n",
    "## 📊 创建列表记录指标（这部分其实没用）\n",
    "\n",
    "```python\n",
    "train_loss_lst = []\n",
    "train_acc_lst = []\n",
    "tst_loss_lst=[]\n",
    "tst_acc_lst=[]\n",
    "```\n",
    "\n",
    "这些列表在函数中被创建了，但没有被使用，也没有返回。可以删掉，或者留着以后扩展用途。\n",
    "\n",
    "---\n",
    "\n",
    "## 🔁 第二部分：训练阶段（Training Loop）\n",
    "\n",
    "```python\n",
    "Model_m.train()  # 设置为训练模式\n",
    "for x, y in Train_DL:\n",
    "    x = x.to(device)\n",
    "    y = y.to(device)\n",
    "\n",
    "    y_pred = Model_m(x)\n",
    "    loss = loss_fn(y_pred, y)\n",
    "\n",
    "    optim.zero_grad()\n",
    "    loss.backward()\n",
    "    optim.step()\n",
    "\n",
    "    with torch.no_grad():\n",
    "        y_pred = torch.argmax(y_pred,dim=1)\n",
    "        correct += (y_pred == y).sum().item()\n",
    "        total += y.size(0)\n",
    "        running_loss += loss.item()\n",
    "```\n",
    "\n",
    "### ✅ 这段代码做了什么？\n",
    "\n",
    "- **将每个 batch 的输入数据放到 GPU 上**\n",
    "- **前向传播（forward pass）**\n",
    "- **计算损失（loss）**\n",
    "- **清空梯度、反向传播（backward）、更新参数（step）**\n",
    "\n",
    "⚠️ **重点问题在这里！**\n",
    "\n",
    "你在每个 batch 中都进行了以下操作：\n",
    "\n",
    "```python\n",
    "with torch.no_grad():\n",
    "    y_pred = torch.argmax(...)  # 获取预测类别\n",
    "    correct += ...             # 累加正确数量\n",
    "    total += ...               # 累加总样本数\n",
    "    running_loss += ...        # 累加损失\n",
    "```\n",
    "\n",
    "这会导致你在 **同一个 batch 上重复评估**，并导致每个 batch 都统计一次 accuracy 和 loss，最后又除以整个 dataset 的长度，逻辑混乱。\n",
    "\n",
    "> ❗这是不推荐的做法。正确的做法是在所有 batch 都训练完后，再统一做一次评估。\n",
    "\n",
    "---\n",
    "\n",
    "## 📉 第三部分：计算整个 epoch 的训练损失和准确率\n",
    "\n",
    "```python\n",
    "epoch_acc = correct / total\n",
    "epoch_loss = running_loss / len(Train_DL.dataset)\n",
    "```\n",
    "\n",
    "- `correct / total`: 计算整个训练集上的准确率\n",
    "- `running_loss / len(Train_DL.dataset)`: 计算平均损失\n",
    "\n",
    "⚠️ 但上面我们已经说过，这个 `correct` 和 `running_loss` 是在每个 batch 上累加的，这样会引入误差。\n",
    "\n",
    "---\n",
    "\n",
    "## 🧪 第四部分：测试阶段（Validation Loop）\n",
    "\n",
    "```python\n",
    "Model_m.eval()\n",
    "with torch.no_grad(): \n",
    "    for x, y in TST_DL:\n",
    "        x, y = x.to(device), y.to(device)\n",
    "        y_pred = Model_m(x)\n",
    "        loss = loss_fn(y_pred, y)\n",
    "\n",
    "        y_pred = torch.argmax(y_pred, dim=1)\n",
    "        tstcorrect += (y_pred == y).sum().item()\n",
    "        tsttotal += y.size(0)\n",
    "        tstrunning_loss += loss.item()\n",
    "```\n",
    "\n",
    "- 使用 `Model_m.eval()` 关闭 dropout/batchnorm 的训练行为\n",
    "- 对测试集逐个 batch 进行推理\n",
    "- 统计预测正确的数量和损失\n",
    "\n",
    "---\n",
    "\n",
    "## 📈 最后：计算测试集的准确率和损失\n",
    "\n",
    "```python\n",
    "tstepoch_acc = tstcorrect / tsttotal\n",
    "tstepoch_loss = tstrunning_loss / len(TST_DL.dataset)\n",
    "```\n",
    "\n",
    "- `tstcorrect / tsttotal`: 测试集准确率\n",
    "- `tstrunning_loss / len(TST_DL.dataset)`: 测试集平均损失\n",
    "\n",
    "---\n",
    "\n",
    "## 🖨️ 打印日志信息\n",
    "\n",
    "```python\n",
    "print(\n",
    "    f'epoch:{epoch} | loss:{epoch_loss:.3f} | acc:{epoch_acc:.3f} | '\n",
    "    f'tstloss:{tstepoch_loss:.3f} | tstacc:{tstepoch_acc:.3f}'\n",
    ")\n",
    "```\n",
    "\n",
    "输出类似：\n",
    "\n",
    "```\n",
    "epoch:0 | loss:0.000 | acc:0.531 | tstloss:0.006 | tstacc:0.385\n",
    "```\n",
    "\n",
    "---\n",
    "\n",
    "## 📤 返回值\n",
    "\n",
    "```python\n",
    "return epoch_loss, epoch_acc, tstepoch_loss, tstepoch_acc\n",
    "```\n",
    "\n",
    "返回当前 epoch 的训练和测试损失与准确率，供外部记录使用。\n",
    "\n",
    "---\n",
    "\n",
    "## ⚠️ 存在的问题总结\n",
    "\n",
    "| 问题 | 描述 | 建议解决方式 |\n",
    "|------|------|--------------|\n",
    "| ❌ 在每个 batch 中都统计 accuracy 和 loss | 导致统计混乱、结果不可靠 | 改为在整个 epoch 结束后统一统计 |\n",
    "| ❌ 变量名重复使用 | `y_pred` 被复用，容易出错 | 使用不同变量名区分原始输出和预测类别 |\n",
    "| ❌ 列表未使用 | `train_loss_lst`, `train_acc_lst` 等未被使用 | 删除或保留作为后续可视化用 |\n",
    "| ❌ `epoch` 未定义 | 你的 print 中用了 `epoch`，但函数参数是 `epoch_` | 改成 `epoch_` |\n",
    "\n",
    "---\n",
    "\n",
    "## ✅ 推荐修复后的版本（简化版）\n",
    "\n",
    "```python\n",
    "def fit_gpu(Train_DL, TST_DL, Model_m, epoch_, optim, loss_fn):\n",
    "    device = torch.device(\"cuda\" if torch.cuda.is_available() else \"cpu\")\n",
    "    Model_m.to(device)\n",
    "\n",
    "    Model_m.train()\n",
    "    train_correct = 0\n",
    "    train_total = 0\n",
    "    train_running_loss = 0.0\n",
    "\n",
    "    for x, y in Train_DL:\n",
    "        x = x.to(device)\n",
    "        y = y.to(device)\n",
    "\n",
    "        y_pred = Model_m(x)\n",
    "        loss = loss_fn(y_pred, y)\n",
    "\n",
    "        optim.zero_grad()\n",
    "        loss.backward()\n",
    "        optim.step()\n",
    "\n",
    "        with torch.no_grad():\n",
    "            predicted = torch.argmax(y_pred, dim=1)\n",
    "            train_correct += (predicted == y).sum().item()\n",
    "            train_total += y.size(0)\n",
    "            train_running_loss += loss.item() * y.size(0)\n",
    "\n",
    "    train_epoch_loss = train_running_loss / train_total\n",
    "    train_epoch_acc = train_correct / train_total\n",
    "\n",
    "    # 测试阶段\n",
    "    Model_m.eval()\n",
    "    test_correct = 0\n",
    "    test_total = 0\n",
    "    test_running_loss = 0.0\n",
    "\n",
    "    with torch.no_grad():\n",
    "        for x, y in TST_DL:\n",
    "            x = x.to(device)\n",
    "            y = y.to(device)\n",
    "\n",
    "            y_pred = Model_m(x)\n",
    "            loss = loss_fn(y_pred, y)\n",
    "\n",
    "            predicted = torch.argmax(y_pred, dim=1)\n",
    "            test_correct += (predicted == y).sum().item()\n",
    "            test_total += y.size(0)\n",
    "            test_running_loss += loss.item() * y.size(0)\n",
    "\n",
    "    test_epoch_loss = test_running_loss / test_total\n",
    "    test_epoch_acc = test_correct / test_total\n",
    "\n",
    "    print(\n",
    "        f'epoch:{epoch_} | loss:{train_epoch_loss:.3f} | acc:{train_epoch_acc:.3f} | '\n",
    "        f'tstloss:{test_epoch_loss:.3f} | tstacc:{test_epoch_acc:.3f}'\n",
    "    )\n",
    "\n",
    "    return train_epoch_loss, train_epoch_acc, test_epoch_loss, test_epoch_acc\n",
    "```\n",
    "\n",
    "---\n",
    "\n",
    "## ✅ 总结一句话：\n",
    "\n",
    "> 你的 `fit_gpu` 函数实现了完整的训练和测试流程，但在统计指标时存在逻辑错误。建议将训练和测试的指标统计放在各自的循环外，确保每个 epoch 的准确率和损失是基于全部 batch 的结果。\n",
    "\n",
    "如果你还想了解如何：\n",
    "- 可视化训练曲线（loss/acc）\n",
    "- 使用 TensorBoard 监控训练过程\n",
    "- 添加早停机制（Early Stopping）\n",
    "- 保存最佳模型\n",
    "\n",
    "我也可以继续帮你写代码 😊"
   ]
  }
 ],
 "metadata": {
  "kernelspec": {
   "display_name": "Python 3 (ipykernel)",
   "language": "python",
   "name": "python3"
  },
  "language_info": {
   "codemirror_mode": {
    "name": "ipython",
    "version": 3
   },
   "file_extension": ".py",
   "mimetype": "text/x-python",
   "name": "python",
   "nbconvert_exporter": "python",
   "pygments_lexer": "ipython3",
   "version": "3.11.9"
  }
 },
 "nbformat": 4,
 "nbformat_minor": 5
}
