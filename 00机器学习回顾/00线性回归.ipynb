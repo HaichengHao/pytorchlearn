{
 "cells": [
  {
   "cell_type": "code",
   "execution_count": 129,
   "id": "837d170b-7581-44f0-8c0f-faa201364ff8",
   "metadata": {},
   "outputs": [
    {
     "data": {
      "text/html": [
       "<style type=\"text/css\">\n",
       "    h1{\n",
       "        color:red;\n",
       "    } \n",
       "    h2{\n",
       "        color:orange;\n",
       "    }\n",
       "    h3{\n",
       "        color:tomato;\n",
       "    } \n",
       "    h4{\n",
       "        color:purple;\n",
       "    }\n",
       "    h5{\n",
       "        color:green;\n",
       "    }\n",
       "    table{\n",
       "        border-collapse:collapse; \n",
       "    }\n",
       "    th{\n",
       "        color:blueviolet;\n",
       "        background-color:orange;\n",
       "    }\n",
       "    td:hover{\n",
       "        background-color:blueviolet;\n",
       "        scale:1.2;\n",
       "        transiction:1s all liner;\n",
       "        \n",
       "    }\n",
       "</style>\n"
      ],
      "text/plain": [
       "<IPython.core.display.HTML object>"
      ]
     },
     "metadata": {},
     "output_type": "display_data"
    }
   ],
   "source": [
    "%%HTML\n",
    "<style type=\"text/css\">\n",
    "    h1{\n",
    "        color:red;\n",
    "    } \n",
    "    h2{\n",
    "        color:orange;\n",
    "    }\n",
    "    h3{\n",
    "        color:tomato;\n",
    "    } \n",
    "    h4{\n",
    "        color:purple;\n",
    "    }\n",
    "    h5{\n",
    "        color:green;\n",
    "    }\n",
    "    table{\n",
    "        border-collapse:collapse; \n",
    "    }\n",
    "    th{\n",
    "        color:blueviolet;\n",
    "        background-color:orange;\n",
    "    }\n",
    "    td:hover{\n",
    "        background-color:blueviolet;\n",
    "        scale:1.2;\n",
    "        transiction:1s all liner;\n",
    "        \n",
    "    }\n",
    "</style>"
   ]
  },
  {
   "cell_type": "code",
   "execution_count": 56,
   "id": "dfcb965b-e516-4112-b64f-7195904bb090",
   "metadata": {},
   "outputs": [],
   "source": [
    "import pyecharts.options as opts\n",
    "from pyecharts.globals import CurrentConfig,NotebookType,ThemeType\n",
    "CurrentConfig.NOTEBOOK_TYPE = NotebookType.JUPYTER_LAB\n",
    "from pyecharts.faker import Faker\n",
    "from pyecharts.charts import Bar,Scatter"
   ]
  },
  {
   "cell_type": "code",
   "execution_count": 2,
   "id": "ef9b3cb9-4178-473d-9757-830bc71904e5",
   "metadata": {},
   "outputs": [],
   "source": [
    "phones = Faker.phones\n",
    "v = Faker.values"
   ]
  },
  {
   "cell_type": "code",
   "execution_count": 3,
   "id": "e5924599-dba7-426d-8524-9155210c7d95",
   "metadata": {},
   "outputs": [
    {
     "data": {
      "text/plain": [
       "['小米', '三星', '华为', '苹果', '魅族', 'VIVO', 'OPPO']"
      ]
     },
     "execution_count": 3,
     "metadata": {},
     "output_type": "execute_result"
    }
   ],
   "source": [
    "phones"
   ]
  },
  {
   "cell_type": "code",
   "execution_count": 4,
   "id": "df5fb181-f6c3-4e3f-8ee2-23163643ea0b",
   "metadata": {},
   "outputs": [
    {
     "data": {
      "text/plain": [
       "<function pyecharts.faker._Faker.values(start: int = 20, end: int = 150) -> list>"
      ]
     },
     "execution_count": 4,
     "metadata": {},
     "output_type": "execute_result"
    }
   ],
   "source": [
    "v"
   ]
  },
  {
   "cell_type": "code",
   "execution_count": 5,
   "id": "d3e504ca-1458-4d9c-bac1-32146d4dcfe4",
   "metadata": {},
   "outputs": [],
   "source": [
    "c1 = (\n",
    "    Bar()\n",
    "    .add_xaxis(\n",
    "        phones\n",
    "    )\n",
    "    .add_yaxis(\n",
    "        \"\",Faker.values()\n",
    "    )\n",
    "    .set_global_opts(\n",
    "        title_opts=opts.TitleOpts(\n",
    "            title=\"手机销量柱状图\"\n",
    "        ), \n",
    "        legend_opts=opts.LegendOpts(\n",
    "            inactive_color=\"gray\", \n",
    "        ), \n",
    "        toolbox_opts=opts.ToolboxOpts(), \n",
    "        visualmap_opts=opts.VisualMapOpts(),\n",
    "        datazoom_opts=opts.DataZoomOpts()\n",
    "        \n",
    "    )\n",
    "    .set_series_opts(\n",
    "        \n",
    "        markline_opts=opts.MarkLineOpts(\n",
    "            data=[\n",
    "                opts.MarkLineItem(type_='max'), \n",
    "                opts.MarkLineItem(type_='min')\n",
    "            ]\n",
    "        ),\n",
    "        markpoint_opts = opts.MarkPointOpts(\n",
    "            data=[\n",
    "                opts.MarkPointItem(type_='min')\n",
    "            ]\n",
    "        )\n",
    "        \n",
    "    \n",
    "    )\n",
    ")"
   ]
  },
  {
   "cell_type": "code",
   "execution_count": 20,
   "id": "2744ad91-b836-4857-90d8-0a0ff0fd63ec",
   "metadata": {},
   "outputs": [
    {
     "data": {
      "application/javascript": [
       "new Promise(function(resolve, reject) {\n",
       "    var script = document.createElement(\"script\");\n",
       "    script.onload = resolve;\n",
       "    script.onerror = reject;\n",
       "    script.src = \"https://assets.pyecharts.org/assets/v5/echarts.min.js\";\n",
       "    document.head.appendChild(script);\n",
       "}).then(() => {\n",
       "\n",
       "});"
      ],
      "text/plain": [
       "<pyecharts.render.display.Javascript at 0x22841b94c90>"
      ]
     },
     "execution_count": 20,
     "metadata": {},
     "output_type": "execute_result"
    }
   ],
   "source": [
    "c1.load_javascript() "
   ]
  },
  {
   "cell_type": "code",
   "execution_count": 6,
   "id": "a4f3631b-23bf-4835-8d59-f4e61a35b7bf",
   "metadata": {},
   "outputs": [
    {
     "data": {
      "text/html": [
       "<!DOCTYPE html>\n",
       "<html>\n",
       "<head>\n",
       "    <meta charset=\"UTF-8\">\n",
       "</head>\n",
       "<body>\n",
       "        <div id=\"36329eac445a4a94878976ab86616f2d\" class=\"chart-container\" style=\"width:900px; height:500px; \"></div>\n",
       "    <script>\n",
       "        var chart_36329eac445a4a94878976ab86616f2d = echarts.init(\n",
       "            document.getElementById('36329eac445a4a94878976ab86616f2d'), 'white', {renderer: 'canvas'});\n",
       "        var option_36329eac445a4a94878976ab86616f2d = {\n",
       "    \"animation\": true,\n",
       "    \"animationThreshold\": 2000,\n",
       "    \"animationDuration\": 1000,\n",
       "    \"animationEasing\": \"cubicOut\",\n",
       "    \"animationDelay\": 0,\n",
       "    \"animationDurationUpdate\": 300,\n",
       "    \"animationEasingUpdate\": \"cubicOut\",\n",
       "    \"animationDelayUpdate\": 0,\n",
       "    \"aria\": {\n",
       "        \"enabled\": false\n",
       "    },\n",
       "    \"color\": [\n",
       "        \"#5470c6\",\n",
       "        \"#91cc75\",\n",
       "        \"#fac858\",\n",
       "        \"#ee6666\",\n",
       "        \"#73c0de\",\n",
       "        \"#3ba272\",\n",
       "        \"#fc8452\",\n",
       "        \"#9a60b4\",\n",
       "        \"#ea7ccc\"\n",
       "    ],\n",
       "    \"series\": [\n",
       "        {\n",
       "            \"type\": \"bar\",\n",
       "            \"legendHoverLink\": true,\n",
       "            \"data\": [\n",
       "                87,\n",
       "                59,\n",
       "                123,\n",
       "                118,\n",
       "                30,\n",
       "                49,\n",
       "                59\n",
       "            ],\n",
       "            \"realtimeSort\": false,\n",
       "            \"showBackground\": false,\n",
       "            \"stackStrategy\": \"samesign\",\n",
       "            \"cursor\": \"pointer\",\n",
       "            \"barMinHeight\": 0,\n",
       "            \"barCategoryGap\": \"20%\",\n",
       "            \"barGap\": \"30%\",\n",
       "            \"large\": false,\n",
       "            \"largeThreshold\": 400,\n",
       "            \"seriesLayoutBy\": \"column\",\n",
       "            \"datasetIndex\": 0,\n",
       "            \"clip\": true,\n",
       "            \"zlevel\": 0,\n",
       "            \"z\": 2,\n",
       "            \"label\": {\n",
       "                \"show\": true,\n",
       "                \"margin\": 8,\n",
       "                \"valueAnimation\": false\n",
       "            },\n",
       "            \"markPoint\": {\n",
       "                \"label\": {\n",
       "                    \"show\": true,\n",
       "                    \"position\": \"inside\",\n",
       "                    \"color\": \"#fff\",\n",
       "                    \"margin\": 8,\n",
       "                    \"valueAnimation\": false\n",
       "                },\n",
       "                \"data\": [\n",
       "                    {\n",
       "                        \"type\": \"min\"\n",
       "                    }\n",
       "                ]\n",
       "            },\n",
       "            \"markLine\": {\n",
       "                \"silent\": false,\n",
       "                \"precision\": 2,\n",
       "                \"label\": {\n",
       "                    \"show\": true,\n",
       "                    \"margin\": 8,\n",
       "                    \"valueAnimation\": false\n",
       "                },\n",
       "                \"data\": [\n",
       "                    {\n",
       "                        \"type\": \"max\"\n",
       "                    },\n",
       "                    {\n",
       "                        \"type\": \"min\"\n",
       "                    }\n",
       "                ]\n",
       "            },\n",
       "            \"rippleEffect\": {\n",
       "                \"show\": true,\n",
       "                \"brushType\": \"stroke\",\n",
       "                \"scale\": 2.5,\n",
       "                \"period\": 4\n",
       "            }\n",
       "        }\n",
       "    ],\n",
       "    \"legend\": [\n",
       "        {\n",
       "            \"data\": [\n",
       "                \"\"\n",
       "            ],\n",
       "            \"selected\": {},\n",
       "            \"show\": true,\n",
       "            \"padding\": 5,\n",
       "            \"itemGap\": 10,\n",
       "            \"itemWidth\": 25,\n",
       "            \"itemHeight\": 14,\n",
       "            \"inactiveColor\": \"gray\",\n",
       "            \"backgroundColor\": \"transparent\",\n",
       "            \"borderColor\": \"#ccc\",\n",
       "            \"borderRadius\": 0,\n",
       "            \"pageButtonItemGap\": 5,\n",
       "            \"pageButtonPosition\": \"end\",\n",
       "            \"pageFormatter\": \"{current}/{total}\",\n",
       "            \"pageIconColor\": \"#2f4554\",\n",
       "            \"pageIconInactiveColor\": \"#aaa\",\n",
       "            \"pageIconSize\": 15,\n",
       "            \"animationDurationUpdate\": 800,\n",
       "            \"selector\": false,\n",
       "            \"selectorPosition\": \"auto\",\n",
       "            \"selectorItemGap\": 7,\n",
       "            \"selectorButtonGap\": 10\n",
       "        }\n",
       "    ],\n",
       "    \"tooltip\": {\n",
       "        \"show\": true,\n",
       "        \"trigger\": \"item\",\n",
       "        \"triggerOn\": \"mousemove|click\",\n",
       "        \"axisPointer\": {\n",
       "            \"type\": \"line\"\n",
       "        },\n",
       "        \"showContent\": true,\n",
       "        \"alwaysShowContent\": false,\n",
       "        \"showDelay\": 0,\n",
       "        \"hideDelay\": 100,\n",
       "        \"enterable\": false,\n",
       "        \"confine\": false,\n",
       "        \"appendToBody\": false,\n",
       "        \"transitionDuration\": 0.4,\n",
       "        \"textStyle\": {\n",
       "            \"fontSize\": 14\n",
       "        },\n",
       "        \"borderWidth\": 0,\n",
       "        \"padding\": 5,\n",
       "        \"order\": \"seriesAsc\"\n",
       "    },\n",
       "    \"xAxis\": [\n",
       "        {\n",
       "            \"show\": true,\n",
       "            \"scale\": false,\n",
       "            \"nameLocation\": \"end\",\n",
       "            \"nameGap\": 15,\n",
       "            \"gridIndex\": 0,\n",
       "            \"inverse\": false,\n",
       "            \"offset\": 0,\n",
       "            \"splitNumber\": 5,\n",
       "            \"minInterval\": 0,\n",
       "            \"splitLine\": {\n",
       "                \"show\": true,\n",
       "                \"lineStyle\": {\n",
       "                    \"show\": true,\n",
       "                    \"width\": 1,\n",
       "                    \"opacity\": 1,\n",
       "                    \"curveness\": 0,\n",
       "                    \"type\": \"solid\"\n",
       "                }\n",
       "            },\n",
       "            \"animation\": true,\n",
       "            \"animationThreshold\": 2000,\n",
       "            \"animationDuration\": 1000,\n",
       "            \"animationEasing\": \"cubicOut\",\n",
       "            \"animationDelay\": 0,\n",
       "            \"animationDurationUpdate\": 300,\n",
       "            \"animationEasingUpdate\": \"cubicOut\",\n",
       "            \"animationDelayUpdate\": 0,\n",
       "            \"data\": [\n",
       "                \"\\u5c0f\\u7c73\",\n",
       "                \"\\u4e09\\u661f\",\n",
       "                \"\\u534e\\u4e3a\",\n",
       "                \"\\u82f9\\u679c\",\n",
       "                \"\\u9b45\\u65cf\",\n",
       "                \"VIVO\",\n",
       "                \"OPPO\"\n",
       "            ]\n",
       "        }\n",
       "    ],\n",
       "    \"yAxis\": [\n",
       "        {\n",
       "            \"show\": true,\n",
       "            \"scale\": false,\n",
       "            \"nameLocation\": \"end\",\n",
       "            \"nameGap\": 15,\n",
       "            \"gridIndex\": 0,\n",
       "            \"inverse\": false,\n",
       "            \"offset\": 0,\n",
       "            \"splitNumber\": 5,\n",
       "            \"minInterval\": 0,\n",
       "            \"splitLine\": {\n",
       "                \"show\": true,\n",
       "                \"lineStyle\": {\n",
       "                    \"show\": true,\n",
       "                    \"width\": 1,\n",
       "                    \"opacity\": 1,\n",
       "                    \"curveness\": 0,\n",
       "                    \"type\": \"solid\"\n",
       "                }\n",
       "            },\n",
       "            \"animation\": true,\n",
       "            \"animationThreshold\": 2000,\n",
       "            \"animationDuration\": 1000,\n",
       "            \"animationEasing\": \"cubicOut\",\n",
       "            \"animationDelay\": 0,\n",
       "            \"animationDurationUpdate\": 300,\n",
       "            \"animationEasingUpdate\": \"cubicOut\",\n",
       "            \"animationDelayUpdate\": 0\n",
       "        }\n",
       "    ],\n",
       "    \"title\": [\n",
       "        {\n",
       "            \"show\": true,\n",
       "            \"text\": \"\\u624b\\u673a\\u9500\\u91cf\\u67f1\\u72b6\\u56fe\",\n",
       "            \"target\": \"blank\",\n",
       "            \"subtarget\": \"blank\",\n",
       "            \"padding\": 5,\n",
       "            \"itemGap\": 10,\n",
       "            \"textAlign\": \"auto\",\n",
       "            \"textVerticalAlign\": \"auto\",\n",
       "            \"triggerEvent\": false\n",
       "        }\n",
       "    ],\n",
       "    \"toolbox\": {\n",
       "        \"show\": true,\n",
       "        \"orient\": \"horizontal\",\n",
       "        \"itemSize\": 15,\n",
       "        \"itemGap\": 10,\n",
       "        \"left\": \"80%\",\n",
       "        \"feature\": {\n",
       "            \"saveAsImage\": {\n",
       "                \"type\": \"png\",\n",
       "                \"backgroundColor\": \"auto\",\n",
       "                \"connectedBackgroundColor\": \"#fff\",\n",
       "                \"show\": true,\n",
       "                \"title\": \"\\u4fdd\\u5b58\\u4e3a\\u56fe\\u7247\",\n",
       "                \"pixelRatio\": 1\n",
       "            },\n",
       "            \"restore\": {\n",
       "                \"show\": true,\n",
       "                \"title\": \"\\u8fd8\\u539f\"\n",
       "            },\n",
       "            \"dataView\": {\n",
       "                \"show\": true,\n",
       "                \"title\": \"\\u6570\\u636e\\u89c6\\u56fe\",\n",
       "                \"readOnly\": false,\n",
       "                \"lang\": [\n",
       "                    \"\\u6570\\u636e\\u89c6\\u56fe\",\n",
       "                    \"\\u5173\\u95ed\",\n",
       "                    \"\\u5237\\u65b0\"\n",
       "                ],\n",
       "                \"backgroundColor\": \"#fff\",\n",
       "                \"textareaColor\": \"#fff\",\n",
       "                \"textareaBorderColor\": \"#333\",\n",
       "                \"textColor\": \"#000\",\n",
       "                \"buttonColor\": \"#c23531\",\n",
       "                \"buttonTextColor\": \"#fff\"\n",
       "            },\n",
       "            \"dataZoom\": {\n",
       "                \"show\": true,\n",
       "                \"title\": {\n",
       "                    \"zoom\": \"\\u533a\\u57df\\u7f29\\u653e\",\n",
       "                    \"back\": \"\\u533a\\u57df\\u7f29\\u653e\\u8fd8\\u539f\"\n",
       "                },\n",
       "                \"icon\": {},\n",
       "                \"filterMode\": \"filter\"\n",
       "            },\n",
       "            \"magicType\": {\n",
       "                \"show\": true,\n",
       "                \"type\": [\n",
       "                    \"line\",\n",
       "                    \"bar\",\n",
       "                    \"stack\",\n",
       "                    \"tiled\"\n",
       "                ],\n",
       "                \"title\": {\n",
       "                    \"line\": \"\\u5207\\u6362\\u4e3a\\u6298\\u7ebf\\u56fe\",\n",
       "                    \"bar\": \"\\u5207\\u6362\\u4e3a\\u67f1\\u72b6\\u56fe\",\n",
       "                    \"stack\": \"\\u5207\\u6362\\u4e3a\\u5806\\u53e0\",\n",
       "                    \"tiled\": \"\\u5207\\u6362\\u4e3a\\u5e73\\u94fa\"\n",
       "                },\n",
       "                \"icon\": {}\n",
       "            }\n",
       "        }\n",
       "    },\n",
       "    \"visualMap\": {\n",
       "        \"show\": true,\n",
       "        \"type\": \"continuous\",\n",
       "        \"min\": 0,\n",
       "        \"max\": 100,\n",
       "        \"inRange\": {\n",
       "            \"color\": [\n",
       "                \"#50a3ba\",\n",
       "                \"#eac763\",\n",
       "                \"#d94e5d\"\n",
       "            ]\n",
       "        },\n",
       "        \"calculable\": true,\n",
       "        \"inverse\": false,\n",
       "        \"splitNumber\": 5,\n",
       "        \"hoverLink\": true,\n",
       "        \"orient\": \"vertical\",\n",
       "        \"padding\": 5,\n",
       "        \"showLabel\": true,\n",
       "        \"itemWidth\": 20,\n",
       "        \"itemHeight\": 140,\n",
       "        \"borderWidth\": 0\n",
       "    },\n",
       "    \"dataZoom\": {\n",
       "        \"show\": true,\n",
       "        \"type\": \"slider\",\n",
       "        \"showDetail\": true,\n",
       "        \"showDataShadow\": true,\n",
       "        \"realtime\": true,\n",
       "        \"start\": 20,\n",
       "        \"end\": 80,\n",
       "        \"orient\": \"horizontal\",\n",
       "        \"zoomLock\": false,\n",
       "        \"filterMode\": \"filter\"\n",
       "    }\n",
       "};\n",
       "        chart_36329eac445a4a94878976ab86616f2d.setOption(option_36329eac445a4a94878976ab86616f2d);\n",
       "    </script>\n",
       "</body>\n",
       "</html>\n"
      ],
      "text/plain": [
       "<pyecharts.render.display.HTML at 0x238dca567d0>"
      ]
     },
     "execution_count": 6,
     "metadata": {},
     "output_type": "execute_result"
    }
   ],
   "source": [
    "c1.render_notebook() "
   ]
  },
  {
   "cell_type": "markdown",
   "id": "85995a82-cb71-43f5-93f4-ea0aa5e49170",
   "metadata": {},
   "source": [
    "# 利用pytorch实现线性回归"
   ]
  },
  {
   "cell_type": "code",
   "execution_count": 8,
   "id": "2a7928ba-e184-4806-bb80-c31aa47c0a40",
   "metadata": {
    "editable": true,
    "slideshow": {
     "slide_type": ""
    },
    "tags": []
   },
   "outputs": [],
   "source": [
    "import torch\n",
    "import numpy as np \n",
    "import pandas as pd "
   ]
  },
  {
   "cell_type": "code",
   "execution_count": 9,
   "id": "84b35482-3e58-41b5-8a96-0d277dbf60a3",
   "metadata": {},
   "outputs": [],
   "source": [
    "data = pd.read_csv(\"./00机器学习回顾/dataset/Income1.csv\")"
   ]
  },
  {
   "cell_type": "code",
   "execution_count": 10,
   "id": "277e643a-82fc-473e-8fd7-532280f25263",
   "metadata": {},
   "outputs": [
    {
     "name": "stdout",
     "output_type": "stream",
     "text": [
      "<class 'pandas.core.frame.DataFrame'>\n",
      "RangeIndex: 30 entries, 0 to 29\n",
      "Data columns (total 3 columns):\n",
      " #   Column      Non-Null Count  Dtype  \n",
      "---  ------      --------------  -----  \n",
      " 0   Unnamed: 0  30 non-null     int64  \n",
      " 1   Education   30 non-null     float64\n",
      " 2   Income      30 non-null     float64\n",
      "dtypes: float64(2), int64(1)\n",
      "memory usage: 852.0 bytes\n"
     ]
    }
   ],
   "source": [
    "data.info() "
   ]
  },
  {
   "cell_type": "code",
   "execution_count": 11,
   "id": "79707cce-187e-4999-b28b-32b2b924ee14",
   "metadata": {},
   "outputs": [
    {
     "data": {
      "text/html": [
       "<div>\n",
       "<style scoped>\n",
       "    .dataframe tbody tr th:only-of-type {\n",
       "        vertical-align: middle;\n",
       "    }\n",
       "\n",
       "    .dataframe tbody tr th {\n",
       "        vertical-align: top;\n",
       "    }\n",
       "\n",
       "    .dataframe thead th {\n",
       "        text-align: right;\n",
       "    }\n",
       "</style>\n",
       "<table border=\"1\" class=\"dataframe\">\n",
       "  <thead>\n",
       "    <tr style=\"text-align: right;\">\n",
       "      <th></th>\n",
       "      <th>Unnamed: 0</th>\n",
       "      <th>Education</th>\n",
       "      <th>Income</th>\n",
       "    </tr>\n",
       "  </thead>\n",
       "  <tbody>\n",
       "    <tr>\n",
       "      <th>0</th>\n",
       "      <td>1</td>\n",
       "      <td>10.000000</td>\n",
       "      <td>26.658839</td>\n",
       "    </tr>\n",
       "    <tr>\n",
       "      <th>1</th>\n",
       "      <td>2</td>\n",
       "      <td>10.401338</td>\n",
       "      <td>27.306435</td>\n",
       "    </tr>\n",
       "    <tr>\n",
       "      <th>2</th>\n",
       "      <td>3</td>\n",
       "      <td>10.842809</td>\n",
       "      <td>22.132410</td>\n",
       "    </tr>\n",
       "    <tr>\n",
       "      <th>3</th>\n",
       "      <td>4</td>\n",
       "      <td>11.244147</td>\n",
       "      <td>21.169841</td>\n",
       "    </tr>\n",
       "    <tr>\n",
       "      <th>4</th>\n",
       "      <td>5</td>\n",
       "      <td>11.645485</td>\n",
       "      <td>15.192634</td>\n",
       "    </tr>\n",
       "  </tbody>\n",
       "</table>\n",
       "</div>"
      ],
      "text/plain": [
       "   Unnamed: 0  Education     Income\n",
       "0           1  10.000000  26.658839\n",
       "1           2  10.401338  27.306435\n",
       "2           3  10.842809  22.132410\n",
       "3           4  11.244147  21.169841\n",
       "4           5  11.645485  15.192634"
      ]
     },
     "execution_count": 11,
     "metadata": {},
     "output_type": "execute_result"
    }
   ],
   "source": [
    "data.head() "
   ]
  },
  {
   "cell_type": "code",
   "execution_count": 17,
   "id": "cc33101c-c6ef-4a0c-ae21-a92f87767fd4",
   "metadata": {},
   "outputs": [
    {
     "data": {
      "text/plain": [
       "Unnamed: 0    0\n",
       "Education     0\n",
       "Income        0\n",
       "dtype: int64"
      ]
     },
     "execution_count": 17,
     "metadata": {},
     "output_type": "execute_result"
    }
   ],
   "source": [
    "data.isnull().sum() "
   ]
  },
  {
   "cell_type": "markdown",
   "id": "4e9a1095-2814-46b4-b036-4ea7db0cd301",
   "metadata": {
    "jp-MarkdownHeadingCollapsed": true
   },
   "source": [
    "### 查看是否有重复值"
   ]
  },
  {
   "cell_type": "code",
   "execution_count": 18,
   "id": "4329cbc8-195b-40ab-9a65-52d2f5d66657",
   "metadata": {},
   "outputs": [
    {
     "data": {
      "text/plain": [
       "0"
      ]
     },
     "execution_count": 18,
     "metadata": {},
     "output_type": "execute_result"
    }
   ],
   "source": [
    "data.duplicated().sum() "
   ]
  },
  {
   "cell_type": "code",
   "execution_count": 20,
   "id": "7b132eff-1837-4879-b1ba-82f38803c314",
   "metadata": {},
   "outputs": [
    {
     "data": {
      "text/plain": [
       "0     10.000000\n",
       "1     10.401338\n",
       "2     10.842809\n",
       "3     11.244147\n",
       "4     11.645485\n",
       "5     12.086957\n",
       "6     12.488294\n",
       "7     12.889632\n",
       "8     13.290970\n",
       "9     13.732441\n",
       "10    14.133779\n",
       "11    14.535117\n",
       "12    14.976589\n",
       "13    15.377926\n",
       "14    15.779264\n",
       "15    16.220736\n",
       "16    16.622074\n",
       "17    17.023411\n",
       "18    17.464883\n",
       "19    17.866221\n",
       "20    18.267559\n",
       "21    18.709030\n",
       "22    19.110368\n",
       "23    19.511706\n",
       "24    19.913043\n",
       "25    20.354515\n",
       "26    20.755853\n",
       "27    21.157191\n",
       "28    21.598662\n",
       "29    22.000000\n",
       "Name: Education, dtype: float64"
      ]
     },
     "execution_count": 20,
     "metadata": {},
     "output_type": "execute_result"
    }
   ],
   "source": [
    "data['Education']"
   ]
  },
  {
   "cell_type": "code",
   "execution_count": 29,
   "id": "77f0958b-b6f7-48a1-9d6e-04388c7e449b",
   "metadata": {},
   "outputs": [],
   "source": [
    "x_lst = data['Education'].to_list() "
   ]
  },
  {
   "cell_type": "code",
   "execution_count": 30,
   "id": "7212798e-152c-4c81-b2e5-01533c025232",
   "metadata": {},
   "outputs": [
    {
     "data": {
      "text/plain": [
       "[10.0,\n",
       " 10.4013377926421,\n",
       " 10.8428093645485,\n",
       " 11.2441471571906,\n",
       " 11.6454849498328,\n",
       " 12.0869565217391,\n",
       " 12.4882943143813,\n",
       " 12.8896321070234,\n",
       " 13.2909698996656,\n",
       " 13.7324414715719,\n",
       " 14.133779264214,\n",
       " 14.5351170568562,\n",
       " 14.9765886287625,\n",
       " 15.3779264214047,\n",
       " 15.7792642140468,\n",
       " 16.2207357859532,\n",
       " 16.6220735785953,\n",
       " 17.0234113712375,\n",
       " 17.4648829431438,\n",
       " 17.866220735786,\n",
       " 18.2675585284281,\n",
       " 18.7090301003344,\n",
       " 19.1103678929766,\n",
       " 19.5117056856187,\n",
       " 19.9130434782609,\n",
       " 20.3545150501672,\n",
       " 20.7558528428094,\n",
       " 21.1571906354515,\n",
       " 21.5986622073579,\n",
       " 22.0]"
      ]
     },
     "execution_count": 30,
     "metadata": {},
     "output_type": "execute_result"
    }
   ],
   "source": [
    "x_lst"
   ]
  },
  {
   "cell_type": "code",
   "execution_count": 31,
   "id": "a3240edc-0b7a-4667-96c3-4de911ce5513",
   "metadata": {},
   "outputs": [
    {
     "data": {
      "text/plain": [
       "[26.6588387834389,\n",
       " 27.3064353457772,\n",
       " 22.1324101716143,\n",
       " 21.1698405046065,\n",
       " 15.1926335164307,\n",
       " 26.3989510407284,\n",
       " 17.435306578572,\n",
       " 25.5078852305278,\n",
       " 36.884594694235,\n",
       " 39.666108747637,\n",
       " 34.3962805641312,\n",
       " 41.4979935356871,\n",
       " 44.9815748660704,\n",
       " 47.039595257834,\n",
       " 48.2525782901863,\n",
       " 57.0342513373801,\n",
       " 51.4909192102538,\n",
       " 61.3366205527288,\n",
       " 57.581988179306,\n",
       " 68.5537140185881,\n",
       " 64.310925303692,\n",
       " 68.9590086393083,\n",
       " 74.6146392793647,\n",
       " 71.8671953042483,\n",
       " 76.098135379724,\n",
       " 75.77521802986,\n",
       " 72.4860553152424,\n",
       " 77.3550205741877,\n",
       " 72.1187904524136,\n",
       " 80.2605705009016]"
      ]
     },
     "execution_count": 31,
     "metadata": {},
     "output_type": "execute_result"
    }
   ],
   "source": [
    "y_lst = data['Income'].to_list()\n",
    "y_lst"
   ]
  },
  {
   "cell_type": "markdown",
   "id": "3469c553-f652-49e6-a215-47ea517f5076",
   "metadata": {},
   "source": [
    "### 利用echarts绘图"
   ]
  },
  {
   "cell_type": "code",
   "execution_count": 93,
   "id": "975df6a2-e35a-4fda-ab36-cc3ac20bb2ca",
   "metadata": {
    "jupyter": {
     "source_hidden": true
    }
   },
   "outputs": [],
   "source": [
    "c2 = (\n",
    "    Bar() \n",
    "    .add_xaxis(x_lst)\n",
    "    .add_yaxis(\n",
    "        \"收入\",\n",
    "        y_lst, \n",
    "        label_opts=opts.LabelOpts(is_show='False')\n",
    "    )\n",
    "    .set_global_opts(\n",
    "        title_opts=opts.TitleOpts(\n",
    "            title=\"收入与教育情况\"\n",
    "        ), \n",
    "        legend_opts=opts.LegendOpts(\n",
    "            inactive_color='red'\n",
    "        ), \n",
    "        toolbox_opts=opts.ToolboxOpts(),\n",
    "        visualmap_opts=opts.VisualMapOpts(),\n",
    "        tooltip_opts=opts.TooltipOpts(\n",
    "            formatter=\"{a}--{b}:{c}\", \n",
    "           \n",
    "        ), \n",
    "        datazoom_opts=opts.DataZoomOpts(), \n",
    "        xaxis_opts=opts.AxisOpts(\n",
    "            name=\"受教育水平\", \n",
    "            position='end', \n",
    "        ), \n",
    "        yaxis_opts=opts.AxisOpts(\n",
    "            name='收入水平',\n",
    "            position='end',\n",
    "            \n",
    "            \n",
    "        )\n",
    "        \n",
    "        \n",
    "    )\n",
    "    .set_series_opts(\n",
    "     \n",
    "        \n",
    "    )\n",
    ")"
   ]
  },
  {
   "cell_type": "code",
   "execution_count": 94,
   "id": "21d45ba9-b510-44cd-b3fd-73467ed328db",
   "metadata": {},
   "outputs": [
    {
     "data": {
      "application/javascript": [
       "new Promise(function(resolve, reject) {\n",
       "    var script = document.createElement(\"script\");\n",
       "    script.onload = resolve;\n",
       "    script.onerror = reject;\n",
       "    script.src = \"https://assets.pyecharts.org/assets/v5/echarts.min.js\";\n",
       "    document.head.appendChild(script);\n",
       "}).then(() => {\n",
       "\n",
       "});"
      ],
      "text/plain": [
       "<pyecharts.render.display.Javascript at 0x23883aa6b10>"
      ]
     },
     "execution_count": 94,
     "metadata": {},
     "output_type": "execute_result"
    }
   ],
   "source": [
    "c2.load_javascript() "
   ]
  },
  {
   "cell_type": "code",
   "execution_count": 95,
   "id": "db6dce99-fa2d-4341-a4ed-22bd16be47a6",
   "metadata": {
    "collapsed": true,
    "jupyter": {
     "outputs_hidden": true
    },
    "scrolled": true
   },
   "outputs": [
    {
     "data": {
      "text/html": [
       "<!DOCTYPE html>\n",
       "<html>\n",
       "<head>\n",
       "    <meta charset=\"UTF-8\">\n",
       "</head>\n",
       "<body>\n",
       "        <div id=\"9229eb9f345b48ed913ec895ef8257a2\" class=\"chart-container\" style=\"width:900px; height:500px; \"></div>\n",
       "    <script>\n",
       "        var chart_9229eb9f345b48ed913ec895ef8257a2 = echarts.init(\n",
       "            document.getElementById('9229eb9f345b48ed913ec895ef8257a2'), 'white', {renderer: 'canvas'});\n",
       "        var option_9229eb9f345b48ed913ec895ef8257a2 = {\n",
       "    \"animation\": true,\n",
       "    \"animationThreshold\": 2000,\n",
       "    \"animationDuration\": 1000,\n",
       "    \"animationEasing\": \"cubicOut\",\n",
       "    \"animationDelay\": 0,\n",
       "    \"animationDurationUpdate\": 300,\n",
       "    \"animationEasingUpdate\": \"cubicOut\",\n",
       "    \"animationDelayUpdate\": 0,\n",
       "    \"aria\": {\n",
       "        \"enabled\": false\n",
       "    },\n",
       "    \"color\": [\n",
       "        \"#5470c6\",\n",
       "        \"#91cc75\",\n",
       "        \"#fac858\",\n",
       "        \"#ee6666\",\n",
       "        \"#73c0de\",\n",
       "        \"#3ba272\",\n",
       "        \"#fc8452\",\n",
       "        \"#9a60b4\",\n",
       "        \"#ea7ccc\"\n",
       "    ],\n",
       "    \"series\": [\n",
       "        {\n",
       "            \"type\": \"bar\",\n",
       "            \"name\": \"\\u6536\\u5165\",\n",
       "            \"legendHoverLink\": true,\n",
       "            \"data\": [\n",
       "                26.6588387834389,\n",
       "                27.3064353457772,\n",
       "                22.1324101716143,\n",
       "                21.1698405046065,\n",
       "                15.1926335164307,\n",
       "                26.3989510407284,\n",
       "                17.435306578572,\n",
       "                25.5078852305278,\n",
       "                36.884594694235,\n",
       "                39.666108747637,\n",
       "                34.3962805641312,\n",
       "                41.4979935356871,\n",
       "                44.9815748660704,\n",
       "                47.039595257834,\n",
       "                48.2525782901863,\n",
       "                57.0342513373801,\n",
       "                51.4909192102538,\n",
       "                61.3366205527288,\n",
       "                57.581988179306,\n",
       "                68.5537140185881,\n",
       "                64.310925303692,\n",
       "                68.9590086393083,\n",
       "                74.6146392793647,\n",
       "                71.8671953042483,\n",
       "                76.098135379724,\n",
       "                75.77521802986,\n",
       "                72.4860553152424,\n",
       "                77.3550205741877,\n",
       "                72.1187904524136,\n",
       "                80.2605705009016\n",
       "            ],\n",
       "            \"realtimeSort\": false,\n",
       "            \"showBackground\": false,\n",
       "            \"stackStrategy\": \"samesign\",\n",
       "            \"cursor\": \"pointer\",\n",
       "            \"barMinHeight\": 0,\n",
       "            \"barCategoryGap\": \"20%\",\n",
       "            \"barGap\": \"30%\",\n",
       "            \"large\": false,\n",
       "            \"largeThreshold\": 400,\n",
       "            \"seriesLayoutBy\": \"column\",\n",
       "            \"datasetIndex\": 0,\n",
       "            \"clip\": true,\n",
       "            \"zlevel\": 0,\n",
       "            \"z\": 2,\n",
       "            \"label\": {\n",
       "                \"show\": \"False\",\n",
       "                \"margin\": 8,\n",
       "                \"valueAnimation\": false\n",
       "            },\n",
       "            \"rippleEffect\": {\n",
       "                \"show\": true,\n",
       "                \"brushType\": \"stroke\",\n",
       "                \"scale\": 2.5,\n",
       "                \"period\": 4\n",
       "            }\n",
       "        }\n",
       "    ],\n",
       "    \"legend\": [\n",
       "        {\n",
       "            \"data\": [\n",
       "                \"\\u6536\\u5165\"\n",
       "            ],\n",
       "            \"selected\": {},\n",
       "            \"show\": true,\n",
       "            \"padding\": 5,\n",
       "            \"itemGap\": 10,\n",
       "            \"itemWidth\": 25,\n",
       "            \"itemHeight\": 14,\n",
       "            \"inactiveColor\": \"red\",\n",
       "            \"backgroundColor\": \"transparent\",\n",
       "            \"borderColor\": \"#ccc\",\n",
       "            \"borderRadius\": 0,\n",
       "            \"pageButtonItemGap\": 5,\n",
       "            \"pageButtonPosition\": \"end\",\n",
       "            \"pageFormatter\": \"{current}/{total}\",\n",
       "            \"pageIconColor\": \"#2f4554\",\n",
       "            \"pageIconInactiveColor\": \"#aaa\",\n",
       "            \"pageIconSize\": 15,\n",
       "            \"animationDurationUpdate\": 800,\n",
       "            \"selector\": false,\n",
       "            \"selectorPosition\": \"auto\",\n",
       "            \"selectorItemGap\": 7,\n",
       "            \"selectorButtonGap\": 10\n",
       "        }\n",
       "    ],\n",
       "    \"tooltip\": {\n",
       "        \"show\": true,\n",
       "        \"trigger\": \"item\",\n",
       "        \"triggerOn\": \"mousemove|click\",\n",
       "        \"axisPointer\": {\n",
       "            \"type\": \"line\"\n",
       "        },\n",
       "        \"showContent\": true,\n",
       "        \"alwaysShowContent\": false,\n",
       "        \"showDelay\": 0,\n",
       "        \"hideDelay\": 100,\n",
       "        \"enterable\": false,\n",
       "        \"confine\": false,\n",
       "        \"appendToBody\": false,\n",
       "        \"transitionDuration\": 0.4,\n",
       "        \"formatter\": \"{a}--{b}:{c}\",\n",
       "        \"textStyle\": {\n",
       "            \"fontSize\": 14\n",
       "        },\n",
       "        \"borderWidth\": 0,\n",
       "        \"padding\": 5,\n",
       "        \"order\": \"seriesAsc\"\n",
       "    },\n",
       "    \"xAxis\": [\n",
       "        {\n",
       "            \"name\": \"\\u53d7\\u6559\\u80b2\\u6c34\\u5e73\",\n",
       "            \"show\": true,\n",
       "            \"scale\": false,\n",
       "            \"nameLocation\": \"end\",\n",
       "            \"nameGap\": 15,\n",
       "            \"gridIndex\": 0,\n",
       "            \"inverse\": false,\n",
       "            \"position\": \"end\",\n",
       "            \"offset\": 0,\n",
       "            \"splitNumber\": 5,\n",
       "            \"minInterval\": 0,\n",
       "            \"splitLine\": {\n",
       "                \"show\": true,\n",
       "                \"lineStyle\": {\n",
       "                    \"show\": true,\n",
       "                    \"width\": 1,\n",
       "                    \"opacity\": 1,\n",
       "                    \"curveness\": 0,\n",
       "                    \"type\": \"solid\"\n",
       "                }\n",
       "            },\n",
       "            \"animation\": true,\n",
       "            \"animationThreshold\": 2000,\n",
       "            \"animationDuration\": 1000,\n",
       "            \"animationEasing\": \"cubicOut\",\n",
       "            \"animationDelay\": 0,\n",
       "            \"animationDurationUpdate\": 300,\n",
       "            \"animationEasingUpdate\": \"cubicOut\",\n",
       "            \"animationDelayUpdate\": 0,\n",
       "            \"data\": [\n",
       "                10.0,\n",
       "                10.4013377926421,\n",
       "                10.8428093645485,\n",
       "                11.2441471571906,\n",
       "                11.6454849498328,\n",
       "                12.0869565217391,\n",
       "                12.4882943143813,\n",
       "                12.8896321070234,\n",
       "                13.2909698996656,\n",
       "                13.7324414715719,\n",
       "                14.133779264214,\n",
       "                14.5351170568562,\n",
       "                14.9765886287625,\n",
       "                15.3779264214047,\n",
       "                15.7792642140468,\n",
       "                16.2207357859532,\n",
       "                16.6220735785953,\n",
       "                17.0234113712375,\n",
       "                17.4648829431438,\n",
       "                17.866220735786,\n",
       "                18.2675585284281,\n",
       "                18.7090301003344,\n",
       "                19.1103678929766,\n",
       "                19.5117056856187,\n",
       "                19.9130434782609,\n",
       "                20.3545150501672,\n",
       "                20.7558528428094,\n",
       "                21.1571906354515,\n",
       "                21.5986622073579,\n",
       "                22.0\n",
       "            ]\n",
       "        }\n",
       "    ],\n",
       "    \"yAxis\": [\n",
       "        {\n",
       "            \"name\": \"\\u6536\\u5165\\u6c34\\u5e73\",\n",
       "            \"show\": true,\n",
       "            \"scale\": false,\n",
       "            \"nameLocation\": \"end\",\n",
       "            \"nameGap\": 15,\n",
       "            \"gridIndex\": 0,\n",
       "            \"inverse\": false,\n",
       "            \"position\": \"end\",\n",
       "            \"offset\": 0,\n",
       "            \"splitNumber\": 5,\n",
       "            \"minInterval\": 0,\n",
       "            \"splitLine\": {\n",
       "                \"show\": true,\n",
       "                \"lineStyle\": {\n",
       "                    \"show\": true,\n",
       "                    \"width\": 1,\n",
       "                    \"opacity\": 1,\n",
       "                    \"curveness\": 0,\n",
       "                    \"type\": \"solid\"\n",
       "                }\n",
       "            },\n",
       "            \"animation\": true,\n",
       "            \"animationThreshold\": 2000,\n",
       "            \"animationDuration\": 1000,\n",
       "            \"animationEasing\": \"cubicOut\",\n",
       "            \"animationDelay\": 0,\n",
       "            \"animationDurationUpdate\": 300,\n",
       "            \"animationEasingUpdate\": \"cubicOut\",\n",
       "            \"animationDelayUpdate\": 0\n",
       "        }\n",
       "    ],\n",
       "    \"title\": [\n",
       "        {\n",
       "            \"show\": true,\n",
       "            \"text\": \"\\u6536\\u5165\\u4e0e\\u6559\\u80b2\\u60c5\\u51b5\",\n",
       "            \"target\": \"blank\",\n",
       "            \"subtarget\": \"blank\",\n",
       "            \"padding\": 5,\n",
       "            \"itemGap\": 10,\n",
       "            \"textAlign\": \"auto\",\n",
       "            \"textVerticalAlign\": \"auto\",\n",
       "            \"triggerEvent\": false\n",
       "        }\n",
       "    ],\n",
       "    \"toolbox\": {\n",
       "        \"show\": true,\n",
       "        \"orient\": \"horizontal\",\n",
       "        \"itemSize\": 15,\n",
       "        \"itemGap\": 10,\n",
       "        \"left\": \"80%\",\n",
       "        \"feature\": {\n",
       "            \"saveAsImage\": {\n",
       "                \"type\": \"png\",\n",
       "                \"backgroundColor\": \"auto\",\n",
       "                \"connectedBackgroundColor\": \"#fff\",\n",
       "                \"show\": true,\n",
       "                \"title\": \"\\u4fdd\\u5b58\\u4e3a\\u56fe\\u7247\",\n",
       "                \"pixelRatio\": 1\n",
       "            },\n",
       "            \"restore\": {\n",
       "                \"show\": true,\n",
       "                \"title\": \"\\u8fd8\\u539f\"\n",
       "            },\n",
       "            \"dataView\": {\n",
       "                \"show\": true,\n",
       "                \"title\": \"\\u6570\\u636e\\u89c6\\u56fe\",\n",
       "                \"readOnly\": false,\n",
       "                \"lang\": [\n",
       "                    \"\\u6570\\u636e\\u89c6\\u56fe\",\n",
       "                    \"\\u5173\\u95ed\",\n",
       "                    \"\\u5237\\u65b0\"\n",
       "                ],\n",
       "                \"backgroundColor\": \"#fff\",\n",
       "                \"textareaColor\": \"#fff\",\n",
       "                \"textareaBorderColor\": \"#333\",\n",
       "                \"textColor\": \"#000\",\n",
       "                \"buttonColor\": \"#c23531\",\n",
       "                \"buttonTextColor\": \"#fff\"\n",
       "            },\n",
       "            \"dataZoom\": {\n",
       "                \"show\": true,\n",
       "                \"title\": {\n",
       "                    \"zoom\": \"\\u533a\\u57df\\u7f29\\u653e\",\n",
       "                    \"back\": \"\\u533a\\u57df\\u7f29\\u653e\\u8fd8\\u539f\"\n",
       "                },\n",
       "                \"icon\": {},\n",
       "                \"filterMode\": \"filter\"\n",
       "            },\n",
       "            \"magicType\": {\n",
       "                \"show\": true,\n",
       "                \"type\": [\n",
       "                    \"line\",\n",
       "                    \"bar\",\n",
       "                    \"stack\",\n",
       "                    \"tiled\"\n",
       "                ],\n",
       "                \"title\": {\n",
       "                    \"line\": \"\\u5207\\u6362\\u4e3a\\u6298\\u7ebf\\u56fe\",\n",
       "                    \"bar\": \"\\u5207\\u6362\\u4e3a\\u67f1\\u72b6\\u56fe\",\n",
       "                    \"stack\": \"\\u5207\\u6362\\u4e3a\\u5806\\u53e0\",\n",
       "                    \"tiled\": \"\\u5207\\u6362\\u4e3a\\u5e73\\u94fa\"\n",
       "                },\n",
       "                \"icon\": {}\n",
       "            }\n",
       "        }\n",
       "    },\n",
       "    \"visualMap\": {\n",
       "        \"show\": true,\n",
       "        \"type\": \"continuous\",\n",
       "        \"min\": 0,\n",
       "        \"max\": 100,\n",
       "        \"inRange\": {\n",
       "            \"color\": [\n",
       "                \"#50a3ba\",\n",
       "                \"#eac763\",\n",
       "                \"#d94e5d\"\n",
       "            ]\n",
       "        },\n",
       "        \"calculable\": true,\n",
       "        \"inverse\": false,\n",
       "        \"splitNumber\": 5,\n",
       "        \"hoverLink\": true,\n",
       "        \"orient\": \"vertical\",\n",
       "        \"padding\": 5,\n",
       "        \"showLabel\": true,\n",
       "        \"itemWidth\": 20,\n",
       "        \"itemHeight\": 140,\n",
       "        \"borderWidth\": 0\n",
       "    },\n",
       "    \"dataZoom\": {\n",
       "        \"show\": true,\n",
       "        \"type\": \"slider\",\n",
       "        \"showDetail\": true,\n",
       "        \"showDataShadow\": true,\n",
       "        \"realtime\": true,\n",
       "        \"start\": 20,\n",
       "        \"end\": 80,\n",
       "        \"orient\": \"horizontal\",\n",
       "        \"zoomLock\": false,\n",
       "        \"filterMode\": \"filter\"\n",
       "    }\n",
       "};\n",
       "        chart_9229eb9f345b48ed913ec895ef8257a2.setOption(option_9229eb9f345b48ed913ec895ef8257a2);\n",
       "    </script>\n",
       "</body>\n",
       "</html>\n"
      ],
      "text/plain": [
       "<pyecharts.render.display.HTML at 0x23884100790>"
      ]
     },
     "execution_count": 95,
     "metadata": {},
     "output_type": "execute_result"
    }
   ],
   "source": [
    "c2.render_notebook() "
   ]
  },
  {
   "cell_type": "code",
   "execution_count": 111,
   "id": "057c728c-06be-4ba0-9c7c-f3ffa2107a31",
   "metadata": {
    "jupyter": {
     "source_hidden": true
    }
   },
   "outputs": [],
   "source": [
    "c3 = (\n",
    "    Scatter() \n",
    "    .add_xaxis(x_lst)\n",
    "    .add_yaxis(\n",
    "        \"收入\",\n",
    "        y_lst,label_opts=opts.LabelOpts(is_show=False)\n",
    "    )\n",
    "    .set_global_opts(\n",
    "        title_opts=opts.TitleOpts(\n",
    "            title=\"收入与教育情况\"\n",
    "        ), \n",
    "        legend_opts=opts.LegendOpts(\n",
    "            inactive_color='red'\n",
    "        ), \n",
    "        toolbox_opts=opts.ToolboxOpts(),\n",
    "        visualmap_opts=opts.VisualMapOpts(),\n",
    "        tooltip_opts=opts.TooltipOpts(\n",
    "            formatter=\"{a}--{b}:{c}\", \n",
    "            \n",
    "        ), \n",
    "        datazoom_opts=opts.DataZoomOpts(\n",
    "            range_start='start',range_end='end',\n",
    "        ), \n",
    "        xaxis_opts=opts.AxisOpts(\n",
    "            name=\"受教育水平\", \n",
    "            position='end', \n",
    "            type_='value',\n",
    "            min_=10\n",
    "            \n",
    "        ), \n",
    "        yaxis_opts=opts.AxisOpts(\n",
    "            name='收入水平',\n",
    "            position='end',\n",
    "            \n",
    "        )\n",
    "        \n",
    "        \n",
    "    )\n",
    "    .set_series_opts(\n",
    "        \n",
    "        legend_opts=opts.LegendOpts(\n",
    "            is_show='False'\n",
    "        )\n",
    "       \n",
    "        \n",
    "    )\n",
    ")"
   ]
  },
  {
   "cell_type": "code",
   "execution_count": 112,
   "id": "bc8b6318-1dca-47a3-b128-85e1aa09138d",
   "metadata": {},
   "outputs": [
    {
     "data": {
      "text/html": [
       "<!DOCTYPE html>\n",
       "<html>\n",
       "<head>\n",
       "    <meta charset=\"UTF-8\">\n",
       "</head>\n",
       "<body>\n",
       "        <div id=\"19a7a89e07a946d28f2ee686d118779b\" class=\"chart-container\" style=\"width:900px; height:500px; \"></div>\n",
       "    <script>\n",
       "        var chart_19a7a89e07a946d28f2ee686d118779b = echarts.init(\n",
       "            document.getElementById('19a7a89e07a946d28f2ee686d118779b'), 'white', {renderer: 'canvas'});\n",
       "        var option_19a7a89e07a946d28f2ee686d118779b = {\n",
       "    \"animation\": true,\n",
       "    \"animationThreshold\": 2000,\n",
       "    \"animationDuration\": 1000,\n",
       "    \"animationEasing\": \"cubicOut\",\n",
       "    \"animationDelay\": 0,\n",
       "    \"animationDurationUpdate\": 300,\n",
       "    \"animationEasingUpdate\": \"cubicOut\",\n",
       "    \"animationDelayUpdate\": 0,\n",
       "    \"aria\": {\n",
       "        \"enabled\": false\n",
       "    },\n",
       "    \"color\": [\n",
       "        \"#5470c6\",\n",
       "        \"#91cc75\",\n",
       "        \"#fac858\",\n",
       "        \"#ee6666\",\n",
       "        \"#73c0de\",\n",
       "        \"#3ba272\",\n",
       "        \"#fc8452\",\n",
       "        \"#9a60b4\",\n",
       "        \"#ea7ccc\"\n",
       "    ],\n",
       "    \"series\": [\n",
       "        {\n",
       "            \"type\": \"scatter\",\n",
       "            \"name\": \"\\u6536\\u5165\",\n",
       "            \"symbolSize\": 10,\n",
       "            \"data\": [\n",
       "                [\n",
       "                    10.0,\n",
       "                    26.6588387834389\n",
       "                ],\n",
       "                [\n",
       "                    10.4013377926421,\n",
       "                    27.3064353457772\n",
       "                ],\n",
       "                [\n",
       "                    10.8428093645485,\n",
       "                    22.1324101716143\n",
       "                ],\n",
       "                [\n",
       "                    11.2441471571906,\n",
       "                    21.1698405046065\n",
       "                ],\n",
       "                [\n",
       "                    11.6454849498328,\n",
       "                    15.1926335164307\n",
       "                ],\n",
       "                [\n",
       "                    12.0869565217391,\n",
       "                    26.3989510407284\n",
       "                ],\n",
       "                [\n",
       "                    12.4882943143813,\n",
       "                    17.435306578572\n",
       "                ],\n",
       "                [\n",
       "                    12.8896321070234,\n",
       "                    25.5078852305278\n",
       "                ],\n",
       "                [\n",
       "                    13.2909698996656,\n",
       "                    36.884594694235\n",
       "                ],\n",
       "                [\n",
       "                    13.7324414715719,\n",
       "                    39.666108747637\n",
       "                ],\n",
       "                [\n",
       "                    14.133779264214,\n",
       "                    34.3962805641312\n",
       "                ],\n",
       "                [\n",
       "                    14.5351170568562,\n",
       "                    41.4979935356871\n",
       "                ],\n",
       "                [\n",
       "                    14.9765886287625,\n",
       "                    44.9815748660704\n",
       "                ],\n",
       "                [\n",
       "                    15.3779264214047,\n",
       "                    47.039595257834\n",
       "                ],\n",
       "                [\n",
       "                    15.7792642140468,\n",
       "                    48.2525782901863\n",
       "                ],\n",
       "                [\n",
       "                    16.2207357859532,\n",
       "                    57.0342513373801\n",
       "                ],\n",
       "                [\n",
       "                    16.6220735785953,\n",
       "                    51.4909192102538\n",
       "                ],\n",
       "                [\n",
       "                    17.0234113712375,\n",
       "                    61.3366205527288\n",
       "                ],\n",
       "                [\n",
       "                    17.4648829431438,\n",
       "                    57.581988179306\n",
       "                ],\n",
       "                [\n",
       "                    17.866220735786,\n",
       "                    68.5537140185881\n",
       "                ],\n",
       "                [\n",
       "                    18.2675585284281,\n",
       "                    64.310925303692\n",
       "                ],\n",
       "                [\n",
       "                    18.7090301003344,\n",
       "                    68.9590086393083\n",
       "                ],\n",
       "                [\n",
       "                    19.1103678929766,\n",
       "                    74.6146392793647\n",
       "                ],\n",
       "                [\n",
       "                    19.5117056856187,\n",
       "                    71.8671953042483\n",
       "                ],\n",
       "                [\n",
       "                    19.9130434782609,\n",
       "                    76.098135379724\n",
       "                ],\n",
       "                [\n",
       "                    20.3545150501672,\n",
       "                    75.77521802986\n",
       "                ],\n",
       "                [\n",
       "                    20.7558528428094,\n",
       "                    72.4860553152424\n",
       "                ],\n",
       "                [\n",
       "                    21.1571906354515,\n",
       "                    77.3550205741877\n",
       "                ],\n",
       "                [\n",
       "                    21.5986622073579,\n",
       "                    72.1187904524136\n",
       "                ],\n",
       "                [\n",
       "                    22.0,\n",
       "                    80.2605705009016\n",
       "                ]\n",
       "            ],\n",
       "            \"label\": {\n",
       "                \"show\": false,\n",
       "                \"margin\": 8,\n",
       "                \"valueAnimation\": false\n",
       "            },\n",
       "            \"rippleEffect\": {\n",
       "                \"show\": true,\n",
       "                \"brushType\": \"stroke\",\n",
       "                \"scale\": 2.5,\n",
       "                \"period\": 4\n",
       "            },\n",
       "            \"legend_opts\": {\n",
       "                \"show\": \"False\",\n",
       "                \"padding\": 5,\n",
       "                \"itemGap\": 10,\n",
       "                \"itemWidth\": 25,\n",
       "                \"itemHeight\": 14,\n",
       "                \"backgroundColor\": \"transparent\",\n",
       "                \"borderColor\": \"#ccc\",\n",
       "                \"borderRadius\": 0,\n",
       "                \"pageButtonItemGap\": 5,\n",
       "                \"pageButtonPosition\": \"end\",\n",
       "                \"pageFormatter\": \"{current}/{total}\",\n",
       "                \"pageIconColor\": \"#2f4554\",\n",
       "                \"pageIconInactiveColor\": \"#aaa\",\n",
       "                \"pageIconSize\": 15,\n",
       "                \"animationDurationUpdate\": 800,\n",
       "                \"selector\": false,\n",
       "                \"selectorPosition\": \"auto\",\n",
       "                \"selectorItemGap\": 7,\n",
       "                \"selectorButtonGap\": 10\n",
       "            }\n",
       "        }\n",
       "    ],\n",
       "    \"legend\": [\n",
       "        {\n",
       "            \"data\": [\n",
       "                \"\\u6536\\u5165\"\n",
       "            ],\n",
       "            \"selected\": {},\n",
       "            \"show\": true,\n",
       "            \"padding\": 5,\n",
       "            \"itemGap\": 10,\n",
       "            \"itemWidth\": 25,\n",
       "            \"itemHeight\": 14,\n",
       "            \"inactiveColor\": \"red\",\n",
       "            \"backgroundColor\": \"transparent\",\n",
       "            \"borderColor\": \"#ccc\",\n",
       "            \"borderRadius\": 0,\n",
       "            \"pageButtonItemGap\": 5,\n",
       "            \"pageButtonPosition\": \"end\",\n",
       "            \"pageFormatter\": \"{current}/{total}\",\n",
       "            \"pageIconColor\": \"#2f4554\",\n",
       "            \"pageIconInactiveColor\": \"#aaa\",\n",
       "            \"pageIconSize\": 15,\n",
       "            \"animationDurationUpdate\": 800,\n",
       "            \"selector\": false,\n",
       "            \"selectorPosition\": \"auto\",\n",
       "            \"selectorItemGap\": 7,\n",
       "            \"selectorButtonGap\": 10\n",
       "        }\n",
       "    ],\n",
       "    \"tooltip\": {\n",
       "        \"show\": true,\n",
       "        \"trigger\": \"item\",\n",
       "        \"triggerOn\": \"mousemove|click\",\n",
       "        \"axisPointer\": {\n",
       "            \"type\": \"line\"\n",
       "        },\n",
       "        \"showContent\": true,\n",
       "        \"alwaysShowContent\": false,\n",
       "        \"showDelay\": 0,\n",
       "        \"hideDelay\": 100,\n",
       "        \"enterable\": false,\n",
       "        \"confine\": false,\n",
       "        \"appendToBody\": false,\n",
       "        \"transitionDuration\": 0.4,\n",
       "        \"formatter\": \"{a}--{b}:{c}\",\n",
       "        \"textStyle\": {\n",
       "            \"fontSize\": 14\n",
       "        },\n",
       "        \"borderWidth\": 0,\n",
       "        \"padding\": 5,\n",
       "        \"order\": \"seriesAsc\"\n",
       "    },\n",
       "    \"xAxis\": [\n",
       "        {\n",
       "            \"type\": \"value\",\n",
       "            \"name\": \"\\u53d7\\u6559\\u80b2\\u6c34\\u5e73\",\n",
       "            \"show\": true,\n",
       "            \"scale\": false,\n",
       "            \"nameLocation\": \"end\",\n",
       "            \"nameGap\": 15,\n",
       "            \"gridIndex\": 0,\n",
       "            \"inverse\": false,\n",
       "            \"position\": \"end\",\n",
       "            \"offset\": 0,\n",
       "            \"splitNumber\": 5,\n",
       "            \"min\": 10,\n",
       "            \"minInterval\": 0,\n",
       "            \"splitLine\": {\n",
       "                \"show\": true,\n",
       "                \"lineStyle\": {\n",
       "                    \"show\": true,\n",
       "                    \"width\": 1,\n",
       "                    \"opacity\": 1,\n",
       "                    \"curveness\": 0,\n",
       "                    \"type\": \"solid\"\n",
       "                }\n",
       "            },\n",
       "            \"animation\": true,\n",
       "            \"animationThreshold\": 2000,\n",
       "            \"animationDuration\": 1000,\n",
       "            \"animationEasing\": \"cubicOut\",\n",
       "            \"animationDelay\": 0,\n",
       "            \"animationDurationUpdate\": 300,\n",
       "            \"animationEasingUpdate\": \"cubicOut\",\n",
       "            \"animationDelayUpdate\": 0,\n",
       "            \"data\": [\n",
       "                10.0,\n",
       "                10.4013377926421,\n",
       "                10.8428093645485,\n",
       "                11.2441471571906,\n",
       "                11.6454849498328,\n",
       "                12.0869565217391,\n",
       "                12.4882943143813,\n",
       "                12.8896321070234,\n",
       "                13.2909698996656,\n",
       "                13.7324414715719,\n",
       "                14.133779264214,\n",
       "                14.5351170568562,\n",
       "                14.9765886287625,\n",
       "                15.3779264214047,\n",
       "                15.7792642140468,\n",
       "                16.2207357859532,\n",
       "                16.6220735785953,\n",
       "                17.0234113712375,\n",
       "                17.4648829431438,\n",
       "                17.866220735786,\n",
       "                18.2675585284281,\n",
       "                18.7090301003344,\n",
       "                19.1103678929766,\n",
       "                19.5117056856187,\n",
       "                19.9130434782609,\n",
       "                20.3545150501672,\n",
       "                20.7558528428094,\n",
       "                21.1571906354515,\n",
       "                21.5986622073579,\n",
       "                22.0\n",
       "            ]\n",
       "        }\n",
       "    ],\n",
       "    \"yAxis\": [\n",
       "        {\n",
       "            \"name\": \"\\u6536\\u5165\\u6c34\\u5e73\",\n",
       "            \"show\": true,\n",
       "            \"scale\": false,\n",
       "            \"nameLocation\": \"end\",\n",
       "            \"nameGap\": 15,\n",
       "            \"gridIndex\": 0,\n",
       "            \"inverse\": false,\n",
       "            \"position\": \"end\",\n",
       "            \"offset\": 0,\n",
       "            \"splitNumber\": 5,\n",
       "            \"minInterval\": 0,\n",
       "            \"splitLine\": {\n",
       "                \"show\": true,\n",
       "                \"lineStyle\": {\n",
       "                    \"show\": true,\n",
       "                    \"width\": 1,\n",
       "                    \"opacity\": 1,\n",
       "                    \"curveness\": 0,\n",
       "                    \"type\": \"solid\"\n",
       "                }\n",
       "            },\n",
       "            \"animation\": true,\n",
       "            \"animationThreshold\": 2000,\n",
       "            \"animationDuration\": 1000,\n",
       "            \"animationEasing\": \"cubicOut\",\n",
       "            \"animationDelay\": 0,\n",
       "            \"animationDurationUpdate\": 300,\n",
       "            \"animationEasingUpdate\": \"cubicOut\",\n",
       "            \"animationDelayUpdate\": 0\n",
       "        }\n",
       "    ],\n",
       "    \"title\": [\n",
       "        {\n",
       "            \"show\": true,\n",
       "            \"text\": \"\\u6536\\u5165\\u4e0e\\u6559\\u80b2\\u60c5\\u51b5\",\n",
       "            \"target\": \"blank\",\n",
       "            \"subtarget\": \"blank\",\n",
       "            \"padding\": 5,\n",
       "            \"itemGap\": 10,\n",
       "            \"textAlign\": \"auto\",\n",
       "            \"textVerticalAlign\": \"auto\",\n",
       "            \"triggerEvent\": false\n",
       "        }\n",
       "    ],\n",
       "    \"toolbox\": {\n",
       "        \"show\": true,\n",
       "        \"orient\": \"horizontal\",\n",
       "        \"itemSize\": 15,\n",
       "        \"itemGap\": 10,\n",
       "        \"left\": \"80%\",\n",
       "        \"feature\": {\n",
       "            \"saveAsImage\": {\n",
       "                \"type\": \"png\",\n",
       "                \"backgroundColor\": \"auto\",\n",
       "                \"connectedBackgroundColor\": \"#fff\",\n",
       "                \"show\": true,\n",
       "                \"title\": \"\\u4fdd\\u5b58\\u4e3a\\u56fe\\u7247\",\n",
       "                \"pixelRatio\": 1\n",
       "            },\n",
       "            \"restore\": {\n",
       "                \"show\": true,\n",
       "                \"title\": \"\\u8fd8\\u539f\"\n",
       "            },\n",
       "            \"dataView\": {\n",
       "                \"show\": true,\n",
       "                \"title\": \"\\u6570\\u636e\\u89c6\\u56fe\",\n",
       "                \"readOnly\": false,\n",
       "                \"lang\": [\n",
       "                    \"\\u6570\\u636e\\u89c6\\u56fe\",\n",
       "                    \"\\u5173\\u95ed\",\n",
       "                    \"\\u5237\\u65b0\"\n",
       "                ],\n",
       "                \"backgroundColor\": \"#fff\",\n",
       "                \"textareaColor\": \"#fff\",\n",
       "                \"textareaBorderColor\": \"#333\",\n",
       "                \"textColor\": \"#000\",\n",
       "                \"buttonColor\": \"#c23531\",\n",
       "                \"buttonTextColor\": \"#fff\"\n",
       "            },\n",
       "            \"dataZoom\": {\n",
       "                \"show\": true,\n",
       "                \"title\": {\n",
       "                    \"zoom\": \"\\u533a\\u57df\\u7f29\\u653e\",\n",
       "                    \"back\": \"\\u533a\\u57df\\u7f29\\u653e\\u8fd8\\u539f\"\n",
       "                },\n",
       "                \"icon\": {},\n",
       "                \"filterMode\": \"filter\"\n",
       "            },\n",
       "            \"magicType\": {\n",
       "                \"show\": true,\n",
       "                \"type\": [\n",
       "                    \"line\",\n",
       "                    \"bar\",\n",
       "                    \"stack\",\n",
       "                    \"tiled\"\n",
       "                ],\n",
       "                \"title\": {\n",
       "                    \"line\": \"\\u5207\\u6362\\u4e3a\\u6298\\u7ebf\\u56fe\",\n",
       "                    \"bar\": \"\\u5207\\u6362\\u4e3a\\u67f1\\u72b6\\u56fe\",\n",
       "                    \"stack\": \"\\u5207\\u6362\\u4e3a\\u5806\\u53e0\",\n",
       "                    \"tiled\": \"\\u5207\\u6362\\u4e3a\\u5e73\\u94fa\"\n",
       "                },\n",
       "                \"icon\": {}\n",
       "            }\n",
       "        }\n",
       "    },\n",
       "    \"visualMap\": {\n",
       "        \"show\": true,\n",
       "        \"type\": \"continuous\",\n",
       "        \"min\": 0,\n",
       "        \"max\": 100,\n",
       "        \"inRange\": {\n",
       "            \"color\": [\n",
       "                \"#50a3ba\",\n",
       "                \"#eac763\",\n",
       "                \"#d94e5d\"\n",
       "            ]\n",
       "        },\n",
       "        \"calculable\": true,\n",
       "        \"inverse\": false,\n",
       "        \"splitNumber\": 5,\n",
       "        \"hoverLink\": true,\n",
       "        \"orient\": \"vertical\",\n",
       "        \"padding\": 5,\n",
       "        \"showLabel\": true,\n",
       "        \"itemWidth\": 20,\n",
       "        \"itemHeight\": 140,\n",
       "        \"borderWidth\": 0\n",
       "    },\n",
       "    \"dataZoom\": {\n",
       "        \"show\": true,\n",
       "        \"type\": \"slider\",\n",
       "        \"showDetail\": true,\n",
       "        \"showDataShadow\": true,\n",
       "        \"realtime\": true,\n",
       "        \"start\": \"start\",\n",
       "        \"end\": \"end\",\n",
       "        \"orient\": \"horizontal\",\n",
       "        \"zoomLock\": false,\n",
       "        \"filterMode\": \"filter\"\n",
       "    }\n",
       "};\n",
       "        chart_19a7a89e07a946d28f2ee686d118779b.setOption(option_19a7a89e07a946d28f2ee686d118779b);\n",
       "    </script>\n",
       "</body>\n",
       "</html>\n"
      ],
      "text/plain": [
       "<pyecharts.render.display.HTML at 0x23881d08c10>"
      ]
     },
     "execution_count": 112,
     "metadata": {},
     "output_type": "execute_result"
    }
   ],
   "source": [
    "c3.render_notebook() "
   ]
  },
  {
   "cell_type": "markdown",
   "id": "390d901b-33a8-46c8-b051-1109e90be911",
   "metadata": {
    "jp-MarkdownHeadingCollapsed": true
   },
   "source": [
    "### 当然也可以使用matplotlib"
   ]
  },
  {
   "cell_type": "code",
   "execution_count": 108,
   "id": "41ff29e9-8738-4393-aca1-e8df2e77f6a1",
   "metadata": {},
   "outputs": [],
   "source": [
    "import matplotlib.pyplot as plt\n",
    "from pylab import mpl\n",
    "\n",
    "mpl.rcParams[\"font.sans-serif\"]=[\"SimHei\"]\n",
    "\n",
    "mpl.rcParams[\"axes.unicode_minus\"]=False\n",
    "\n"
   ]
  },
  {
   "cell_type": "code",
   "execution_count": 109,
   "id": "208d1ce8-283e-462c-b761-194eb3e95528",
   "metadata": {},
   "outputs": [
    {
     "data": {
      "image/png": "[encoded data removed]",
      "text/plain": [
       "<Figure size 640x480 with 1 Axes>"
      ]
     },
     "metadata": {},
     "output_type": "display_data"
    }
   ],
   "source": [
    "plt.scatter(data.Education,data.Income)\n",
    "plt.xlabel(\"受教育水平\")\n",
    "plt.ylabel(\"收入\")\n",
    "plt.show() "
   ]
  },
  {
   "cell_type": "markdown",
   "id": "9a876d56-624f-404f-af26-69eb9e1b0704",
   "metadata": {},
   "source": [
    "### 现在准备用nn 来进行实现模型"
   ]
  },
  {
   "cell_type": "code",
   "execution_count": 113,
   "id": "f2ea4e6b-2db8-4241-831c-dade57147cc3",
   "metadata": {},
   "outputs": [],
   "source": [
    "from torch import nn"
   ]
  },
  {
   "cell_type": "markdown",
   "id": "219ac9a5-e1b6-472b-9097-d1d5cb646e61",
   "metadata": {},
   "source": [
    "#### 数据预处理"
   ]
  },
  {
   "cell_type": "markdown",
   "id": "f95b67d6-9d0b-4091-9a86-467298939c2b",
   "metadata": {},
   "source": [
    "因为torch做的是张量积算，所以我们要先将数据转为torch可以识别的模式"
   ]
  },
  {
   "cell_type": "code",
   "execution_count": 114,
   "id": "a2577961-4a92-4467-b404-8990ca69f515",
   "metadata": {},
   "outputs": [
    {
     "data": {
      "text/plain": [
       "array([10.        , 10.40133779, 10.84280936, 11.24414716, 11.64548495,\n",
       "       12.08695652, 12.48829431, 12.88963211, 13.2909699 , 13.73244147,\n",
       "       14.13377926, 14.53511706, 14.97658863, 15.37792642, 15.77926421,\n",
       "       16.22073579, 16.62207358, 17.02341137, 17.46488294, 17.86622074,\n",
       "       18.26755853, 18.7090301 , 19.11036789, 19.51170569, 19.91304348,\n",
       "       20.35451505, 20.75585284, 21.15719064, 21.59866221, 22.        ])"
      ]
     },
     "execution_count": 114,
     "metadata": {},
     "output_type": "execute_result"
    }
   ],
   "source": [
    "# X = data.Education #这样返回的是Serise\n",
    "X = data.Education.values #这样返回的是ndarry对象\n",
    "X"
   ]
  },
  {
   "cell_type": "markdown",
   "id": "3c40ed42-74e9-46ab-94c3-b1e44d2ae095",
   "metadata": {},
   "source": [
    "但是这样还是不行的，这样只是一个一维数组"
   ]
  },
  {
   "cell_type": "markdown",
   "id": "055a44ff-e6fb-4034-baa1-4486a5b2ffbc",
   "metadata": {},
   "source": [
    "所以利用reshape将其转换成30行1列的二维张量,-1是自动计算行数,1是列数,并且将其转换为float32"
   ]
  },
  {
   "cell_type": "code",
   "execution_count": 119,
   "id": "8b28b40d-ed59-48e9-a1cf-b5f739236f18",
   "metadata": {},
   "outputs": [],
   "source": [
    "X = data.Education.values.reshape(-1,1).astype(np.float32)"
   ]
  },
  {
   "cell_type": "code",
   "execution_count": 120,
   "id": "cfa565dd-b33e-4c13-bd7e-1232e832ea80",
   "metadata": {},
   "outputs": [
    {
     "data": {
      "text/plain": [
       "array([[10.      ],\n",
       "       [10.401338],\n",
       "       [10.84281 ],\n",
       "       [11.244147],\n",
       "       [11.645485],\n",
       "       [12.086957],\n",
       "       [12.488295],\n",
       "       [12.889632],\n",
       "       [13.29097 ],\n",
       "       [13.732442],\n",
       "       [14.13378 ],\n",
       "       [14.535117],\n",
       "       [14.976588],\n",
       "       [15.377927],\n",
       "       [15.779264],\n",
       "       [16.220736],\n",
       "       [16.622074],\n",
       "       [17.02341 ],\n",
       "       [17.464884],\n",
       "       [17.86622 ],\n",
       "       [18.26756 ],\n",
       "       [18.70903 ],\n",
       "       [19.110369],\n",
       "       [19.511705],\n",
       "       [19.913044],\n",
       "       [20.354515],\n",
       "       [20.755854],\n",
       "       [21.15719 ],\n",
       "       [21.598661],\n",
       "       [22.      ]], dtype=float32)"
      ]
     },
     "execution_count": 120,
     "metadata": {},
     "output_type": "execute_result"
    }
   ],
   "source": [
    "X"
   ]
  },
  {
   "cell_type": "code",
   "execution_count": 121,
   "id": "2f9d8918-ef75-4a86-8f12-0775081549c6",
   "metadata": {},
   "outputs": [
    {
     "data": {
      "text/plain": [
       "(30, 1)"
      ]
     },
     "execution_count": 121,
     "metadata": {},
     "output_type": "execute_result"
    }
   ],
   "source": [
    "X.shape"
   ]
  },
  {
   "cell_type": "markdown",
   "id": "c06ce7bf-2cbd-4c79-9365-106d64cd1905",
   "metadata": {
    "jp-MarkdownHeadingCollapsed": true
   },
   "source": [
    "#### 然后利用torch来将其转变为张量"
   ]
  },
  {
   "cell_type": "code",
   "execution_count": 123,
   "id": "aca05ef9-c9c2-42d8-bda2-9c191974138b",
   "metadata": {},
   "outputs": [],
   "source": [
    "X_ = torch.from_numpy(X)"
   ]
  },
  {
   "cell_type": "code",
   "execution_count": 124,
   "id": "d7c5b97f-985a-4314-84f7-623beb6752ba",
   "metadata": {},
   "outputs": [
    {
     "data": {
      "text/plain": [
       "tensor([[10.0000],\n",
       "        [10.4013],\n",
       "        [10.8428],\n",
       "        [11.2441],\n",
       "        [11.6455],\n",
       "        [12.0870],\n",
       "        [12.4883],\n",
       "        [12.8896],\n",
       "        [13.2910],\n",
       "        [13.7324],\n",
       "        [14.1338],\n",
       "        [14.5351],\n",
       "        [14.9766],\n",
       "        [15.3779],\n",
       "        [15.7793],\n",
       "        [16.2207],\n",
       "        [16.6221],\n",
       "        [17.0234],\n",
       "        [17.4649],\n",
       "        [17.8662],\n",
       "        [18.2676],\n",
       "        [18.7090],\n",
       "        [19.1104],\n",
       "        [19.5117],\n",
       "        [19.9130],\n",
       "        [20.3545],\n",
       "        [20.7559],\n",
       "        [21.1572],\n",
       "        [21.5987],\n",
       "        [22.0000]])"
      ]
     },
     "execution_count": 124,
     "metadata": {},
     "output_type": "execute_result"
    }
   ],
   "source": [
    "X_"
   ]
  },
  {
   "cell_type": "markdown",
   "id": "eda6a256-e922-4e2d-9feb-c5cb10605aa5",
   "metadata": {},
   "source": [
    "#### 知道了怎么处理X，接下来就快捷的处理Y"
   ]
  },
  {
   "cell_type": "code",
   "execution_count": 125,
   "id": "54f4927a-f601-473c-a033-f0cfd34edb45",
   "metadata": {},
   "outputs": [],
   "source": [
    "Y_ = torch.from_numpy(data.Income.values.reshape(-1,1).astype(np.float32))"
   ]
  },
  {
   "cell_type": "markdown",
   "id": "c1c2e3cd-afc3-49fb-9f35-4413127703cd",
   "metadata": {},
   "source": [
    "### 创建linear模型 "
   ]
  },
  {
   "cell_type": "markdown",
   "id": "d07d680a-107a-40b3-b2a4-2a65874ed9a1",
   "metadata": {},
   "source": [
    "#### 开始创建模型"
   ]
  },
  {
   "cell_type": "markdown",
   "id": "35cc3ba1-d942-413e-9fb2-55054713deae",
   "metadata": {},
   "source": [
    "输入和输出的特征都是1，因为找的是受教育和收入两者之间的关系"
   ]
  },
  {
   "cell_type": "markdown",
   "id": "c47bddd1-8911-4ce0-8388-9ee910637073",
   "metadata": {},
   "source": [
    "$output = w(eight)\\times input + b(ias) = model(input)$ "
   ]
  },
  {
   "cell_type": "markdown",
   "id": "3e610299-326c-4e33-8ec6-c0c50165d3e1",
   "metadata": {},
   "source": [
    "### 整体流程"
   ]
  },
  {
   "cell_type": "markdown",
   "id": "3d84a755-992f-4566-9634-a052b7ac845e",
   "metadata": {},
   "source": [
    "##### 创建模型"
   ]
  },
  {
   "cell_type": "code",
   "execution_count": 126,
   "id": "4d77f8db-2469-4550-9c3a-25e81c170480",
   "metadata": {},
   "outputs": [],
   "source": [
    "model = nn.Linear(in_features=1,out_features=1)"
   ]
  },
  {
   "cell_type": "markdown",
   "id": "8c22c063-287f-4bc0-ac16-a0be225aacee",
   "metadata": {},
   "source": [
    "##### 创建损失函数"
   ]
  },
  {
   "cell_type": "code",
   "execution_count": 127,
   "id": "0fcda653-b136-416b-b79e-1abad7366c1e",
   "metadata": {},
   "outputs": [],
   "source": [
    "loss_fn = nn.MSELoss() #拿到损失函数"
   ]
  },
  {
   "cell_type": "markdown",
   "id": "341f0050-85b9-4c6e-a01a-73e4192a9235",
   "metadata": {},
   "source": [
    "拿到损失函数利用其进行模型优化，常用优化方法  \n",
    "这里利用随机梯度下降(SGD)  \n",
    "我们要优化的是模型中的参数如$w,b$  \n",
    "还要指定学习速率lr（之后会讲）"
   ]
  },
  {
   "cell_type": "markdown",
   "id": "c3e64345-deca-4cd9-8e3e-846cac0a82c5",
   "metadata": {},
   "source": [
    "##### 创建优化方法"
   ]
  },
  {
   "cell_type": "code",
   "execution_count": 128,
   "id": "bcd0d8b0-3894-46f2-9b5a-ecb4fa4dba4d",
   "metadata": {},
   "outputs": [],
   "source": [
    "opt_ = torch.optim.SGD(model.parameters(),lr=0.0001)"
   ]
  },
  {
   "cell_type": "markdown",
   "id": "8a0561ef-6e7d-449c-851a-0f73cdbe6915",
   "metadata": {},
   "source": [
    "所谓的训练就是把输入带入到模型当中去计算一个预测的结果,\n",
    "然后将预测的结果与真实的结果放入到损失函数中计算出一个损失  \n",
    "然后使用优化方法根据损失计算出如何优化变量$w,b$  \n",
    "我们把全部数据训练一遍叫作epoch,我们可能会训练很多次，那就是多个epoch  \n",
    "\n"
   ]
  },
  {
   "cell_type": "markdown",
   "id": "a3239b49-38a0-4253-8743-3165d31c537c",
   "metadata": {},
   "source": [
    "##### 开训练"
   ]
  },
  {
   "cell_type": "markdown",
   "id": "bd9eb324-538c-44fb-8bc1-39ac92389376",
   "metadata": {},
   "source": [
    "1. 利用输入的数据进行预测得到y_pred\n",
    "2. 得到y_pred后利用损失函数计算预测值与实际值之间的误差\n",
    "3. 将梯度清零，因为它会累计，我们需要利用得到的权重和偏置(截距)来计算新的梯度达到下降 \n",
    "4. 进行反向传播，将会得到新的梯度\n",
    "5. 得到新的梯度后调用优化器进行模型优化"
   ]
  },
  {
   "cell_type": "code",
   "execution_count": null,
   "id": "8d30feb9-8965-4a0a-b17e-53c7b27ba57b",
   "metadata": {},
   "outputs": [],
   "source": [
    "#假设我们要训10轮 \n",
    "for epoch in range(10):\n",
    "    for x,y in zip(X_,Y_):  \n",
    "        y_pred =  model(x) \n",
    "        loss = loss_fn(y,y_pred)\n",
    "        #得到loss之后就可以进行反向传播,它就是求解梯度的 \n",
    "\n",
    "        # 因为每次循环都会产生梯度，它是会进行累计的，会影响到梯度下降\n",
    "        #首先需要清除原有的梯度,要在优化那一步调用方法zero_grad清零梯度\n",
    "        opt_.zero_grad()\n",
    "        #反向传播求解梯度,得到权重和偏置然后决定往哪个方向移动\n",
    "        loss.backward()  \n",
    "        \n",
    "        opt_.step() #然后进行优化,或者叫优化模型参数\n",
    "        "
   ]
  },
  {
   "cell_type": "markdown",
   "id": "ce6e2ad2-a470-4198-a968-fcb5c8a24a25",
   "metadata": {},
   "source": [
    "用gpu来训练"
   ]
  },
  {
   "cell_type": "code",
   "execution_count": 131,
   "id": "677c2d7f-cdcc-4568-9f7d-fe541c08a639",
   "metadata": {},
   "outputs": [
    {
     "name": "stdout",
     "output_type": "stream",
     "text": [
      "训练完成\n"
     ]
    }
   ],
   "source": [
    "device = torch.device(\"cuda\" if torch.cuda.is_available() else \"cpu\")\n",
    "model.to(device)  # 将模型移动到选定设备上\n",
    "\n",
    "for epoch in range(500):\n",
    "    for x, y in zip(X_, Y_):\n",
    "        # 确保输入数据也在相同的设备上\n",
    "        x, y = x.to(device), y.to(device)\n",
    "        \n",
    "        y_pred = model(x)\n",
    "        loss = loss_fn(y_pred, y)\n",
    "        \n",
    "        # 清除之前的梯度\n",
    "        opt_.zero_grad()\n",
    "        # 反向传播\n",
    "        loss.backward()\n",
    "        # 更新权重\n",
    "        opt_.step()\n",
    "\n",
    "    # print(f\"Epoch {epoch+1}/10 completed.\")\n",
    "\n",
    "print(\"训练完成\")"
   ]
  },
  {
   "cell_type": "markdown",
   "id": "3590df9d-7f7e-45a7-a974-aa0bce05b9b8",
   "metadata": {},
   "source": [
    "##### 查看计算出的权重和截距"
   ]
  },
  {
   "cell_type": "code",
   "execution_count": 132,
   "id": "beeea7c8-240e-49ca-84b0-e86aebd98dd4",
   "metadata": {},
   "outputs": [
    {
     "data": {
      "text/plain": [
       "Parameter containing:\n",
       "tensor([[3.7156]], device='cuda:0', requires_grad=True)"
      ]
     },
     "execution_count": 132,
     "metadata": {},
     "output_type": "execute_result"
    }
   ],
   "source": [
    "model.weight"
   ]
  },
  {
   "cell_type": "code",
   "execution_count": 133,
   "id": "9c826b30-9bbd-411d-8e99-481ed52d523c",
   "metadata": {},
   "outputs": [
    {
     "data": {
      "text/plain": [
       "Parameter containing:\n",
       "tensor([-5.1254], device='cuda:0', requires_grad=True)"
      ]
     },
     "execution_count": 133,
     "metadata": {},
     "output_type": "execute_result"
    }
   ],
   "source": [
    "model.bias"
   ]
  },
  {
   "cell_type": "markdown",
   "id": "b1c58fd8-4197-4896-a6a0-bc709309e6d3",
   "metadata": {},
   "source": [
    "##### 绘图看看我们训的模型跑的如何"
   ]
  },
  {
   "cell_type": "markdown",
   "id": "8235e795-b0f6-439f-a1aa-cf74ee4b323c",
   "metadata": {},
   "source": [
    "注意我们要绘图也是要将训练得到的tensor数据转化为matplotlib能认识的数据才行的  \n",
    "所以还是要进行数据的转换"
   ]
  },
  {
   "cell_type": "code",
   "execution_count": 134,
   "id": "5dd5348d-b4e9-4e48-a3a7-e8aa3a0d8ea1",
   "metadata": {},
   "outputs": [
    {
     "ename": "RuntimeError",
     "evalue": "Expected all tensors to be on the same device, but found at least two devices, cuda:0 and cpu! (when checking argument for argument mat1 in method wrapper_CUDA_addmm)",
     "output_type": "error",
     "traceback": [
      "\u001b[1;31m---------------------------------------------------------------------------\u001b[0m",
      "\u001b[1;31mRuntimeError\u001b[0m                              Traceback (most recent call last)",
      "Cell \u001b[1;32mIn[134], line 2\u001b[0m\n\u001b[0;32m      1\u001b[0m plt\u001b[38;5;241m.\u001b[39mscatter(data\u001b[38;5;241m.\u001b[39mEducation,data\u001b[38;5;241m.\u001b[39mIncome)\n\u001b[1;32m----> 2\u001b[0m plt\u001b[38;5;241m.\u001b[39mplot(X_\u001b[38;5;241m.\u001b[39mnumpy(),\u001b[43mmodel\u001b[49m\u001b[43m(\u001b[49m\u001b[43mX_\u001b[49m\u001b[43m)\u001b[49m\u001b[38;5;241m.\u001b[39mdata\u001b[38;5;241m.\u001b[39mnumpy(),c\u001b[38;5;241m=\u001b[39m\u001b[38;5;124m'\u001b[39m\u001b[38;5;124mr\u001b[39m\u001b[38;5;124m'\u001b[39m)\n",
      "File \u001b[1;32mD:\\venvs\\dl\\Lib\\site-packages\\torch\\nn\\modules\\module.py:1751\u001b[0m, in \u001b[0;36mModule._wrapped_call_impl\u001b[1;34m(self, *args, **kwargs)\u001b[0m\n\u001b[0;32m   1749\u001b[0m     \u001b[38;5;28;01mreturn\u001b[39;00m \u001b[38;5;28mself\u001b[39m\u001b[38;5;241m.\u001b[39m_compiled_call_impl(\u001b[38;5;241m*\u001b[39margs, \u001b[38;5;241m*\u001b[39m\u001b[38;5;241m*\u001b[39mkwargs)  \u001b[38;5;66;03m# type: ignore[misc]\u001b[39;00m\n\u001b[0;32m   1750\u001b[0m \u001b[38;5;28;01melse\u001b[39;00m:\n\u001b[1;32m-> 1751\u001b[0m     \u001b[38;5;28;01mreturn\u001b[39;00m \u001b[38;5;28;43mself\u001b[39;49m\u001b[38;5;241;43m.\u001b[39;49m\u001b[43m_call_impl\u001b[49m\u001b[43m(\u001b[49m\u001b[38;5;241;43m*\u001b[39;49m\u001b[43margs\u001b[49m\u001b[43m,\u001b[49m\u001b[43m \u001b[49m\u001b[38;5;241;43m*\u001b[39;49m\u001b[38;5;241;43m*\u001b[39;49m\u001b[43mkwargs\u001b[49m\u001b[43m)\u001b[49m\n",
      "File \u001b[1;32mD:\\venvs\\dl\\Lib\\site-packages\\torch\\nn\\modules\\module.py:1762\u001b[0m, in \u001b[0;36mModule._call_impl\u001b[1;34m(self, *args, **kwargs)\u001b[0m\n\u001b[0;32m   1757\u001b[0m \u001b[38;5;66;03m# If we don't have any hooks, we want to skip the rest of the logic in\u001b[39;00m\n\u001b[0;32m   1758\u001b[0m \u001b[38;5;66;03m# this function, and just call forward.\u001b[39;00m\n\u001b[0;32m   1759\u001b[0m \u001b[38;5;28;01mif\u001b[39;00m \u001b[38;5;129;01mnot\u001b[39;00m (\u001b[38;5;28mself\u001b[39m\u001b[38;5;241m.\u001b[39m_backward_hooks \u001b[38;5;129;01mor\u001b[39;00m \u001b[38;5;28mself\u001b[39m\u001b[38;5;241m.\u001b[39m_backward_pre_hooks \u001b[38;5;129;01mor\u001b[39;00m \u001b[38;5;28mself\u001b[39m\u001b[38;5;241m.\u001b[39m_forward_hooks \u001b[38;5;129;01mor\u001b[39;00m \u001b[38;5;28mself\u001b[39m\u001b[38;5;241m.\u001b[39m_forward_pre_hooks\n\u001b[0;32m   1760\u001b[0m         \u001b[38;5;129;01mor\u001b[39;00m _global_backward_pre_hooks \u001b[38;5;129;01mor\u001b[39;00m _global_backward_hooks\n\u001b[0;32m   1761\u001b[0m         \u001b[38;5;129;01mor\u001b[39;00m _global_forward_hooks \u001b[38;5;129;01mor\u001b[39;00m _global_forward_pre_hooks):\n\u001b[1;32m-> 1762\u001b[0m     \u001b[38;5;28;01mreturn\u001b[39;00m \u001b[43mforward_call\u001b[49m\u001b[43m(\u001b[49m\u001b[38;5;241;43m*\u001b[39;49m\u001b[43margs\u001b[49m\u001b[43m,\u001b[49m\u001b[43m \u001b[49m\u001b[38;5;241;43m*\u001b[39;49m\u001b[38;5;241;43m*\u001b[39;49m\u001b[43mkwargs\u001b[49m\u001b[43m)\u001b[49m\n\u001b[0;32m   1764\u001b[0m result \u001b[38;5;241m=\u001b[39m \u001b[38;5;28;01mNone\u001b[39;00m\n\u001b[0;32m   1765\u001b[0m called_always_called_hooks \u001b[38;5;241m=\u001b[39m \u001b[38;5;28mset\u001b[39m()\n",
      "File \u001b[1;32mD:\\venvs\\dl\\Lib\\site-packages\\torch\\nn\\modules\\linear.py:125\u001b[0m, in \u001b[0;36mLinear.forward\u001b[1;34m(self, input)\u001b[0m\n\u001b[0;32m    124\u001b[0m \u001b[38;5;28;01mdef\u001b[39;00m\u001b[38;5;250m \u001b[39m\u001b[38;5;21mforward\u001b[39m(\u001b[38;5;28mself\u001b[39m, \u001b[38;5;28minput\u001b[39m: Tensor) \u001b[38;5;241m-\u001b[39m\u001b[38;5;241m>\u001b[39m Tensor:\n\u001b[1;32m--> 125\u001b[0m     \u001b[38;5;28;01mreturn\u001b[39;00m \u001b[43mF\u001b[49m\u001b[38;5;241;43m.\u001b[39;49m\u001b[43mlinear\u001b[49m\u001b[43m(\u001b[49m\u001b[38;5;28;43minput\u001b[39;49m\u001b[43m,\u001b[49m\u001b[43m \u001b[49m\u001b[38;5;28;43mself\u001b[39;49m\u001b[38;5;241;43m.\u001b[39;49m\u001b[43mweight\u001b[49m\u001b[43m,\u001b[49m\u001b[43m \u001b[49m\u001b[38;5;28;43mself\u001b[39;49m\u001b[38;5;241;43m.\u001b[39;49m\u001b[43mbias\u001b[49m\u001b[43m)\u001b[49m\n",
      "\u001b[1;31mRuntimeError\u001b[0m: Expected all tensors to be on the same device, but found at least two devices, cuda:0 and cpu! (when checking argument for argument mat1 in method wrapper_CUDA_addmm)"
     ]
    },
    {
     "data": {
      "image/png": "[encoded data removed]",
      "text/plain": [
       "<Figure size 640x480 with 1 Axes>"
      ]
     },
     "metadata": {},
     "output_type": "display_data"
    }
   ],
   "source": [
    "plt.scatter(data.Education,data.Income)\n",
    "plt.plot(X_.numpy(),model(X_).data.numpy(),c='r')"
   ]
  },
  {
   "cell_type": "code",
   "execution_count": 135,
   "id": "83ad32f2-b973-4122-b82b-a6b55d5aaae5",
   "metadata": {},
   "outputs": [
    {
     "data": {
      "image/png": "[encoded data removed]",
      "text/plain": [
       "<Figure size 640x480 with 1 Axes>"
      ]
     },
     "metadata": {},
     "output_type": "display_data"
    }
   ],
   "source": [
    "# 假设model已经定义，并且已经在训练后被正确配置\n",
    "device = torch.device(\"cuda\" if torch.cuda.is_available() else \"cpu\")\n",
    "\n",
    "# 确保X_也移动到了与模型相同的设备上\n",
    "X_on_device = X_.to(device)\n",
    "\n",
    "# 使用模型预测，然后将结果移回CPU再转换为numpy数组\n",
    "with torch.no_grad():  # 关闭梯度计算，减少内存占用并加速计算\n",
    "    predictions = model(X_on_device).cpu().numpy()\n",
    "\n",
    "# 如果data.Education和data.Income是pandas Series或DataFrame的一部分，\n",
    "# 确保它们是numpy数组或pandas对象可以直接处理的形式\n",
    "plt.scatter(data.Education, data.Income)\n",
    "plt.plot(X_.numpy(), predictions, c='r')  # 注意这里使用的是predictions而不是直接从模型获取的数据\n",
    "\n",
    "plt.show()"
   ]
  },
  {
   "cell_type": "markdown",
   "id": "0730810a-6477-4254-81a8-df9c28ad2d37",
   "metadata": {},
   "source": [
    "##### 模型训练完之后可以进行保存也可以将其传入新的输入它将会得出预测的值"
   ]
  },
  {
   "cell_type": "code",
   "execution_count": null,
   "id": "36792a4f-d140-4b33-967a-2d20e3df456b",
   "metadata": {},
   "outputs": [],
   "source": [
    "model.save"
   ]
  }
 ],
 "metadata": {
  "kernelspec": {
   "display_name": "Python 3 (ipykernel)",
   "language": "python",
   "name": "python3"
  },
  "language_info": {
   "codemirror_mode": {
    "name": "ipython",
    "version": 3
   },
   "file_extension": ".py",
   "mimetype": "text/x-python",
   "name": "python",
   "nbconvert_exporter": "python",
   "pygments_lexer": "ipython3",
   "version": "3.11.9"
  }
 },
 "nbformat": 4,
 "nbformat_minor": 5
}
