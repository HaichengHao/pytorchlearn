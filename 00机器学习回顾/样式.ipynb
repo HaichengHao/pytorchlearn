{
 "cells": [
  {
   "cell_type": "code",
   "execution_count": 2,
   "id": "94e0c97e-99e2-4d6e-8fd1-ee7efa25e641",
   "metadata": {},
   "outputs": [
    {
     "data": {
      "text/html": [
       "<style type=\"text/css\">\n",
       "    h1{\n",
       "        color:red;\n",
       "    } \n",
       "    h2{\n",
       "        color:blueviolet;\n",
       "    }\n",
       "    h3{\n",
       "        color:tomato;\n",
       "    } \n",
       "    h4{\n",
       "        color:purple;\n",
       "    }\n",
       "    h5{\n",
       "        color:green;\n",
       "    }\n",
       "    table{\n",
       "        border-collapse:collapse; \n",
       "    }\n",
       "    th{\n",
       "        color:blueviolet;\n",
       "        background-color:orange;\n",
       "    }\n",
       "    td:hover{\n",
       "        background-color:blueviolet;\n",
       "        scale:1.2;\n",
       "        transiction:1s all liner;\n",
       "        color:white;\n",
       "        \n",
       "    }\n",
       "    li{\n",
       "        color:orange;\n",
       "    }\n",
       "    p{\n",
       "        color:rgb(0, 157, 253);\n",
       "    }\n",
       "</style>\n"
      ],
      "text/plain": [
       "<IPython.core.display.HTML object>"
      ]
     },
     "metadata": {},
     "output_type": "display_data"
    }
   ],
   "source": [
    "%%HTML\n",
    "<style type=\"text/css\">\n",
    "    h1{\n",
    "        color:red;\n",
    "    } \n",
    "    h2{\n",
    "        color:blueviolet;\n",
    "    }\n",
    "    h3{\n",
    "        color:tomato;\n",
    "    } \n",
    "    h4{\n",
    "        color:purple;\n",
    "    }\n",
    "    h5{\n",
    "        color:green;\n",
    "    }\n",
    "    table{\n",
    "        border-collapse:collapse; \n",
    "    }\n",
    "    th{\n",
    "        color:blueviolet;\n",
    "        background-color:orange;\n",
    "    }\n",
    "    td:hover{\n",
    "        background-color:blueviolet;\n",
    "        scale:1.2;\n",
    "        transiction:1s all liner;\n",
    "        color:white;\n",
    "        \n",
    "    }\n",
    "    li{\n",
    "        color:orange;\n",
    "    }\n",
    "    p{\n",
    "        color:rgb(0, 157, 253);\n",
    "    }\n",
    "</style>"
   ]
  },
  {
   "cell_type": "code",
   "execution_count": null,
   "id": "ac57c852-b10c-44b4-9d32-6ac23b5ae1bc",
   "metadata": {},
   "outputs": [],
   "source": []
  }
 ],
 "metadata": {
  "kernelspec": {
   "display_name": "Python 3 (ipykernel)",
   "language": "python",
   "name": "python3"
  },
  "language_info": {
   "codemirror_mode": {
    "name": "ipython",
    "version": 3
   },
   "file_extension": ".py",
   "mimetype": "text/x-python",
   "name": "python",
   "nbconvert_exporter": "python",
   "pygments_lexer": "ipython3",
   "version": "3.11.9"
  }
 },
 "nbformat": 4,
 "nbformat_minor": 5
}
