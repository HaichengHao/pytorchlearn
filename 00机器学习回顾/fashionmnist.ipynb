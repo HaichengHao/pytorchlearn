{
 "cells": [
  {
   "cell_type": "markdown",
   "id": "d616de00-f83d-42fb-96da-7694c8ff9ecd",
   "metadata": {},
   "source": [
    "# 使用fashionMNIST数据集"
   ]
  },
  {
   "cell_type": "markdown",
   "id": "88cd28a8-1c28-4867-9f4d-4d1efbd4e064",
   "metadata": {},
   "source": [
    "## 导包 "
   ]
  },
  {
   "cell_type": "code",
   "execution_count": 1,
   "id": "bd2239ae-5ca5-45aa-ad3e-2eae95e32c43",
   "metadata": {},
   "outputs": [],
   "source": [
    "import torch\n",
    "import torch.nn as nn \n",
    "import torch.nn.functional as F \n",
    "from torchvision import datasets,transforms"
   ]
  },
  {
   "cell_type": "markdown",
   "id": "d9f27a8c-41f7-4a4b-b4d5-041b06b86772",
   "metadata": {},
   "source": [
    "## 创建模型 "
   ]
  },
  {
   "cell_type": "code",
   "execution_count": 2,
   "id": "8298d35a-86ba-4c3b-b8f7-54c965c4b1da",
   "metadata": {},
   "outputs": [],
   "source": [
    "class Net(nn.Module): \n",
    "    def __init__(self):\n",
    "        super().__init__()\n",
    "        self.fc1 = nn.Linear(784,1000) \n",
    "        self.fc2 = nn.Linear(1000,500)\n",
    "        self.fc3 = nn.Linear(500,200) \n",
    "        self.fc4 = nn.Linear(200,10) \n",
    "    def forward(self,x):\n",
    "        x = x.view(-1,28*28) # 展平输入\n",
    "        x = F.relu(self.fc1(x))\n",
    "        x = F.relu(self.fc2(x)) \n",
    "        x = F.relu(self.fc3(x)) \n",
    "        x = self.fc4(x)  \n",
    "        return F.log_softmax(x,dim=1)\n",
    "        "
   ]
  },
  {
   "cell_type": "markdown",
   "id": "1c642c34-496a-4fb2-af64-c9a0966078b0",
   "metadata": {},
   "source": [
    "## 定义训练函数 "
   ]
  },
  {
   "cell_type": "code",
   "execution_count": 12,
   "id": "9d38fedd-215a-4981-86de-90ef615cd923",
   "metadata": {},
   "outputs": [],
   "source": [
    "def fit_gpu(Train_DL,TST_DL,Model_m,epoch_,optim,loss_fn): \n",
    "    correct = 0\n",
    "    total = 0\n",
    "    running_loss = 0\n",
    "    tstcorrect = 0\n",
    "    tsttotal = 0\n",
    "    tstrunning_loss = 0\n",
    "    device = torch.device(\"cuda\" if torch.cuda.is_available() else \"cpu\")\n",
    "    Model_m.to(device)\n",
    "   \n",
    "    #创建俩列表接收损失值和精度值\n",
    "    # train_loss_lst = []\n",
    "    # train_acc_lst = []\n",
    "    # tst_loss_lst=[]\n",
    "    # tst_acc_lst=[]\n",
    "  \n",
    "    Model_m.train()  # 设置为训练模式\n",
    "    for x, y in Train_DL:\n",
    "        x = x.to(device)\n",
    "        y = y.to(device)\n",
    "        \n",
    "        y_pred = Model_m(x)\n",
    "        loss = loss_fn(y_pred, y)\n",
    "        \n",
    "        optim.zero_grad()\n",
    "        loss.backward()\n",
    "        optim.step()\n",
    "\n",
    "        # 每个epoch结束后评估模型\n",
    "   \n",
    "        with torch.no_grad():\n",
    "            y_pred = torch.argmax(y_pred,dim=1)\n",
    "            correct += (y_pred == y).sum().item() #预测正确的个数\n",
    "            # 因为(y_pred == y).sum()是一个张量,所以为了灯饰可以数值操作,我们用.item()取值\n",
    "            total += y.size(0) #样本的个数\n",
    "            running_loss += loss.item()\n",
    "\n",
    "        \n",
    "    epoch_acc = correct/total\n",
    "    epoch_loss = running_loss/len(Train_DL.dataset)\n",
    "\n",
    "    #测试阶段 \n",
    "    Model_m.eval()\n",
    "    with torch.no_grad(): #测试不需要反向传播,而是用训练好的模型来测试测试集的数据\n",
    "         for x, y in TST_DL:\n",
    "             x, y = x.to(device), y.to(device)\n",
    "             y_pred =Model_m(x)\n",
    "             loss = loss_fn(y_pred, y)\n",
    "             \n",
    "             y_pred = torch.argmax(y_pred,dim=1)   #获取真正的预测结果,不懂就往上巴拉argmax\n",
    "             tstcorrect += (y_pred == y).sum().item() #预测正确的个数\n",
    "             tsttotal += y.size(0) #样本的个数\n",
    "             tstrunning_loss += loss.item()\n",
    "             \n",
    "    tstepoch_acc = tstcorrect/tsttotal\n",
    "    tstepoch_loss = tstrunning_loss/len(TST_DL.dataset)\n",
    "\n",
    "    print(\n",
    "        f'epoch:{epoch} | loss:{epoch_loss:.3f} | acc:{epoch_acc:.3f} | tstloss:{tstepoch_loss:.3f} | tstacc:{tstepoch_acc:.3f}'\n",
    "    )\n",
    "\n",
    "    return epoch_loss,epoch_acc,tstepoch_loss,tstepoch_acc\n"
   ]
  },
  {
   "cell_type": "markdown",
   "id": "103e54fd-aa2c-44ca-b369-a9c95e82a20c",
   "metadata": {},
   "source": [
    "## 数据预处理 "
   ]
  },
  {
   "cell_type": "code",
   "execution_count": 4,
   "id": "1e060d91-9219-4ce6-9964-d9e48bdab896",
   "metadata": {},
   "outputs": [],
   "source": [
    "transform = transforms.Compose([\n",
    "    transforms.ToTensor(), \n",
    "    transforms.Normalize((0.5,),(0.5,)) ## FashionMNIST 是灰度图，所以是单通道\n",
    "])"
   ]
  },
  {
   "cell_type": "markdown",
   "id": "a5a28ad5-6e09-4200-a074-103be72433a2",
   "metadata": {},
   "source": [
    "## 加载训练集和测试集 "
   ]
  },
  {
   "cell_type": "code",
   "execution_count": 5,
   "id": "9f803e0d-110b-4356-b23a-bcb77076a0e4",
   "metadata": {},
   "outputs": [
    {
     "name": "stderr",
     "output_type": "stream",
     "text": [
      "100%|█████████████████████████████████████████████████████████████████████████████| 5.15k/5.15k [00:00<00:00, 17.0kB/s]\n"
     ]
    }
   ],
   "source": [
    "#加载训练集和测试集\n",
    "train_dataset = datasets.FashionMNIST(root='./data', train=True, download=True, transform=transform)\n",
    "test_dataset = datasets.FashionMNIST(root='./data', train=False, download=True, transform=transform)\n",
    "\n",
    "# 创建 DataLoader\n",
    "train_loader = torch.utils.data.DataLoader(train_dataset, batch_size=64, shuffle=True)\n",
    "test_loader = torch.utils.data.DataLoader(test_dataset, batch_size=64, shuffle=False)"
   ]
  },
  {
   "cell_type": "markdown",
   "id": "69e1f320-0ca1-4312-a88f-2bb388317c6b",
   "metadata": {},
   "source": [
    "## 创建模型对象 "
   ]
  },
  {
   "cell_type": "code",
   "execution_count": 6,
   "id": "548e206b-f33f-4509-8960-9f09c020bee0",
   "metadata": {},
   "outputs": [],
   "source": [
    "model = Net()"
   ]
  },
  {
   "cell_type": "code",
   "execution_count": 7,
   "id": "1b8c4219-5660-4207-b03a-5d40ce04c886",
   "metadata": {},
   "outputs": [
    {
     "data": {
      "text/plain": [
       "Net(\n",
       "  (fc1): Linear(in_features=784, out_features=1000, bias=True)\n",
       "  (fc2): Linear(in_features=1000, out_features=500, bias=True)\n",
       "  (fc3): Linear(in_features=500, out_features=200, bias=True)\n",
       "  (fc4): Linear(in_features=200, out_features=10, bias=True)\n",
       ")"
      ]
     },
     "execution_count": 7,
     "metadata": {},
     "output_type": "execute_result"
    }
   ],
   "source": [
    "model"
   ]
  },
  {
   "cell_type": "markdown",
   "id": "10cf7e25-9e15-4703-bf5a-5c5fcdcd3972",
   "metadata": {},
   "source": [
    "## 定义优化函数和损失函数"
   ]
  },
  {
   "cell_type": "code",
   "execution_count": 8,
   "id": "01421b99-ab89-46c2-84e6-b5a367c1738f",
   "metadata": {},
   "outputs": [],
   "source": [
    "optimizer = torch.optim.Adam(model.parameters(),lr=0.001)\n",
    "loss_fn = nn.NLLLoss() "
   ]
  },
  {
   "cell_type": "markdown",
   "id": "bc1cba5e-676d-4868-aa59-fec36c0e3e03",
   "metadata": {},
   "source": [
    "## 开训 "
   ]
  },
  {
   "cell_type": "code",
   "execution_count": 14,
   "id": "19f239d9-97f2-4644-9f54-509167b5c089",
   "metadata": {},
   "outputs": [
    {
     "name": "stdout",
     "output_type": "stream",
     "text": [
      "epoch:0 | loss:0.002 | acc:0.951 | tstloss:0.007 | tstacc:0.888\n",
      "epoch:1 | loss:0.002 | acc:0.954 | tstloss:0.007 | tstacc:0.893\n",
      "epoch:2 | loss:0.002 | acc:0.955 | tstloss:0.007 | tstacc:0.889\n",
      "epoch:3 | loss:0.002 | acc:0.957 | tstloss:0.008 | tstacc:0.884\n",
      "epoch:4 | loss:0.002 | acc:0.959 | tstloss:0.008 | tstacc:0.887\n",
      "epoch:5 | loss:0.002 | acc:0.962 | tstloss:0.008 | tstacc:0.893\n",
      "epoch:6 | loss:0.002 | acc:0.963 | tstloss:0.008 | tstacc:0.893\n",
      "epoch:7 | loss:0.002 | acc:0.964 | tstloss:0.008 | tstacc:0.892\n",
      "epoch:8 | loss:0.001 | acc:0.965 | tstloss:0.009 | tstacc:0.889\n",
      "epoch:9 | loss:0.001 | acc:0.967 | tstloss:0.009 | tstacc:0.890\n"
     ]
    }
   ],
   "source": [
    "epochs = 10 \n",
    "train_loss = [] \n",
    "train_acc = [] \n",
    "test_loss = [] \n",
    "test_acc = [] \n",
    "\n",
    "for epoch in range(epochs): \n",
    "        loss,acc,tst_loss,tst_acc = fit_gpu(train_loader,test_loader,model,epoch,optimizer,loss_fn) \n",
    "        train_loss.append(loss)\n",
    "        train_acc.append(acc)\n",
    "        test_loss.append(tst_loss)\n",
    "        test_acc.append(tst_acc)"
   ]
  },
  {
   "cell_type": "code",
   "execution_count": 15,
   "id": "dbd5eab8-8a1d-4684-8620-1c3cb05caa55",
   "metadata": {},
   "outputs": [
    {
     "data": {
      "text/plain": [
       "[0.0020020655678740394,\n",
       " 0.0019361820433288813,\n",
       " 0.0018076038382947445,\n",
       " 0.0017652351759762193,\n",
       " 0.0016955898274318316,\n",
       " 0.0015811584861172984,\n",
       " 0.0015708917707554064,\n",
       " 0.0015227072541601956,\n",
       " 0.0014837852343024375,\n",
       " 0.001392743195585596]"
      ]
     },
     "execution_count": 15,
     "metadata": {},
     "output_type": "execute_result"
    }
   ],
   "source": [
    "train_loss"
   ]
  },
  {
   "cell_type": "code",
   "execution_count": 16,
   "id": "0e8e211d-087d-48ef-9880-4cd593d31ad0",
   "metadata": {},
   "outputs": [
    {
     "data": {
      "image/png": "[encoded data removed]",
      "text/plain": [
       "<Figure size 1200x400 with 2 Axes>"
      ]
     },
     "metadata": {},
     "output_type": "display_data"
    }
   ],
   "source": [
    "import matplotlib.pyplot as plt\n",
    "\n",
    "plt.figure(figsize=(12, 4))\n",
    "\n",
    "plt.subplot(1, 2, 1)\n",
    "plt.plot(train_loss, label='Train Loss')\n",
    "plt.plot(test_loss, label='Test Loss')\n",
    "plt.legend()\n",
    "plt.title('Loss Curve')\n",
    "\n",
    "plt.subplot(1, 2, 2)\n",
    "plt.plot(train_acc, label='Train Acc')\n",
    "plt.plot(test_acc, label='Test Acc')\n",
    "plt.legend()\n",
    "plt.title('Accuracy Curve')\n",
    "\n",
    "plt.show()"
   ]
  },
  {
   "cell_type": "markdown",
   "id": "63bffb73-a735-4234-9ef6-26fd30400063",
   "metadata": {},
   "source": [
    "你贴出的训练日志如下：\n",
    "\n",
    "```\n",
    "epoch:0 | loss:0.002 | acc:0.951 | tstloss:0.007 | tstacc:0.888\n",
    "epoch:1 | loss:0.002 | acc:0.954 | tstloss:0.007 | tstacc:0.893\n",
    "...\n",
    "epoch:9 | loss:0.001 | acc:0.967 | tstloss:0.009 | tstacc:0.890\n",
    "```\n",
    "\n",
    "从你的描述来看，你觉得“**有点不对劲**”，我来帮你分析一下这些数据是否正常、有没有问题，并提供优化建议。\n",
    "\n",
    "---\n",
    "\n",
    "## 🧐 一、先看指标趋势\n",
    "\n",
    "| 指标        | 训练集（train）       | 测试集（test）         |\n",
    "|-------------|------------------------|-------------------------|\n",
    "| Loss        | 下降（从 0.002 → 0.001）| 上升（从 0.007 → 0.009）|\n",
    "| Accuracy    | 上升（从 95.1% → 96.7%）| 基本持平（约 89% 左右） |\n",
    "\n",
    "### 🔍 初步判断：\n",
    "- **模型在训练集上表现越来越好**\n",
    "- **但在测试集上准确率没有提升，甚至损失上升了**\n",
    "\n",
    "这说明模型可能出现了 **过拟合（Overfitting）**\n",
    "\n",
    "---\n",
    "\n",
    "## 📉 二、为什么会出现这种情况？\n",
    "\n",
    "### 可能原因：\n",
    "\n",
    "| 原因 | 描述 |\n",
    "|------|------|\n",
    "| **网络太复杂** | 你现在用的是一个四层全连接网络（784→1000→500→200→10），对 FashionMNIST 来说可能有点“大材小用”了。容易记住训练样本而泛化能力差。 |\n",
    "| **没有正则化/防止过拟合机制** | 没有使用 Dropout、BatchNorm、L2 正则化等手段 |\n",
    "| **训练轮次过多** | 虽然只训练了 10 个 epoch，但已经显示出轻微过拟合迹象 |\n",
    "| **学习率设置过高或未调整** | 如果学习率太大，模型会快速收敛到局部最小值并难以跳出 |\n",
    "\n",
    "---\n",
    "\n",
    "## ✅ 三、目前的表现是否合理？\n",
    "\n",
    "是的，基本符合预期：\n",
    "\n",
    "- FashionMNIST 是一个中等难度的数据集，一般 CNN 模型可以轻松达到 90% 以上测试准确率。\n",
    "- 你现在的模型是 **纯全连接网络（MLP）**，本身就不适合图像任务（CNN 更合适），所以 89% 的准确率是可以接受的。\n",
    "- **训练准确率 > 测试准确率** 是正常的，但如果差距越来越大，就需要注意过拟合。\n",
    "\n",
    "---\n",
    "\n",
    "## 🛠️ 四、改进建议（让你的结果更好）\n",
    "\n",
    "### ✅ 1. 使用更合适的模型结构（推荐）\n",
    "\n",
    "你可以把当前的 MLP 替换为简单的 CNN 网络，例如：\n",
    "\n",
    "```python\n",
    "class Net(nn.Module):\n",
    "    def __init__(self):\n",
    "        super().__init__()\n",
    "        self.conv1 = nn.Conv2d(1, 16, kernel_size=3)\n",
    "        self.conv2 = nn.Conv2d(16, 32, kernel_size=3)\n",
    "        self.fc1 = nn.Linear(32 * 5 * 5, 128)\n",
    "        self.fc2 = nn.Linear(128, 10)\n",
    "\n",
    "    def forward(self, x):\n",
    "        x = F.relu(F.max_pool2d(self.conv1(x), 2))\n",
    "        x = F.relu(F.max_pool2d(self.conv2(x), 2))\n",
    "        x = x.view(-1, 32 * 5 * 5)\n",
    "        x = F.relu(self.fc1(x))\n",
    "        x = self.fc2(x)\n",
    "        return F.log_softmax(x, dim=1)\n",
    "```\n",
    "\n",
    "这样通常可以获得更高的精度（比如 90%+）\n",
    "\n",
    "---\n",
    "\n",
    "### ✅ 2. 添加正则化方法\n",
    "\n",
    "你可以尝试添加以下任意一种：\n",
    "\n",
    "```python\n",
    "self.dropout = nn.Dropout(0.5)  # 在 fc 层之间加 dropout\n",
    "self.bn = nn.BatchNorm1d(500)   # 添加 BatchNorm\n",
    "```\n",
    "\n",
    "并在 `forward` 中使用它们。\n",
    "\n",
    "---\n",
    "\n",
    "### ✅ 3. 使用早停机制（Early Stopping）\n",
    "\n",
    "当测试损失不再下降时提前终止训练，避免浪费资源和过拟合。\n",
    "\n",
    "---\n",
    "\n",
    "### ✅ 4. 学习率调度器（Learning Rate Scheduler）\n",
    "\n",
    "```python\n",
    "scheduler = torch.optim.lr_scheduler.ReduceLROnPlateau(optimizer, 'min', patience=2)\n",
    "```\n",
    "\n",
    "然后在每个 epoch 后调用：\n",
    "\n",
    "```python\n",
    "scheduler.step(tstepoch_loss)\n",
    "```\n",
    "\n",
    "---\n",
    "\n",
    "### ✅ 5. 使用 `CrossEntropyLoss` + 去掉 `log_softmax`\n",
    "\n",
    "如果你不想写 `F.log_softmax(x, dim=1)`，可以直接返回原始输出：\n",
    "\n",
    "```python\n",
    "def forward(self, x):\n",
    "    ...\n",
    "    return x  # 不再做 log_softmax\n",
    "```\n",
    "\n",
    "然后换成：\n",
    "\n",
    "```python\n",
    "loss_fn = nn.CrossEntropyLoss()\n",
    "```\n",
    "\n",
    "这是最常见也最方便的做法。\n",
    "\n",
    "---\n",
    "\n",
    "## 📊 五、总结：你目前的模型结果是否“异常”？\n",
    "\n",
    "| 指标 | 当前表现 | 是否正常 |\n",
    "|------|----------|----------|\n",
    "| Train Acc ↑ | 从 95% → 96.7% | ✅ 正常 |\n",
    "| Test Acc ≈ | 稳定在 ~89% | ✅ 正常 |\n",
    "| Train Loss ↓ | 逐渐减小 | ✅ 正常 |\n",
    "| Test Loss ↑ | 开始上升 | ⚠️ 注意过拟合 |\n",
    "\n",
    "---\n",
    "\n",
    "## ✅ 最终建议\n",
    "\n",
    "- ✅ 目前的结果是合理的，不要担心\n",
    "- ✅ 想要提升性能可以尝试：\n",
    "  - 改成 CNN 结构\n",
    "  - 加入 Dropout 或 BatchNorm\n",
    "  - 使用 CrossEntropyLoss + 原始输出\n",
    "  - 引入学习率调度器或早停机制\n",
    "\n",
    "---\n",
    "\n",
    "如果你想，我可以直接给你一个改进后的完整代码模板，包含 CNN + Dropout + Early Stopping + CrossEntropyLoss 👇  \n",
    "需要的话告诉我！ 😄"
   ]
  },
  {
   "cell_type": "markdown",
   "id": "2eefe40d-ad06-4dde-95bc-4094aa443ad3",
   "metadata": {},
   "source": [
    "你问得非常好！我们来详细解释一下：\n",
    "\n",
    "---\n",
    "\n",
    "## 🧠 问题回顾\n",
    "\n",
    "你在模型的 `forward` 函数中写了这句：\n",
    "\n",
    "```python\n",
    "return F.log_softmax(x, dim=1)\n",
    "```\n",
    "\n",
    "而你之前可能写过类似这样：\n",
    "\n",
    "```python\n",
    "return x\n",
    "```\n",
    "\n",
    "那么这两者有什么区别？为什么要用 `F.log_softmax`？\n",
    "\n",
    "---\n",
    "\n",
    "## ✅ 答案一句话总结：\n",
    "\n",
    "> **`F.log_softmax(x, dim=1)` 是对输出做一个 log 概率变换，用于分类任务。它把神经网络输出的原始分数（logits）转换成 log 概率形式，便于后续使用负对数似然损失函数（如 `nn.NLLLoss()`）。**\n",
    "\n",
    "---\n",
    "\n",
    "## 📌 详细解释\n",
    "\n",
    "### 1. **什么是 `softmax`？**\n",
    "\n",
    "在多分类任务中，神经网络最后一层通常输出一个长度等于类别数量的向量，例如有 10 类时输出就是 `[2.3, -0.5, ..., 1.7]` 这样的“原始分数”（也叫 logits）。\n",
    "\n",
    "**Softmax 的作用：**\n",
    "- 把这些 raw scores 转换成 **概率分布**，也就是每个类别的预测概率。\n",
    "- 所有输出加起来等于 1，方便我们理解哪个类的概率最高。\n",
    "\n",
    "公式如下：\n",
    "\n",
    "$$\n",
    "\\text{softmax}(x_i) = \\frac{e^{x_i}}{\\sum_j e^{x_j}}\n",
    "$$\n",
    "\n",
    "---\n",
    "\n",
    "### 2. **什么是 `log_softmax`？**\n",
    "\n",
    "`log_softmax` 就是先做 softmax，然后再取自然对数：\n",
    "\n",
    "$$\n",
    "\\text{log\\_softmax}(x_i) = \\log\\left(\\frac{e^{x_i}}{\\sum_j e^{x_j}}\\right)\n",
    "$$\n",
    "\n",
    "这样做是为了数值稳定性，在计算交叉熵损失时更高效、更稳定。\n",
    "\n",
    "---\n",
    "\n",
    "### 3. **为什么搭配 `NLLLoss()` 使用？**\n",
    "\n",
    "你用了：\n",
    "\n",
    "```python\n",
    "loss_fn = nn.NLLLoss()\n",
    "```\n",
    "\n",
    "这个损失函数的全称是 **Negative Log-Likelihood Loss**，它的输入要求是 **log 概率**，正好对应 `log_softmax` 的输出。\n",
    "\n",
    "所以：\n",
    "- 如果你用的是 `F.log_softmax(...)`，那就要配合 `nn.NLLLoss()`\n",
    "- 如果你用的是 `F.softmax(...)`，那你应该用 `nn.CrossEntropyLoss()`（它内部已经包含了 softmax + NLL）\n",
    "\n",
    "---\n",
    "\n",
    "## 🎯 总结对比\n",
    "\n",
    "| 输出方式 | 损失函数 | 是否推荐 |\n",
    "|----------|-----------|-----------|\n",
    "| `return x` | `nn.CrossEntropyLoss()` | ✅ 推荐（最常用） |\n",
    "| `return F.log_softmax(x, dim=1)` | `nn.NLLLoss()` | ✅ 推荐（数值稳定） |\n",
    "| `return F.softmax(x, dim=1)` | ❌ 不建议直接配合损失函数 | ❌ 不推荐 |\n",
    "\n",
    "---\n",
    "\n",
    "## 💡 示例说明\n",
    "\n",
    "假设你的模型输出是：\n",
    "\n",
    "```python\n",
    "x = [2.0, 1.0, 0.1]  # 假设是三分类问题\n",
    "```\n",
    "\n",
    "- `F.softmax(x)` → `[0.665, 0.245, 0.090]`\n",
    "- `F.log_softmax(x)` → `[-0.424, -1.402, -2.408]`\n",
    "- 然后如果你的真实标签是 `y = 0`（即第一类），`NLLLoss` 会取第一个位置的值作为 loss：`0.424`\n",
    "\n",
    "---\n",
    "\n",
    "## ✅ 结论\n",
    "\n",
    "你现在写的：\n",
    "\n",
    "```python\n",
    "return F.log_softmax(x, dim=1)\n",
    "```\n",
    "\n",
    "是一个非常标准的做法，尤其适合搭配：\n",
    "\n",
    "```python\n",
    "loss_fn = nn.NLLLoss()\n",
    "```\n",
    "\n",
    "它是深度学习中处理分类任务的一种常见组合，数值上更稳定，效果和 `CrossEntropyLoss` 是等价的。\n",
    "\n",
    "---\n",
    "\n",
    "如果你愿意，我也可以帮你把这段代码改成使用 `CrossEntropyLoss()`，这样就不需要手动加 `log_softmax` 了。是否需要呢？ 😄"
   ]
  }
 ],
 "metadata": {
  "kernelspec": {
   "display_name": "Python 3 (ipykernel)",
   "language": "python",
   "name": "python3"
  },
  "language_info": {
   "codemirror_mode": {
    "name": "ipython",
    "version": 3
   },
   "file_extension": ".py",
   "mimetype": "text/x-python",
   "name": "python",
   "nbconvert_exporter": "python",
   "pygments_lexer": "ipython3",
   "version": "3.11.9"
  }
 },
 "nbformat": 4,
 "nbformat_minor": 5
}
