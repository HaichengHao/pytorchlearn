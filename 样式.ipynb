{
 "cells": [
  {
   "cell_type": "code",
   "execution_count": 2,
   "id": "94c98a02-02e9-43cb-aa33-b880936337f8",
   "metadata": {},
   "outputs": [
    {
     "data": {
      "text/html": [
       "<style type=\"text/css\">\n",
       "    h1{\n",
       "        color:red;\n",
       "    } \n",
       "    h2{\n",
       "        color:blueviolet;\n",
       "    }\n",
       "    h3{\n",
       "        color:tomato;\n",
       "    } \n",
       "    h4{\n",
       "        color:purple;\n",
       "    }\n",
       "    h5{\n",
       "        color:green;\n",
       "    }\n",
       "    table{\n",
       "        border-collapse:collapse; \n",
       "    }\n",
       "    th{\n",
       "        color:blueviolet;\n",
       "        background-color:orange;\n",
       "    }\n",
       "    td:hover{\n",
       "        background-color:blueviolet;\n",
       "        scale:1.2;\n",
       "        transiction:1s all liner;\n",
       "        color:white;\n",
       "        \n",
       "    }\n",
       "    li{\n",
       "        color:tomato;\n",
       "    }\n",
       "    p{\n",
       "        color:rgb(0, 157, 253);\n",
       "    }\n",
       "   \n",
       "</style>\n"
      ],
      "text/plain": [
       "<IPython.core.display.HTML object>"
      ]
     },
     "metadata": {},
     "output_type": "display_data"
    }
   ],
   "source": [
    "%%HTML\n",
    "<style type=\"text/css\">\n",
    "    h1{\n",
    "        color:red;\n",
    "    } \n",
    "    h2{\n",
    "        color:blueviolet;\n",
    "    }\n",
    "    h3{\n",
    "        color:tomato;\n",
    "    } \n",
    "    h4{\n",
    "        color:purple;\n",
    "    }\n",
    "    h5{\n",
    "        color:green;\n",
    "    }\n",
    "    table{\n",
    "        border-collapse:collapse; \n",
    "    }\n",
    "    th{\n",
    "        color:blueviolet;\n",
    "        background-color:orange;\n",
    "    }\n",
    "    td:hover{\n",
    "        background-color:blueviolet;\n",
    "        scale:1.2;\n",
    "        transiction:1s all liner;\n",
    "        color:white;\n",
    "        \n",
    "    }\n",
    "    li{\n",
    "        color:tomato;\n",
    "    }\n",
    "    p{\n",
    "        color:rgb(0, 157, 253);\n",
    "    }\n",
    "   \n",
    "</style>"
   ]
  },
  {
   "cell_type": "code",
   "execution_count": null,
   "id": "989caac1-7ae7-4dc1-b279-d3b4ab31f01c",
   "metadata": {},
   "outputs": [],
   "source": []
  }
 ],
 "metadata": {
  "kernelspec": {
   "display_name": "Python 3 (ipykernel)",
   "language": "python",
   "name": "python3"
  },
  "language_info": {
   "codemirror_mode": {
    "name": "ipython",
    "version": 3
   },
   "file_extension": ".py",
   "mimetype": "text/x-python",
   "name": "python",
   "nbconvert_exporter": "python",
   "pygments_lexer": "ipython3",
   "version": "3.11.9"
  }
 },
 "nbformat": 4,
 "nbformat_minor": 5
}
